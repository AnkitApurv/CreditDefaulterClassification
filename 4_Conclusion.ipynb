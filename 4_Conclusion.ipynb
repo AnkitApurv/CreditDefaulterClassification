{
 "cells": [
  {
   "cell_type": "markdown",
   "metadata": {
    "jupyter": {
     "outputs_hidden": true
    }
   },
   "source": [
    "# Conclusion"
   ]
  },
  {
   "cell_type": "markdown",
   "metadata": {},
   "source": [
    "## Objective:\n",
    "To build the most relevant classification model for the given credit cards defaulter's dataset.\n",
    "\n",
    "It may be better to conclude with following three resultant models as the solution to this binary classification problem:\n",
    "1. Model for Defaulter class.\n",
    "2. Model for Non-Defaulter class.\n",
    "3. Model for overall best accuracy."
   ]
  },
  {
   "cell_type": "markdown",
   "metadata": {},
   "source": [
    "## Metric for Model selection:\n",
    "\n",
    "1. Model for Defaulter class: Defaulter class' Recall, then Macro average recall (balanced accuracy), \n",
    "because it takes defaulters predicted as non-defaulter into account.\n",
    "\n",
    "2. Model for Non-Defaulter class: Non-Defaulter class' Recall, then Macro average recall (balanced accuracy), \n",
    "\n",
    "3. Model for overall best balanced-accuracy: Macro average recall (balanced accuracy), then Defaulter class' Recall, then count of Defaulters classified as Non_Defaulters.\n",
    "\n",
    "Test dataset size: 7500 data-points.\n",
    "\n",
    "Note: If for any of these resultant models, multiple models are candidates of equal merit, the model with lower False Negative result should be considered."
   ]
  },
  {
   "cell_type": "markdown",
   "metadata": {},
   "source": [
    "## Questions:\n",
    "\n",
    "1. For a resultant model with highest macro average recall (balanced accuracy), is True Positive or True Negative metric of higher priority?\n",
    "\n",
    "Predicting defaulter as defaulter (True Positive) is higher priority than predicting non-defaulter as non-defaulter (True Negative).\n",
    "\n",
    "2. Will it be better to predict non-defaulter as defaulter OR defaulter as non-defaulter?\n",
    "\n",
    "It will be better to predict non-defaulter as defaulter (False Positive) in high credit demand and relatively ok credit availability scenario.\n",
    "\n",
    "Predicting defaulter as non-defaulter (False Negative) will be the worst case scenario, it will always lead to bad loans, NPAs and eventual dearth of credit."
   ]
  },
  {
   "cell_type": "markdown",
   "metadata": {},
   "source": [
    "## Defaulter class\n",
    "\n",
    "#### Candidate models:\n",
    "\n",
    "1. Gaussian Naive Bayes, feature engineered, normalized, dimentionality reduced, oversampled.\n",
    "\n",
    "Recall: 0.86  |  Macro_average_recall: 0.60  |  Defaulters_classified_as_Non_defaulters: 238\n",
    "\n",
    "2. Voting with Logistic, NaiveBayes and SVM, soft vote, feature engineered, normalized, dimentionality reduced, oversampled.\n",
    "\n",
    "Recall: 0.79  |  Macro_average_recall: 0.64  |  Defaulters_classified_as_Non_defaulters: 356\n",
    "\n",
    "3. Voting with Logistic, NaiveBayes and SVM, hard vote, feature engineered, normalized, dimentionality reduced, oversampled.\n",
    "\n",
    "Recall: 0.74  |  Macro_average_recall: 0.65  |  Defaulters_classified_as_Non_defaulters: 437\n",
    "\n",
    "4. Logistic Regression, feature engineered, normalized, dimentionality reduced.\n",
    "\n",
    "Recall: 0.65  |  Macro_average_recall: 0.69  |  Defaulters_classified_as_Non_defaulters: 576\n",
    "\n",
    "#### Best model:\n",
    "Gaussian Naive Bayes, feature engineered, normalized, dimentionality reduced, oversampled.\n",
    "\n",
    "Caveat: Very poor classifier for Non-Defaulter class with Non_Defaulter_Recall: 0.35"
   ]
  },
  {
   "cell_type": "markdown",
   "metadata": {},
   "source": [
    "## Non-Defaulter class\n",
    "\n",
    "#### Candidate models:\n",
    "\n",
    "1. Benchmark Decision Tree, feature engineered.\n",
    "\n",
    "Recall: 0.95  |  Macro_average_recall: 0.66  |  Defaulters_classified_as_Non_defaulters: 1051\n",
    "\n",
    "2. Benchmark Decision Tree.\n",
    "\n",
    "Recall: 0.95  |  Macro_average_recall: 0.66  |  Defaulters_classified_as_Non_defaulters: 1055\n",
    "\n",
    "3. Gradient Boosting of Logistic Regression, feature engineered, normalized, dimentionality reduced.\n",
    "\n",
    "Recall: 0.94  |  Macro_average_recall: 0.65  |  Defaulters_classified_as_Non_defaulters: 1050\n",
    "\n",
    "4. Support Vector Machine with Linear Kernel, feature engineered, normalized, dimentionality reduced, oversampled.\n",
    "\n",
    "Recall: 0.92  |  Macro_average_recall: 0.66  |  Defaulters_classified_as_Non_defaulters: 975\n",
    "\n",
    "5. Voting with Logistic, NaiveBayes and SVM, soft vote, feature engineered, normalized, dimentionality reduced.\n",
    "\n",
    "Recall: 0.86  |  Macro_average_recall: 0.69  |  Defaulters_classified_as_Non_defaulters: 798\n",
    "\n",
    "#### Best model:\n",
    "\n",
    "Benchmark Decision Tree, feature engineered.\n",
    "\n",
    "Caveat: Very poor classifier for Defaulter class with Defaulter_Recall: 0.36"
   ]
  },
  {
   "cell_type": "markdown",
   "metadata": {},
   "source": [
    "## Best Balanced Accuracy (Macro Average Recall)\n",
    "\n",
    "#### Candicate models:\n",
    "\n",
    "1. Stacking RandomForest, NaiveBayes and SVM with Logistic as meta-estimator, feature engineered, normalized, dimentionality reduced.\n",
    "\n",
    "Macro_average_recall: 0.70  |  Defaulter_Recall: 0.60  |  Defaulters_classified_as_Non_defaulters: 661\n",
    "\n",
    "2. AdaBoost of Random Forest, feature engineered, scaled, dimentionality reduced.\n",
    "\n",
    "Macro_average_recall: 0.70  |  Defaulter_Recall: 0.58  |  Defaulters_classified_as_Non_defaulters: 693\n",
    "\n",
    "3. Logistic Regression,  feature engineered, scaled, dimentionality reduced.\n",
    "\n",
    "Macro_average_recall: 0.69  |  Defaulter_Recall: 0.65  |  Defaulters_classified_as_Non_defaulters: 576\n",
    "\n",
    "#### Best model:\n",
    "Stacking RandomForest, NaiveBayes and SVM with Logistic as meta-estimator, feature engineered, normalized, dimentionality reduced."
   ]
  }
 ],
 "metadata": {
  "kernelspec": {
   "display_name": "CreditDefaulterClassification",
   "language": "python",
   "name": "creditdefaulterclassification"
  },
  "language_info": {
   "codemirror_mode": {
    "name": "ipython",
    "version": 3
   },
   "file_extension": ".py",
   "mimetype": "text/x-python",
   "name": "python",
   "nbconvert_exporter": "python",
   "pygments_lexer": "ipython3",
   "version": "3.7.7"
  }
 },
 "nbformat": 4,
 "nbformat_minor": 4
}
