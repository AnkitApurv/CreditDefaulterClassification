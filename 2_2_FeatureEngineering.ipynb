{
 "cells": [
  {
   "cell_type": "markdown",
   "metadata": {
    "slideshow": {
     "slide_type": "slide"
    }
   },
   "source": [
    "# Feature Engineering"
   ]
  },
  {
   "cell_type": "markdown",
   "metadata": {
    "slideshow": {
     "slide_type": "fragment"
    }
   },
   "source": [
    "#### GridSearch: scoring Metrics importance [first to last] = ['f1', 'recall', 'accuracy', 'precision', 'roc_auc']\n",
    "#### Dimentionality Reduction: class importance [first to last] = [True, False]"
   ]
  },
  {
   "cell_type": "markdown",
   "metadata": {
    "slideshow": {
     "slide_type": "slide"
    }
   },
   "source": [
    "## 1. Import: Libraries"
   ]
  },
  {
   "cell_type": "code",
   "execution_count": 1,
   "metadata": {
    "slideshow": {
     "slide_type": "fragment"
    }
   },
   "outputs": [],
   "source": [
    "#data organizing\n",
    "import pandas #storage\n",
    "import numpy as np #data-type conversion\n",
    "from os import getcwd\n",
    "\n",
    "#preprocessing - data splitting\n",
    "from sklearn.model_selection import train_test_split\n",
    "\n",
    "#classifier\n",
    "from sklearn.tree import DecisionTreeClassifier\n",
    "\n",
    "#classification result - statistical\n",
    "from sklearn.metrics import confusion_matrix\n",
    "from sklearn.metrics import classification_report\n",
    "\n",
    "#hyper-parameter optimization\n",
    "from sklearn.model_selection import GridSearchCV\n",
    "\n",
    "#dimentionality reduction/feature selection\n",
    "from sklearn.feature_selection import SelectKBest #count of k best features chi2\n",
    "from sklearn.feature_selection import f_classif\n",
    "from sklearn.feature_selection import mutual_info_classif\n",
    "from sklearn.feature_selection import SelectFromModel #model.feature_importances_\n",
    "\n",
    "#model validation\n",
    "#https://towardsdatascience.com/accuracy-precision-recall-or-f1-331fb37c5cb9\n",
    "#https://medium.com/analytics-vidhya/confusion-matrix-accuracy-precision-recall-f1-score-ade299cf63cd\n"
   ]
  },
  {
   "cell_type": "markdown",
   "metadata": {
    "slideshow": {
     "slide_type": "slide"
    }
   },
   "source": [
    "## 2. Import: Dataset"
   ]
  },
  {
   "cell_type": "code",
   "execution_count": 2,
   "metadata": {
    "slideshow": {
     "slide_type": "fragment"
    }
   },
   "outputs": [],
   "source": [
    "#dtype changed from int64 to int32 to save space and speed up computation, no data was lost\n",
    "def cvDefPay(prediction):\n",
    "    mapper = {0: False, 1: True}\n",
    "    return mapper.get(prediction)\n",
    "\n",
    "url = getcwd() + '\\\\default of credit card clients.xls'\n",
    "ccd = pandas.read_excel(io = url, \\\n",
    "                        sheet_name='Data', header = 1, index_col = 0, \\\n",
    "                        dtype = {'LIMIT_BAL': np.int32, 'AGE': np.int32, 'BILL_AMT1': np.int32, 'BILL_AMT2': np.int32, 'BILL_AMT3': np.int32, 'BILL_AMT4': np.int32, 'BILL_AMT5': np.int32, 'BILL_AMT6': np.int32, 'PAY_AMT1': np.int32, 'PAY_AMT2': np.int32, 'PAY_AMT3': np.int32, 'PAY_AMT4': np.int32, 'PAY_AMT5': np.int32, 'PAY_AMT6': np.int32}, \\\n",
    "                       converters = {'default payment next month': cvDefPay})"
   ]
  },
  {
   "cell_type": "code",
   "execution_count": 3,
   "metadata": {
    "slideshow": {
     "slide_type": "fragment"
    }
   },
   "outputs": [],
   "source": [
    "ccd.rename(columns = {'PAY_0': 'PAY_1'}, inplace = True)\n",
    "ccd.rename(columns = {'default payment next month': 'default_payment_next_month'}, inplace = True)"
   ]
  },
  {
   "cell_type": "markdown",
   "metadata": {
    "slideshow": {
     "slide_type": "slide"
    }
   },
   "source": [
    "## 3. Feature Engineering"
   ]
  },
  {
   "cell_type": "markdown",
   "metadata": {
    "slideshow": {
     "slide_type": "subslide"
    }
   },
   "source": [
    "#### 1. PAY_1 to PAY_6"
   ]
  },
  {
   "cell_type": "code",
   "execution_count": 4,
   "metadata": {
    "slideshow": {
     "slide_type": "fragment"
    }
   },
   "outputs": [],
   "source": [
    "ccdr = pandas.read_excel(io = url, \n",
    "                        sheet_name='Data', header = 1, index_col = 0)\n",
    "ccdr.rename(columns = {'PAY_0': 'PAY_1'}, inplace = True)"
   ]
  },
  {
   "cell_type": "code",
   "execution_count": 5,
   "metadata": {
    "slideshow": {
     "slide_type": "fragment"
    }
   },
   "outputs": [],
   "source": [
    "ccdrHistory = ccdr[['PAY_1', 'PAY_2', 'PAY_3', 'PAY_4', 'PAY_5', 'PAY_6']]\n",
    "ccdrHistoryMode = ccdrHistory.mode(axis = 'columns')\n",
    "ccdrHistorySeverest = ccdrHistoryMode.apply(func = max, axis = 'columns')\n",
    "ccd['PAY_MODE_SEVEREST'] = ccdrHistorySeverest"
   ]
  },
  {
   "cell_type": "markdown",
   "metadata": {
    "slideshow": {
     "slide_type": "subslide"
    }
   },
   "source": [
    "#### 2. BILL_AMT1 to BILL_AMT6"
   ]
  },
  {
   "cell_type": "code",
   "execution_count": 6,
   "metadata": {
    "slideshow": {
     "slide_type": "fragment"
    }
   },
   "outputs": [],
   "source": [
    "ccdSpent = ccd[['BILL_AMT1', 'BILL_AMT2', 'BILL_AMT3', 'BILL_AMT4', 'BILL_AMT5', 'BILL_AMT6']]\n",
    "ccd['BILL_AMT_MEAN'] = np.int32(ccdSpent.mean(axis = 'columns').round())"
   ]
  },
  {
   "cell_type": "markdown",
   "metadata": {
    "slideshow": {
     "slide_type": "subslide"
    }
   },
   "source": [
    "#### 3. PAY_AMT1 to PAY_AMT6"
   ]
  },
  {
   "cell_type": "code",
   "execution_count": 7,
   "metadata": {
    "slideshow": {
     "slide_type": "fragment"
    }
   },
   "outputs": [],
   "source": [
    "ccdSettled = ccd[['PAY_AMT1', 'PAY_AMT2', 'PAY_AMT3', 'PAY_AMT4', 'PAY_AMT5', 'PAY_AMT6']]\n",
    "ccd['PAY_AMT_MEAN'] = np.int32(ccdSettled.mean(axis = 'columns').round())"
   ]
  },
  {
   "cell_type": "markdown",
   "metadata": {
    "slideshow": {
     "slide_type": "slide"
    }
   },
   "source": [
    "## 4. Data splitting"
   ]
  },
  {
   "cell_type": "code",
   "execution_count": 8,
   "metadata": {
    "slideshow": {
     "slide_type": "fragment"
    }
   },
   "outputs": [],
   "source": [
    "ccdY = pandas.DataFrame(ccd['default_payment_next_month'])\n",
    "ccdX = ccd.drop(['default_payment_next_month'], axis = 'columns')"
   ]
  },
  {
   "cell_type": "code",
   "execution_count": 9,
   "metadata": {
    "slideshow": {
     "slide_type": "fragment"
    }
   },
   "outputs": [],
   "source": [
    "trainX, testX, trainY, testY = train_test_split(ccdX, ccdY, test_size = 0.25, random_state = 44)"
   ]
  },
  {
   "cell_type": "markdown",
   "metadata": {
    "slideshow": {
     "slide_type": "slide"
    }
   },
   "source": [
    "## 5. GridSearch: Pre-processing"
   ]
  },
  {
   "cell_type": "code",
   "execution_count": 10,
   "metadata": {
    "slideshow": {
     "slide_type": "fragment"
    }
   },
   "outputs": [],
   "source": [
    "featureCount = len(ccdX.columns)\n",
    "\n",
    "parameterGrid = {'max_depth': [featureCount * 0.125, featureCount * 0.25, featureCount * 0.5, featureCount * 0.75, featureCount],\n",
    "                 'criterion': ['gini', 'entropy'],\n",
    "                 'splitter': ['best', 'random']}\n",
    "\n",
    "#scoringMetrics = ['f1', 'recall', 'accuracy', 'precision', 'roc_auc']\n",
    "\n",
    "scoringMetrics = 'roc_auc'\n",
    "\n",
    "gridSearch = GridSearchCV(\n",
    "    estimator = DecisionTreeClassifier(random_state = 39),\n",
    "    param_grid = parameterGrid,\n",
    "    scoring = scoringMetrics,\n",
    "    n_jobs = -1, #https://scikit-learn.org/stable/glossary.html#term-n-jobs\n",
    "    cv = 5, #5 fold stratified corss-validator\n",
    "    refit = 'roc_auc',\n",
    "    return_train_score = True)"
   ]
  },
  {
   "cell_type": "markdown",
   "metadata": {
    "slideshow": {
     "slide_type": "slide"
    }
   },
   "source": [
    "## 6. Feature Selection: False"
   ]
  },
  {
   "cell_type": "code",
   "execution_count": 11,
   "metadata": {
    "slideshow": {
     "slide_type": "subslide"
    }
   },
   "outputs": [
    {
     "data": {
      "text/plain": [
       "GridSearchCV(cv=5, error_score=nan,\n",
       "             estimator=DecisionTreeClassifier(ccp_alpha=0.0, class_weight=None,\n",
       "                                              criterion='gini', max_depth=None,\n",
       "                                              max_features=None,\n",
       "                                              max_leaf_nodes=None,\n",
       "                                              min_impurity_decrease=0.0,\n",
       "                                              min_impurity_split=None,\n",
       "                                              min_samples_leaf=1,\n",
       "                                              min_samples_split=2,\n",
       "                                              min_weight_fraction_leaf=0.0,\n",
       "                                              presort='deprecated',\n",
       "                                              random_state=39,\n",
       "                                              splitter='best'),\n",
       "             iid='deprecated', n_jobs=-1,\n",
       "             param_grid={'criterion': ['gini', 'entropy'],\n",
       "                         'max_depth': [3.25, 6.5, 13.0, 19.5, 26],\n",
       "                         'splitter': ['best', 'random']},\n",
       "             pre_dispatch='2*n_jobs', refit='roc_auc', return_train_score=True,\n",
       "             scoring='roc_auc', verbose=0)"
      ]
     },
     "execution_count": 11,
     "metadata": {},
     "output_type": "execute_result"
    }
   ],
   "source": [
    "gridSearch.fit(trainX, trainY.values.ravel())"
   ]
  },
  {
   "cell_type": "code",
   "execution_count": 12,
   "metadata": {
    "slideshow": {
     "slide_type": "subslide"
    }
   },
   "outputs": [
    {
     "data": {
      "text/plain": [
       "DecisionTreeClassifier(ccp_alpha=0.0, class_weight=None, criterion='gini',\n",
       "                       max_depth=6.5, max_features=None, max_leaf_nodes=None,\n",
       "                       min_impurity_decrease=0.0, min_impurity_split=None,\n",
       "                       min_samples_leaf=1, min_samples_split=2,\n",
       "                       min_weight_fraction_leaf=0.0, presort='deprecated',\n",
       "                       random_state=39, splitter='best')"
      ]
     },
     "execution_count": 12,
     "metadata": {},
     "output_type": "execute_result"
    }
   ],
   "source": [
    "gridSearch.best_estimator_"
   ]
  },
  {
   "cell_type": "code",
   "execution_count": 13,
   "metadata": {
    "slideshow": {
     "slide_type": "subslide"
    }
   },
   "outputs": [],
   "source": [
    "predictY = gridSearch.best_estimator_.predict(testX)"
   ]
  },
  {
   "cell_type": "code",
   "execution_count": 14,
   "metadata": {
    "slideshow": {
     "slide_type": "fragment"
    }
   },
   "outputs": [
    {
     "data": {
      "text/html": [
       "<div>\n",
       "<style scoped>\n",
       "    .dataframe tbody tr th:only-of-type {\n",
       "        vertical-align: middle;\n",
       "    }\n",
       "\n",
       "    .dataframe tbody tr th {\n",
       "        vertical-align: top;\n",
       "    }\n",
       "\n",
       "    .dataframe thead th {\n",
       "        text-align: right;\n",
       "    }\n",
       "</style>\n",
       "<table border=\"1\" class=\"dataframe\">\n",
       "  <thead>\n",
       "    <tr style=\"text-align: right;\">\n",
       "      <th></th>\n",
       "      <th>Predicted | Not Defaulter</th>\n",
       "      <th>Defaulter</th>\n",
       "    </tr>\n",
       "  </thead>\n",
       "  <tbody>\n",
       "    <tr>\n",
       "      <th>Correct | Not Defaulter</th>\n",
       "      <td>5566</td>\n",
       "      <td>285</td>\n",
       "    </tr>\n",
       "    <tr>\n",
       "      <th>Defaulter</th>\n",
       "      <td>1041</td>\n",
       "      <td>608</td>\n",
       "    </tr>\n",
       "  </tbody>\n",
       "</table>\n",
       "</div>"
      ],
      "text/plain": [
       "                         Predicted | Not Defaulter  Defaulter\n",
       "Correct | Not Defaulter                       5566        285\n",
       "Defaulter                                     1041        608"
      ]
     },
     "execution_count": 14,
     "metadata": {},
     "output_type": "execute_result"
    }
   ],
   "source": [
    "#http://benalexkeen.com/decision-tree-classifier-in-python-using-scikit-learn/\n",
    "pandas.DataFrame(\n",
    "    confusion_matrix(testY, predictY),\n",
    "    columns=['Predicted | Not Defaulter', 'Defaulter'],\n",
    "    index=['Correct | Not Defaulter', 'Defaulter'])"
   ]
  },
  {
   "cell_type": "code",
   "execution_count": 15,
   "metadata": {
    "slideshow": {
     "slide_type": "fragment"
    }
   },
   "outputs": [
    {
     "name": "stdout",
     "output_type": "stream",
     "text": [
      "              precision    recall  f1-score   support\n",
      "\n",
      "       False       0.84      0.95      0.89      5851\n",
      "        True       0.68      0.37      0.48      1649\n",
      "\n",
      "    accuracy                           0.82      7500\n",
      "   macro avg       0.76      0.66      0.69      7500\n",
      "weighted avg       0.81      0.82      0.80      7500\n",
      "\n"
     ]
    }
   ],
   "source": [
    "print(classification_report(testY, predictY))"
   ]
  },
  {
   "cell_type": "markdown",
   "metadata": {
    "slideshow": {
     "slide_type": "slide"
    }
   },
   "source": [
    "## 7. Feature Selection: True\n",
    "https://scikit-learn.org/stable/modules/feature_selection.html#feature-selection\n",
    "\n",
    "1. SelectKBest(]f_classif, mutual_info_classif])\n",
    "2. SelectFromModel(gridSearch.best_estimator_)"
   ]
  },
  {
   "cell_type": "markdown",
   "metadata": {
    "slideshow": {
     "slide_type": "subslide"
    }
   },
   "source": [
    "### 1. SelectKBest(f_classif)"
   ]
  },
  {
   "cell_type": "code",
   "execution_count": 16,
   "metadata": {
    "slideshow": {
     "slide_type": "fragment"
    }
   },
   "outputs": [],
   "source": [
    "dimensionReducer = SelectKBest(score_func = f_classif, k = np.int32(len(ccdX.columns) * 0.75))\n",
    "dimensionReducer.fit(X = ccdX, y = ccdY.values.ravel())\n",
    "reducedColumnsIndices = dimensionReducer.get_support(indices = True)\n",
    "\n",
    "ccdXdr = ccdX.iloc[:, reducedColumnsIndices]"
   ]
  },
  {
   "cell_type": "code",
   "execution_count": 17,
   "metadata": {
    "slideshow": {
     "slide_type": "fragment"
    }
   },
   "outputs": [],
   "source": [
    "trainX, testX, trainY, testY = train_test_split(ccdXdr, ccdY, test_size = 0.25, random_state = 44)"
   ]
  },
  {
   "cell_type": "code",
   "execution_count": 18,
   "metadata": {
    "slideshow": {
     "slide_type": "fragment"
    }
   },
   "outputs": [],
   "source": [
    "gridSearch.best_estimator_.fit(trainX, trainY.values.ravel())\n",
    "predictY = gridSearch.best_estimator_.predict(testX)"
   ]
  },
  {
   "cell_type": "code",
   "execution_count": 19,
   "metadata": {
    "slideshow": {
     "slide_type": "subslide"
    }
   },
   "outputs": [
    {
     "data": {
      "text/html": [
       "<div>\n",
       "<style scoped>\n",
       "    .dataframe tbody tr th:only-of-type {\n",
       "        vertical-align: middle;\n",
       "    }\n",
       "\n",
       "    .dataframe tbody tr th {\n",
       "        vertical-align: top;\n",
       "    }\n",
       "\n",
       "    .dataframe thead th {\n",
       "        text-align: right;\n",
       "    }\n",
       "</style>\n",
       "<table border=\"1\" class=\"dataframe\">\n",
       "  <thead>\n",
       "    <tr style=\"text-align: right;\">\n",
       "      <th></th>\n",
       "      <th>Predicted | Not Defaulter</th>\n",
       "      <th>Defaulter</th>\n",
       "    </tr>\n",
       "  </thead>\n",
       "  <tbody>\n",
       "    <tr>\n",
       "      <th>Correct | Not Defaulter</th>\n",
       "      <td>5548</td>\n",
       "      <td>303</td>\n",
       "    </tr>\n",
       "    <tr>\n",
       "      <th>Defaulter</th>\n",
       "      <td>1026</td>\n",
       "      <td>623</td>\n",
       "    </tr>\n",
       "  </tbody>\n",
       "</table>\n",
       "</div>"
      ],
      "text/plain": [
       "                         Predicted | Not Defaulter  Defaulter\n",
       "Correct | Not Defaulter                       5548        303\n",
       "Defaulter                                     1026        623"
      ]
     },
     "execution_count": 19,
     "metadata": {},
     "output_type": "execute_result"
    }
   ],
   "source": [
    "#http://benalexkeen.com/decision-tree-classifier-in-python-using-scikit-learn/\n",
    "pandas.DataFrame(\n",
    "    confusion_matrix(testY, predictY),\n",
    "    columns=['Predicted | Not Defaulter', 'Defaulter'],\n",
    "    index=['Correct | Not Defaulter', 'Defaulter'])"
   ]
  },
  {
   "cell_type": "code",
   "execution_count": 20,
   "metadata": {
    "slideshow": {
     "slide_type": "fragment"
    }
   },
   "outputs": [
    {
     "name": "stdout",
     "output_type": "stream",
     "text": [
      "              precision    recall  f1-score   support\n",
      "\n",
      "       False       0.84      0.95      0.89      5851\n",
      "        True       0.67      0.38      0.48      1649\n",
      "\n",
      "    accuracy                           0.82      7500\n",
      "   macro avg       0.76      0.66      0.69      7500\n",
      "weighted avg       0.81      0.82      0.80      7500\n",
      "\n"
     ]
    }
   ],
   "source": [
    "print(classification_report(testY, predictY))"
   ]
  },
  {
   "cell_type": "markdown",
   "metadata": {
    "slideshow": {
     "slide_type": "subslide"
    }
   },
   "source": [
    "### 2. SelectKBest(mutual_info_classif)"
   ]
  },
  {
   "cell_type": "code",
   "execution_count": 21,
   "metadata": {
    "slideshow": {
     "slide_type": "fragment"
    }
   },
   "outputs": [],
   "source": [
    "dimensionReducer = SelectKBest(score_func = mutual_info_classif, k = np.int32(len(ccdX.columns) * 0.75))\n",
    "dimensionReducer.fit(X = ccdX, y = ccdY.values.ravel())\n",
    "reducedColumnsIndices = dimensionReducer.get_support(indices = True)\n",
    "\n",
    "ccdXdr = ccdX.iloc[:, reducedColumnsIndices]"
   ]
  },
  {
   "cell_type": "code",
   "execution_count": 22,
   "metadata": {
    "slideshow": {
     "slide_type": "fragment"
    }
   },
   "outputs": [],
   "source": [
    "trainX, testX, trainY, testY = train_test_split(ccdXdr, ccdY, test_size = 0.25, random_state = 44)"
   ]
  },
  {
   "cell_type": "code",
   "execution_count": 23,
   "metadata": {
    "slideshow": {
     "slide_type": "fragment"
    }
   },
   "outputs": [],
   "source": [
    "gridSearch.best_estimator_.fit(trainX, trainY.values.ravel())\n",
    "predictY = gridSearch.best_estimator_.predict(testX)"
   ]
  },
  {
   "cell_type": "code",
   "execution_count": 24,
   "metadata": {
    "slideshow": {
     "slide_type": "subslide"
    }
   },
   "outputs": [
    {
     "data": {
      "text/html": [
       "<div>\n",
       "<style scoped>\n",
       "    .dataframe tbody tr th:only-of-type {\n",
       "        vertical-align: middle;\n",
       "    }\n",
       "\n",
       "    .dataframe tbody tr th {\n",
       "        vertical-align: top;\n",
       "    }\n",
       "\n",
       "    .dataframe thead th {\n",
       "        text-align: right;\n",
       "    }\n",
       "</style>\n",
       "<table border=\"1\" class=\"dataframe\">\n",
       "  <thead>\n",
       "    <tr style=\"text-align: right;\">\n",
       "      <th></th>\n",
       "      <th>Predicted | Not Defaulter</th>\n",
       "      <th>Defaulter</th>\n",
       "    </tr>\n",
       "  </thead>\n",
       "  <tbody>\n",
       "    <tr>\n",
       "      <th>Correct | Not Defaulter</th>\n",
       "      <td>5561</td>\n",
       "      <td>290</td>\n",
       "    </tr>\n",
       "    <tr>\n",
       "      <th>Defaulter</th>\n",
       "      <td>1043</td>\n",
       "      <td>606</td>\n",
       "    </tr>\n",
       "  </tbody>\n",
       "</table>\n",
       "</div>"
      ],
      "text/plain": [
       "                         Predicted | Not Defaulter  Defaulter\n",
       "Correct | Not Defaulter                       5561        290\n",
       "Defaulter                                     1043        606"
      ]
     },
     "execution_count": 24,
     "metadata": {},
     "output_type": "execute_result"
    }
   ],
   "source": [
    "#http://benalexkeen.com/decision-tree-classifier-in-python-using-scikit-learn/\n",
    "pandas.DataFrame(\n",
    "    confusion_matrix(testY, predictY),\n",
    "    columns=['Predicted | Not Defaulter', 'Defaulter'],\n",
    "    index=['Correct | Not Defaulter', 'Defaulter'])"
   ]
  },
  {
   "cell_type": "code",
   "execution_count": 25,
   "metadata": {
    "slideshow": {
     "slide_type": "fragment"
    }
   },
   "outputs": [
    {
     "name": "stdout",
     "output_type": "stream",
     "text": [
      "              precision    recall  f1-score   support\n",
      "\n",
      "       False       0.84      0.95      0.89      5851\n",
      "        True       0.68      0.37      0.48      1649\n",
      "\n",
      "    accuracy                           0.82      7500\n",
      "   macro avg       0.76      0.66      0.68      7500\n",
      "weighted avg       0.81      0.82      0.80      7500\n",
      "\n"
     ]
    }
   ],
   "source": [
    "print(classification_report(testY, predictY))"
   ]
  },
  {
   "cell_type": "markdown",
   "metadata": {
    "slideshow": {
     "slide_type": "subslide"
    }
   },
   "source": [
    "### 3. SelectFromModel(gridSearch.best_estimator_) "
   ]
  },
  {
   "cell_type": "code",
   "execution_count": 26,
   "metadata": {
    "slideshow": {
     "slide_type": "fragment"
    }
   },
   "outputs": [],
   "source": [
    "trainX, testX, trainY, testY = train_test_split(ccdX, ccdY, test_size = 0.25, random_state = 44)"
   ]
  },
  {
   "cell_type": "code",
   "execution_count": 27,
   "metadata": {
    "slideshow": {
     "slide_type": "fragment"
    }
   },
   "outputs": [],
   "source": [
    "dimensionReducer = SelectFromModel(estimator = gridSearch.best_estimator_, threshold = 0.01, prefit = True)\n",
    "reducedColumnsIndices = dimensionReducer.get_support(indices = True)\n",
    "\n",
    "ccdXdr = ccdX.iloc[:, reducedColumnsIndices]"
   ]
  },
  {
   "cell_type": "code",
   "execution_count": 28,
   "metadata": {
    "slideshow": {
     "slide_type": "fragment"
    }
   },
   "outputs": [],
   "source": [
    "trainX, testX, trainY, testY = train_test_split(ccdXdr, ccdY, test_size = 0.25, random_state = 44)"
   ]
  },
  {
   "cell_type": "code",
   "execution_count": 29,
   "metadata": {
    "slideshow": {
     "slide_type": "fragment"
    }
   },
   "outputs": [],
   "source": [
    "gridSearch.best_estimator_.fit(trainX, trainY.values.ravel())\n",
    "predictY = gridSearch.best_estimator_.predict(testX)"
   ]
  },
  {
   "cell_type": "code",
   "execution_count": 30,
   "metadata": {
    "slideshow": {
     "slide_type": "subslide"
    }
   },
   "outputs": [
    {
     "data": {
      "text/html": [
       "<div>\n",
       "<style scoped>\n",
       "    .dataframe tbody tr th:only-of-type {\n",
       "        vertical-align: middle;\n",
       "    }\n",
       "\n",
       "    .dataframe tbody tr th {\n",
       "        vertical-align: top;\n",
       "    }\n",
       "\n",
       "    .dataframe thead th {\n",
       "        text-align: right;\n",
       "    }\n",
       "</style>\n",
       "<table border=\"1\" class=\"dataframe\">\n",
       "  <thead>\n",
       "    <tr style=\"text-align: right;\">\n",
       "      <th></th>\n",
       "      <th>Predicted | Not Defaulter</th>\n",
       "      <th>Defaulter</th>\n",
       "    </tr>\n",
       "  </thead>\n",
       "  <tbody>\n",
       "    <tr>\n",
       "      <th>Correct | Not Defaulter</th>\n",
       "      <td>5550</td>\n",
       "      <td>301</td>\n",
       "    </tr>\n",
       "    <tr>\n",
       "      <th>Defaulter</th>\n",
       "      <td>1233</td>\n",
       "      <td>416</td>\n",
       "    </tr>\n",
       "  </tbody>\n",
       "</table>\n",
       "</div>"
      ],
      "text/plain": [
       "                         Predicted | Not Defaulter  Defaulter\n",
       "Correct | Not Defaulter                       5550        301\n",
       "Defaulter                                     1233        416"
      ]
     },
     "execution_count": 30,
     "metadata": {},
     "output_type": "execute_result"
    }
   ],
   "source": [
    "#http://benalexkeen.com/decision-tree-classifier-in-python-using-scikit-learn/\n",
    "pandas.DataFrame(\n",
    "    confusion_matrix(testY, predictY),\n",
    "    columns=['Predicted | Not Defaulter', 'Defaulter'],\n",
    "    index=['Correct | Not Defaulter', 'Defaulter'])"
   ]
  },
  {
   "cell_type": "code",
   "execution_count": 31,
   "metadata": {
    "slideshow": {
     "slide_type": "fragment"
    }
   },
   "outputs": [
    {
     "name": "stdout",
     "output_type": "stream",
     "text": [
      "              precision    recall  f1-score   support\n",
      "\n",
      "       False       0.82      0.95      0.88      5851\n",
      "        True       0.58      0.25      0.35      1649\n",
      "\n",
      "    accuracy                           0.80      7500\n",
      "   macro avg       0.70      0.60      0.62      7500\n",
      "weighted avg       0.77      0.80      0.76      7500\n",
      "\n"
     ]
    }
   ],
   "source": [
    "print(classification_report(testY, predictY))"
   ]
  },
  {
   "cell_type": "markdown",
   "metadata": {
    "slideshow": {
     "slide_type": "notes"
    }
   },
   "source": [
    "### Results:\n",
    "\n",
    "#### No Feature Selection\n",
    "\n",
    "100%                     Predicted | Not Defaulter  Defaulter\n",
    "Correct | Not Defaulter                       5608        243\n",
    "Defaulter                                     1092        557\n",
    "\n",
    "#### SelecKBest(f_classif)\n",
    "\n",
    "25%                      Predicted | Not Defaulter  Defaulter\n",
    "Correct | Not Defaulter                       5570        281\n",
    "Defaulter                                     1046        603\n",
    "\n",
    "50%                      Predicted | Not Defaulter  Defaulter\n",
    "Correct | Not Defaulter                       5517        334\n",
    "Defaulter                                     1024        625\n",
    "\n",
    "75%                      Predicted | Not Defaulter  Defaulter\n",
    "Correct | Not Defaulter                       5569        282\n",
    "Defaulter                                     1042        607\n",
    "#### SelectKBest(mutual_info_classif)\n",
    "\n",
    "25%                      Predicted | Not Defaulter  Defaulter\n",
    "Correct | Not Defaulter                       5570        281\n",
    "Defaulter                                     1046        603\n",
    "\n",
    "50%                      Predicted | Not Defaulter  Defaulter\n",
    "Correct | Not Defaulter                       5517        334\n",
    "Defaulter                                     1024        625\n",
    "\n",
    "75%                      Predicted | Not Defaulter  Defaulter\n",
    "Correct | Not Defaulter                       5542        309\n",
    "Defaulter                                     1025        624\n",
    "\n",
    "#### SelectFromModel(gridSearch.best_estimator_)\n",
    "\n",
    "threshold = 0.001        Predicted | Not Defaulter  Defaulter\n",
    "Correct | Not Defaulter                       5598        253\n",
    "Defaulter                                     1070        579\n",
    "\n",
    "threshold = 0.01         Predicted | Not Defaulter  Defaulter\n",
    "Correct | Not Defaulter                       5542        309\n",
    "Defaulter                                     1025        624"
   ]
  },
  {
   "cell_type": "markdown",
   "metadata": {
    "slideshow": {
     "slide_type": "slide"
    }
   },
   "source": [
    "#### gridSearch.best_estimator_\n",
    "\n",
    "DecisionTreeClassifier(class_weight=None, criterion='entropy', max_depth=6.5,\n",
    "            max_features=None, max_leaf_nodes=None,\n",
    "            min_impurity_split=1e-07, min_samples_leaf=1,\n",
    "            min_samples_split=2, min_weight_fraction_leaf=0.0,\n",
    "            presort=False, random_state=39, splitter='best')"
   ]
  },
  {
   "cell_type": "markdown",
   "metadata": {
    "slideshow": {
     "slide_type": "slide"
    }
   },
   "source": [
    "## 8. Conclusion:\n",
    "\n",
    "1. SelectFromModel(gridSearch.best_estimator_, threshold = 0.001): Best for NonDefaulter class accuracy (-10) because least accuracy degradation, Defaulter class has improvement (+22)\n",
    "\n",
    "2. SelectFromModel(gridSearch.best_estimator_, threshold = 0.01) OR SelectKBest(mutual_info_classif, k = 75%): Best for Defaulter class accuracy (+67), NonDefaulter class has degraded (-64)"
   ]
  }
 ],
 "metadata": {
  "kernelspec": {
   "display_name": "CreditDefaulterClassification",
   "language": "python",
   "name": "creditdefaulterclassification"
  },
  "language_info": {
   "codemirror_mode": {
    "name": "ipython",
    "version": 3
   },
   "file_extension": ".py",
   "mimetype": "text/x-python",
   "name": "python",
   "nbconvert_exporter": "python",
   "pygments_lexer": "ipython3",
   "version": "3.7.7"
  }
 },
 "nbformat": 4,
 "nbformat_minor": 4
}
