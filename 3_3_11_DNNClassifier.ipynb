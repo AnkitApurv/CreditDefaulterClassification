{
 "cells": [
  {
   "cell_type": "markdown",
   "metadata": {
    "slideshow": {
     "slide_type": "slide"
    }
   },
   "source": [
    "# Classifier: Neural Network (after internship)."
   ]
  },
  {
   "cell_type": "markdown",
   "metadata": {
    "slideshow": {
     "slide_type": "slide"
    }
   },
   "source": [
    "## 1.a. Import: Libraries"
   ]
  },
  {
   "cell_type": "code",
   "execution_count": 1,
   "metadata": {
    "slideshow": {
     "slide_type": "fragment"
    }
   },
   "outputs": [],
   "source": [
    "#data organizing\n",
    "import pandas #storage\n",
    "import numpy as np #data-type conversion\n",
    "from os import getcwd\n",
    "\n",
    "#eda visualization\n",
    "import seaborn\n",
    "\n",
    "#preprocessing - data splitting\n",
    "from sklearn.model_selection import train_test_split\n",
    "\n",
    "#outlier removal to achieve better distribution\n",
    "from sklearn.ensemble import IsolationForest\n",
    "# import seaborn #test distribution\n",
    "\n",
    "#scaling\n",
    "from sklearn.preprocessing import StandardScaler\n",
    "\n",
    "#classifier\n",
    "from tensorflow.keras.models import Sequential\n",
    "from tensorflow.keras.layers import LSTM, Dense, Dropout\n",
    "from tensorflow.keras.callbacks import EarlyStopping\n",
    "\n",
    "from tensorflow import feature_column\n",
    "import tensorflow as tf\n",
    "\n",
    "#classification result - statistical\n",
    "from sklearn.metrics import confusion_matrix\n",
    "from sklearn.metrics import classification_report\n",
    "from sklearn.metrics import roc_auc_score"
   ]
  },
  {
   "cell_type": "markdown",
   "metadata": {},
   "source": [
    "https://www.tensorflow.org/tutorials/estimator/premade\n",
    "\n",
    "https://www.tensorflow.org/tutorials/structured_data/feature_columns\n",
    "\n",
    "https://www.tensorflow.org/api_docs/python/tf/estimator/DNNClassifier\n",
    "\n",
    "https://stackoverflow.com/questions/56612386/defining-the-input-function-for-tensorflow-pre-made-estimator"
   ]
  },
  {
   "cell_type": "markdown",
   "metadata": {},
   "source": [
    "## 1.b. Import: Dataset"
   ]
  },
  {
   "cell_type": "code",
   "execution_count": 2,
   "metadata": {
    "slideshow": {
     "slide_type": "fragment"
    }
   },
   "outputs": [],
   "source": [
    "#dtype changed from int64 to int32 to save space and speed up computation, no data was lost\n",
    "def cvDefPay(prediction):\n",
    "    mapper = {0: False, 1: True}\n",
    "    return mapper.get(prediction)\n",
    "\n",
    "url = getcwd() + '\\\\default of credit card clients.xls'\n",
    "ccd = pandas.read_excel(io = url, \\\n",
    "                        sheet_name='Data', header = 1, index_col = 0, \\\n",
    "                        dtype = {'LIMIT_BAL': np.int32, 'AGE': np.int32, 'BILL_AMT1': np.int32, 'BILL_AMT2': np.int32, 'BILL_AMT3': np.int32, 'BILL_AMT4': np.int32, 'BILL_AMT5': np.int32, 'BILL_AMT6': np.int32, 'PAY_AMT1': np.int32, 'PAY_AMT2': np.int32, 'PAY_AMT3': np.int32, 'PAY_AMT4': np.int32, 'PAY_AMT5': np.int32, 'PAY_AMT6': np.int32})\n",
    "                        #,converters = {'default payment next month': cvDefPay})"
   ]
  },
  {
   "cell_type": "code",
   "execution_count": 3,
   "metadata": {
    "slideshow": {
     "slide_type": "fragment"
    }
   },
   "outputs": [],
   "source": [
    "ccd.rename(columns = {'PAY_0': 'PAY_1'}, inplace = True)\n",
    "ccd.rename(columns = {'default payment next month': 'default_payment_next_month'}, inplace = True)"
   ]
  },
  {
   "cell_type": "markdown",
   "metadata": {},
   "source": [
    "## 3.b. Feature Engineering"
   ]
  },
  {
   "cell_type": "markdown",
   "metadata": {
    "slideshow": {
     "slide_type": "subslide"
    }
   },
   "source": [
    "### 3.b.1. PAY {PAY_1 to PAY_6}\n",
    "\n",
    "1. Using mode to aggregate. An entry may have mutiple mode values (same frequency), to resolve, using severest class.\n",
    "\n",
    "2. Why severest value? To ensure fiscally fit population of credit users."
   ]
  },
  {
   "cell_type": "code",
   "execution_count": 4,
   "metadata": {
    "slideshow": {
     "slide_type": "fragment"
    }
   },
   "outputs": [],
   "source": [
    "ccdr = pandas.read_excel(io = url, \n",
    "                        sheet_name='Data', header = 1, index_col = 0)\n",
    "ccdr.rename(columns = {'PAY_0': 'PAY_1'}, inplace = True)"
   ]
  },
  {
   "cell_type": "code",
   "execution_count": 5,
   "metadata": {
    "slideshow": {
     "slide_type": "fragment"
    }
   },
   "outputs": [],
   "source": [
    "ccdrHistory = ccdr[['PAY_1', 'PAY_2', 'PAY_3', 'PAY_4', 'PAY_5', 'PAY_6']]"
   ]
  },
  {
   "cell_type": "code",
   "execution_count": 6,
   "metadata": {
    "slideshow": {
     "slide_type": "fragment"
    }
   },
   "outputs": [],
   "source": [
    "ccdrHistoryMode = ccdrHistory.mode(axis = 'columns')\n",
    "ccdPayHistoryMode = ccdrHistoryMode.apply(func = max, axis = 'columns')"
   ]
  },
  {
   "cell_type": "code",
   "execution_count": 7,
   "metadata": {
    "slideshow": {
     "slide_type": "fragment"
    }
   },
   "outputs": [],
   "source": [
    "ccd['PAY_MODE_SEVEREST'] = list(ccdPayHistoryMode)"
   ]
  },
  {
   "cell_type": "markdown",
   "metadata": {
    "slideshow": {
     "slide_type": "subslide"
    }
   },
   "source": [
    "### 3.b.2. BILL_AMT {BILL_AMT1 to BILL_AMT6}\n",
    "\n",
    "Using mean for total credit used"
   ]
  },
  {
   "cell_type": "code",
   "execution_count": 8,
   "metadata": {
    "slideshow": {
     "slide_type": "fragment"
    }
   },
   "outputs": [],
   "source": [
    "ccdSpent = ccd[['BILL_AMT1', 'BILL_AMT2', 'BILL_AMT3', 'BILL_AMT4', 'BILL_AMT5', 'BILL_AMT6']]"
   ]
  },
  {
   "cell_type": "code",
   "execution_count": 9,
   "metadata": {
    "slideshow": {
     "slide_type": "fragment"
    }
   },
   "outputs": [],
   "source": [
    "ccd['BILL_AMT_MEAN'] = np.int32(ccdSpent.mean(axis = 'columns').round())"
   ]
  },
  {
   "cell_type": "markdown",
   "metadata": {
    "slideshow": {
     "slide_type": "subslide"
    }
   },
   "source": [
    "### 3.b.3. PAY_AMT {PAY_AMT1 to PAY_AMT6}\n",
    "\n",
    "Using mean for total credit settled"
   ]
  },
  {
   "cell_type": "code",
   "execution_count": 10,
   "metadata": {
    "slideshow": {
     "slide_type": "fragment"
    }
   },
   "outputs": [],
   "source": [
    "ccdSettled = ccd[['PAY_AMT1', 'PAY_AMT2', 'PAY_AMT3', 'PAY_AMT4', 'PAY_AMT5', 'PAY_AMT6']]"
   ]
  },
  {
   "cell_type": "code",
   "execution_count": 11,
   "metadata": {
    "slideshow": {
     "slide_type": "fragment"
    }
   },
   "outputs": [],
   "source": [
    "ccd['PAY_AMT_MEAN'] = np.int32(ccdSettled.mean(axis = 'columns').round())"
   ]
  },
  {
   "cell_type": "markdown",
   "metadata": {},
   "source": [
    "## 3.c. Normalization\n",
    "\n",
    "Scaling: Only to reduce the effect of very large continuous variables (in distance based esimators).\n",
    "\n",
    "Normalization: Also reduce the effect of skewness in variables."
   ]
  },
  {
   "cell_type": "code",
   "execution_count": 12,
   "metadata": {},
   "outputs": [],
   "source": [
    "varsToScale = ['LIMIT_BAL', 'AGE', 'PAY_AMT1', 'PAY_AMT2', 'PAY_AMT3', 'PAY_AMT4', 'PAY_AMT5', 'PAY_AMT6', \n",
    "               'BILL_AMT1', 'BILL_AMT2', 'BILL_AMT3', 'BILL_AMT4', 'BILL_AMT5', 'BILL_AMT6', 'BILL_AMT_MEAN', 'PAY_AMT_MEAN']\n",
    "scaler = StandardScaler(copy = False)"
   ]
  },
  {
   "cell_type": "code",
   "execution_count": 13,
   "metadata": {},
   "outputs": [],
   "source": [
    "for var in varsToScale:\n",
    "    ccd[var] = scaler.fit_transform(ccd[var].values.reshape(-1, 1))\n"
   ]
  },
  {
   "cell_type": "markdown",
   "metadata": {},
   "source": [
    "## 3.a. Removing Outliers\n",
    "\n",
    "Since data is highly skewed with the higher end being very sparse, having mostly outliers,\n",
    "\n",
    "It may be better to remove those outliers so rest of the dataset has better distribution for better prediction\n",
    "And outlier datapoints could be have a separate classifier model\n",
    "\n",
    "Sould be done before data split to ensure distribution of train, dev and test sets are not different from each other."
   ]
  },
  {
   "cell_type": "code",
   "execution_count": 14,
   "metadata": {},
   "outputs": [],
   "source": [
    "isolationForest = IsolationForest(n_estimators = 100, max_samples = 0.2, contamination = 'auto',\n",
    "                       n_jobs = -1, random_state = 39)"
   ]
  },
  {
   "cell_type": "code",
   "execution_count": 15,
   "metadata": {},
   "outputs": [],
   "source": [
    "isolationForest.fit(ccd)\n",
    "IsOutlierLabels = isolationForest.predict(ccd)"
   ]
  },
  {
   "cell_type": "code",
   "execution_count": 16,
   "metadata": {},
   "outputs": [],
   "source": [
    "def cvIsOutlier(prediction):\n",
    "    mapper = {-1: True, 1: False}\n",
    "    return mapper.get(prediction)\n",
    "\n",
    "ccdOutliers = ccd.copy(deep = True)"
   ]
  },
  {
   "cell_type": "code",
   "execution_count": 17,
   "metadata": {},
   "outputs": [],
   "source": [
    "ccdOutliers['IsOutlier'] = list(map(cvIsOutlier, IsOutlierLabels))"
   ]
  },
  {
   "cell_type": "code",
   "execution_count": 18,
   "metadata": {},
   "outputs": [],
   "source": [
    "#inliers conditions have been selected from EDA observations\n",
    "\n",
    "ccdInliers = ccd[(ccdOutliers['IsOutlier'] == False) & (ccdOutliers['LIMIT_BAL'] <= 525000) & (ccdOutliers['AGE'] <= 60)]\n",
    "ccdOutliers = ccd[~ccd.index.isin(ccdInliers.index)]"
   ]
  },
  {
   "cell_type": "code",
   "execution_count": 19,
   "metadata": {},
   "outputs": [
    {
     "data": {
      "text/html": [
       "<div>\n",
       "<style scoped>\n",
       "    .dataframe tbody tr th:only-of-type {\n",
       "        vertical-align: middle;\n",
       "    }\n",
       "\n",
       "    .dataframe tbody tr th {\n",
       "        vertical-align: top;\n",
       "    }\n",
       "\n",
       "    .dataframe thead th {\n",
       "        text-align: right;\n",
       "    }\n",
       "</style>\n",
       "<table border=\"1\" class=\"dataframe\">\n",
       "  <thead>\n",
       "    <tr style=\"text-align: right;\">\n",
       "      <th></th>\n",
       "      <th>LIMIT_BAL</th>\n",
       "      <th>SEX</th>\n",
       "      <th>EDUCATION</th>\n",
       "      <th>MARRIAGE</th>\n",
       "      <th>AGE</th>\n",
       "      <th>PAY_1</th>\n",
       "      <th>PAY_2</th>\n",
       "      <th>PAY_3</th>\n",
       "      <th>PAY_4</th>\n",
       "      <th>PAY_5</th>\n",
       "      <th>...</th>\n",
       "      <th>PAY_AMT1</th>\n",
       "      <th>PAY_AMT2</th>\n",
       "      <th>PAY_AMT3</th>\n",
       "      <th>PAY_AMT4</th>\n",
       "      <th>PAY_AMT5</th>\n",
       "      <th>PAY_AMT6</th>\n",
       "      <th>default_payment_next_month</th>\n",
       "      <th>PAY_MODE_SEVEREST</th>\n",
       "      <th>BILL_AMT_MEAN</th>\n",
       "      <th>PAY_AMT_MEAN</th>\n",
       "    </tr>\n",
       "    <tr>\n",
       "      <th>ID</th>\n",
       "      <th></th>\n",
       "      <th></th>\n",
       "      <th></th>\n",
       "      <th></th>\n",
       "      <th></th>\n",
       "      <th></th>\n",
       "      <th></th>\n",
       "      <th></th>\n",
       "      <th></th>\n",
       "      <th></th>\n",
       "      <th></th>\n",
       "      <th></th>\n",
       "      <th></th>\n",
       "      <th></th>\n",
       "      <th></th>\n",
       "      <th></th>\n",
       "      <th></th>\n",
       "      <th></th>\n",
       "      <th></th>\n",
       "      <th></th>\n",
       "      <th></th>\n",
       "    </tr>\n",
       "  </thead>\n",
       "  <tbody>\n",
       "    <tr>\n",
       "      <th>1</th>\n",
       "      <td>-1.136720</td>\n",
       "      <td>2</td>\n",
       "      <td>2</td>\n",
       "      <td>1</td>\n",
       "      <td>-1.246020</td>\n",
       "      <td>2</td>\n",
       "      <td>2</td>\n",
       "      <td>-1</td>\n",
       "      <td>-1</td>\n",
       "      <td>-2</td>\n",
       "      <td>...</td>\n",
       "      <td>-0.341942</td>\n",
       "      <td>-0.227086</td>\n",
       "      <td>-0.296801</td>\n",
       "      <td>-0.308063</td>\n",
       "      <td>-0.314136</td>\n",
       "      <td>-0.293382</td>\n",
       "      <td>1</td>\n",
       "      <td>2.0</td>\n",
       "      <td>-0.690692</td>\n",
       "      <td>-0.509010</td>\n",
       "    </tr>\n",
       "    <tr>\n",
       "      <th>2</th>\n",
       "      <td>-0.365981</td>\n",
       "      <td>2</td>\n",
       "      <td>2</td>\n",
       "      <td>2</td>\n",
       "      <td>-1.029047</td>\n",
       "      <td>-1</td>\n",
       "      <td>2</td>\n",
       "      <td>0</td>\n",
       "      <td>0</td>\n",
       "      <td>0</td>\n",
       "      <td>...</td>\n",
       "      <td>-0.341942</td>\n",
       "      <td>-0.213588</td>\n",
       "      <td>-0.240005</td>\n",
       "      <td>-0.244230</td>\n",
       "      <td>-0.314136</td>\n",
       "      <td>-0.180878</td>\n",
       "      <td>1</td>\n",
       "      <td>0.0</td>\n",
       "      <td>-0.666000</td>\n",
       "      <td>-0.438186</td>\n",
       "    </tr>\n",
       "    <tr>\n",
       "      <th>3</th>\n",
       "      <td>-0.597202</td>\n",
       "      <td>2</td>\n",
       "      <td>2</td>\n",
       "      <td>2</td>\n",
       "      <td>-0.161156</td>\n",
       "      <td>0</td>\n",
       "      <td>0</td>\n",
       "      <td>0</td>\n",
       "      <td>0</td>\n",
       "      <td>0</td>\n",
       "      <td>...</td>\n",
       "      <td>-0.250292</td>\n",
       "      <td>-0.191887</td>\n",
       "      <td>-0.240005</td>\n",
       "      <td>-0.244230</td>\n",
       "      <td>-0.248683</td>\n",
       "      <td>-0.012122</td>\n",
       "      <td>0</td>\n",
       "      <td>0.0</td>\n",
       "      <td>-0.443172</td>\n",
       "      <td>-0.339249</td>\n",
       "    </tr>\n",
       "    <tr>\n",
       "      <th>4</th>\n",
       "      <td>-0.905498</td>\n",
       "      <td>2</td>\n",
       "      <td>2</td>\n",
       "      <td>1</td>\n",
       "      <td>0.164303</td>\n",
       "      <td>0</td>\n",
       "      <td>0</td>\n",
       "      <td>0</td>\n",
       "      <td>0</td>\n",
       "      <td>0</td>\n",
       "      <td>...</td>\n",
       "      <td>-0.221191</td>\n",
       "      <td>-0.169361</td>\n",
       "      <td>-0.228645</td>\n",
       "      <td>-0.237846</td>\n",
       "      <td>-0.244166</td>\n",
       "      <td>-0.237130</td>\n",
       "      <td>0</td>\n",
       "      <td>0.0</td>\n",
       "      <td>-0.101501</td>\n",
       "      <td>-0.382454</td>\n",
       "    </tr>\n",
       "    <tr>\n",
       "      <th>5</th>\n",
       "      <td>-0.905498</td>\n",
       "      <td>1</td>\n",
       "      <td>2</td>\n",
       "      <td>1</td>\n",
       "      <td>2.334029</td>\n",
       "      <td>-1</td>\n",
       "      <td>0</td>\n",
       "      <td>-1</td>\n",
       "      <td>0</td>\n",
       "      <td>0</td>\n",
       "      <td>...</td>\n",
       "      <td>-0.221191</td>\n",
       "      <td>1.335034</td>\n",
       "      <td>0.271165</td>\n",
       "      <td>0.266434</td>\n",
       "      <td>-0.269039</td>\n",
       "      <td>-0.255187</td>\n",
       "      <td>0</td>\n",
       "      <td>0.0</td>\n",
       "      <td>-0.422923</td>\n",
       "      <td>0.450470</td>\n",
       "    </tr>\n",
       "    <tr>\n",
       "      <th>...</th>\n",
       "      <td>...</td>\n",
       "      <td>...</td>\n",
       "      <td>...</td>\n",
       "      <td>...</td>\n",
       "      <td>...</td>\n",
       "      <td>...</td>\n",
       "      <td>...</td>\n",
       "      <td>...</td>\n",
       "      <td>...</td>\n",
       "      <td>...</td>\n",
       "      <td>...</td>\n",
       "      <td>...</td>\n",
       "      <td>...</td>\n",
       "      <td>...</td>\n",
       "      <td>...</td>\n",
       "      <td>...</td>\n",
       "      <td>...</td>\n",
       "      <td>...</td>\n",
       "      <td>...</td>\n",
       "      <td>...</td>\n",
       "      <td>...</td>\n",
       "    </tr>\n",
       "    <tr>\n",
       "      <th>29996</th>\n",
       "      <td>0.404759</td>\n",
       "      <td>1</td>\n",
       "      <td>3</td>\n",
       "      <td>1</td>\n",
       "      <td>0.381275</td>\n",
       "      <td>0</td>\n",
       "      <td>0</td>\n",
       "      <td>0</td>\n",
       "      <td>0</td>\n",
       "      <td>0</td>\n",
       "      <td>...</td>\n",
       "      <td>0.171250</td>\n",
       "      <td>0.611048</td>\n",
       "      <td>-0.012648</td>\n",
       "      <td>-0.113564</td>\n",
       "      <td>0.013131</td>\n",
       "      <td>-0.237130</td>\n",
       "      <td>0</td>\n",
       "      <td>0.0</td>\n",
       "      <td>1.200055</td>\n",
       "      <td>0.179208</td>\n",
       "    </tr>\n",
       "    <tr>\n",
       "      <th>29997</th>\n",
       "      <td>-0.134759</td>\n",
       "      <td>1</td>\n",
       "      <td>3</td>\n",
       "      <td>2</td>\n",
       "      <td>0.815221</td>\n",
       "      <td>-1</td>\n",
       "      <td>-1</td>\n",
       "      <td>-1</td>\n",
       "      <td>-1</td>\n",
       "      <td>0</td>\n",
       "      <td>...</td>\n",
       "      <td>-0.231032</td>\n",
       "      <td>-0.103955</td>\n",
       "      <td>0.214255</td>\n",
       "      <td>-0.299828</td>\n",
       "      <td>-0.314136</td>\n",
       "      <td>-0.293382</td>\n",
       "      <td>0</td>\n",
       "      <td>-1.0</td>\n",
       "      <td>-0.655188</td>\n",
       "      <td>-0.282136</td>\n",
       "    </tr>\n",
       "    <tr>\n",
       "      <th>29998</th>\n",
       "      <td>-1.059646</td>\n",
       "      <td>1</td>\n",
       "      <td>2</td>\n",
       "      <td>2</td>\n",
       "      <td>0.164303</td>\n",
       "      <td>4</td>\n",
       "      <td>3</td>\n",
       "      <td>2</td>\n",
       "      <td>-1</td>\n",
       "      <td>0</td>\n",
       "      <td>...</td>\n",
       "      <td>-0.341942</td>\n",
       "      <td>-0.256990</td>\n",
       "      <td>0.952725</td>\n",
       "      <td>-0.039964</td>\n",
       "      <td>-0.183229</td>\n",
       "      <td>-0.119001</td>\n",
       "      <td>1</td>\n",
       "      <td>0.0</td>\n",
       "      <td>-0.525263</td>\n",
       "      <td>-0.005744</td>\n",
       "    </tr>\n",
       "    <tr>\n",
       "      <th>29999</th>\n",
       "      <td>-0.674276</td>\n",
       "      <td>1</td>\n",
       "      <td>3</td>\n",
       "      <td>1</td>\n",
       "      <td>0.598248</td>\n",
       "      <td>1</td>\n",
       "      <td>-1</td>\n",
       "      <td>0</td>\n",
       "      <td>0</td>\n",
       "      <td>0</td>\n",
       "      <td>...</td>\n",
       "      <td>4.844316</td>\n",
       "      <td>-0.109033</td>\n",
       "      <td>-0.229895</td>\n",
       "      <td>-0.185120</td>\n",
       "      <td>3.152536</td>\n",
       "      <td>-0.191904</td>\n",
       "      <td>1</td>\n",
       "      <td>0.0</td>\n",
       "      <td>-0.008567</td>\n",
       "      <td>1.899309</td>\n",
       "    </tr>\n",
       "    <tr>\n",
       "      <th>30000</th>\n",
       "      <td>-0.905498</td>\n",
       "      <td>1</td>\n",
       "      <td>2</td>\n",
       "      <td>1</td>\n",
       "      <td>1.140680</td>\n",
       "      <td>0</td>\n",
       "      <td>0</td>\n",
       "      <td>0</td>\n",
       "      <td>0</td>\n",
       "      <td>0</td>\n",
       "      <td>...</td>\n",
       "      <td>-0.216481</td>\n",
       "      <td>-0.178866</td>\n",
       "      <td>-0.215582</td>\n",
       "      <td>-0.244230</td>\n",
       "      <td>-0.248683</td>\n",
       "      <td>-0.237130</td>\n",
       "      <td>1</td>\n",
       "      <td>0.0</td>\n",
       "      <td>-0.102719</td>\n",
       "      <td>-0.383736</td>\n",
       "    </tr>\n",
       "  </tbody>\n",
       "</table>\n",
       "<p>29428 rows × 27 columns</p>\n",
       "</div>"
      ],
      "text/plain": [
       "       LIMIT_BAL  SEX  EDUCATION  MARRIAGE       AGE  PAY_1  PAY_2  PAY_3  \\\n",
       "ID                                                                          \n",
       "1      -1.136720    2          2         1 -1.246020      2      2     -1   \n",
       "2      -0.365981    2          2         2 -1.029047     -1      2      0   \n",
       "3      -0.597202    2          2         2 -0.161156      0      0      0   \n",
       "4      -0.905498    2          2         1  0.164303      0      0      0   \n",
       "5      -0.905498    1          2         1  2.334029     -1      0     -1   \n",
       "...          ...  ...        ...       ...       ...    ...    ...    ...   \n",
       "29996   0.404759    1          3         1  0.381275      0      0      0   \n",
       "29997  -0.134759    1          3         2  0.815221     -1     -1     -1   \n",
       "29998  -1.059646    1          2         2  0.164303      4      3      2   \n",
       "29999  -0.674276    1          3         1  0.598248      1     -1      0   \n",
       "30000  -0.905498    1          2         1  1.140680      0      0      0   \n",
       "\n",
       "       PAY_4  PAY_5  ...  PAY_AMT1  PAY_AMT2  PAY_AMT3  PAY_AMT4  PAY_AMT5  \\\n",
       "ID                   ...                                                     \n",
       "1         -1     -2  ... -0.341942 -0.227086 -0.296801 -0.308063 -0.314136   \n",
       "2          0      0  ... -0.341942 -0.213588 -0.240005 -0.244230 -0.314136   \n",
       "3          0      0  ... -0.250292 -0.191887 -0.240005 -0.244230 -0.248683   \n",
       "4          0      0  ... -0.221191 -0.169361 -0.228645 -0.237846 -0.244166   \n",
       "5          0      0  ... -0.221191  1.335034  0.271165  0.266434 -0.269039   \n",
       "...      ...    ...  ...       ...       ...       ...       ...       ...   \n",
       "29996      0      0  ...  0.171250  0.611048 -0.012648 -0.113564  0.013131   \n",
       "29997     -1      0  ... -0.231032 -0.103955  0.214255 -0.299828 -0.314136   \n",
       "29998     -1      0  ... -0.341942 -0.256990  0.952725 -0.039964 -0.183229   \n",
       "29999      0      0  ...  4.844316 -0.109033 -0.229895 -0.185120  3.152536   \n",
       "30000      0      0  ... -0.216481 -0.178866 -0.215582 -0.244230 -0.248683   \n",
       "\n",
       "       PAY_AMT6  default_payment_next_month  PAY_MODE_SEVEREST  BILL_AMT_MEAN  \\\n",
       "ID                                                                              \n",
       "1     -0.293382                           1                2.0      -0.690692   \n",
       "2     -0.180878                           1                0.0      -0.666000   \n",
       "3     -0.012122                           0                0.0      -0.443172   \n",
       "4     -0.237130                           0                0.0      -0.101501   \n",
       "5     -0.255187                           0                0.0      -0.422923   \n",
       "...         ...                         ...                ...            ...   \n",
       "29996 -0.237130                           0                0.0       1.200055   \n",
       "29997 -0.293382                           0               -1.0      -0.655188   \n",
       "29998 -0.119001                           1                0.0      -0.525263   \n",
       "29999 -0.191904                           1                0.0      -0.008567   \n",
       "30000 -0.237130                           1                0.0      -0.102719   \n",
       "\n",
       "       PAY_AMT_MEAN  \n",
       "ID                   \n",
       "1         -0.509010  \n",
       "2         -0.438186  \n",
       "3         -0.339249  \n",
       "4         -0.382454  \n",
       "5          0.450470  \n",
       "...             ...  \n",
       "29996      0.179208  \n",
       "29997     -0.282136  \n",
       "29998     -0.005744  \n",
       "29999      1.899309  \n",
       "30000     -0.383736  \n",
       "\n",
       "[29428 rows x 27 columns]"
      ]
     },
     "execution_count": 19,
     "metadata": {},
     "output_type": "execute_result"
    }
   ],
   "source": [
    "ccdInliers"
   ]
  },
  {
   "cell_type": "code",
   "execution_count": 20,
   "metadata": {},
   "outputs": [
    {
     "data": {
      "text/html": [
       "<div>\n",
       "<style scoped>\n",
       "    .dataframe tbody tr th:only-of-type {\n",
       "        vertical-align: middle;\n",
       "    }\n",
       "\n",
       "    .dataframe tbody tr th {\n",
       "        vertical-align: top;\n",
       "    }\n",
       "\n",
       "    .dataframe thead th {\n",
       "        text-align: right;\n",
       "    }\n",
       "</style>\n",
       "<table border=\"1\" class=\"dataframe\">\n",
       "  <thead>\n",
       "    <tr style=\"text-align: right;\">\n",
       "      <th></th>\n",
       "      <th>LIMIT_BAL</th>\n",
       "      <th>SEX</th>\n",
       "      <th>EDUCATION</th>\n",
       "      <th>MARRIAGE</th>\n",
       "      <th>AGE</th>\n",
       "      <th>PAY_1</th>\n",
       "      <th>PAY_2</th>\n",
       "      <th>PAY_3</th>\n",
       "      <th>PAY_4</th>\n",
       "      <th>PAY_5</th>\n",
       "      <th>...</th>\n",
       "      <th>PAY_AMT1</th>\n",
       "      <th>PAY_AMT2</th>\n",
       "      <th>PAY_AMT3</th>\n",
       "      <th>PAY_AMT4</th>\n",
       "      <th>PAY_AMT5</th>\n",
       "      <th>PAY_AMT6</th>\n",
       "      <th>default_payment_next_month</th>\n",
       "      <th>PAY_MODE_SEVEREST</th>\n",
       "      <th>BILL_AMT_MEAN</th>\n",
       "      <th>PAY_AMT_MEAN</th>\n",
       "    </tr>\n",
       "    <tr>\n",
       "      <th>ID</th>\n",
       "      <th></th>\n",
       "      <th></th>\n",
       "      <th></th>\n",
       "      <th></th>\n",
       "      <th></th>\n",
       "      <th></th>\n",
       "      <th></th>\n",
       "      <th></th>\n",
       "      <th></th>\n",
       "      <th></th>\n",
       "      <th></th>\n",
       "      <th></th>\n",
       "      <th></th>\n",
       "      <th></th>\n",
       "      <th></th>\n",
       "      <th></th>\n",
       "      <th></th>\n",
       "      <th></th>\n",
       "      <th></th>\n",
       "      <th></th>\n",
       "      <th></th>\n",
       "    </tr>\n",
       "  </thead>\n",
       "  <tbody>\n",
       "    <tr>\n",
       "      <th>7</th>\n",
       "      <td>2.562830</td>\n",
       "      <td>1</td>\n",
       "      <td>1</td>\n",
       "      <td>2</td>\n",
       "      <td>-0.703588</td>\n",
       "      <td>0</td>\n",
       "      <td>0</td>\n",
       "      <td>0</td>\n",
       "      <td>0</td>\n",
       "      <td>0</td>\n",
       "      <td>...</td>\n",
       "      <td>2.978712</td>\n",
       "      <td>1.479085</td>\n",
       "      <td>1.861472</td>\n",
       "      <td>0.983852</td>\n",
       "      <td>0.585848</td>\n",
       "      <td>0.481207</td>\n",
       "      <td>0</td>\n",
       "      <td>0.0</td>\n",
       "      <td>6.467344</td>\n",
       "      <td>2.451303</td>\n",
       "    </tr>\n",
       "    <tr>\n",
       "      <th>18</th>\n",
       "      <td>1.175499</td>\n",
       "      <td>1</td>\n",
       "      <td>1</td>\n",
       "      <td>1</td>\n",
       "      <td>1.466139</td>\n",
       "      <td>0</td>\n",
       "      <td>0</td>\n",
       "      <td>0</td>\n",
       "      <td>-1</td>\n",
       "      <td>-1</td>\n",
       "      <td>...</td>\n",
       "      <td>0.283428</td>\n",
       "      <td>0.177029</td>\n",
       "      <td>4.016337</td>\n",
       "      <td>0.968596</td>\n",
       "      <td>12.488479</td>\n",
       "      <td>2.519214</td>\n",
       "      <td>0</td>\n",
       "      <td>0.0</td>\n",
       "      <td>1.834108</td>\n",
       "      <td>5.429274</td>\n",
       "    </tr>\n",
       "    <tr>\n",
       "      <th>41</th>\n",
       "      <td>1.483795</td>\n",
       "      <td>1</td>\n",
       "      <td>1</td>\n",
       "      <td>2</td>\n",
       "      <td>-0.269643</td>\n",
       "      <td>0</td>\n",
       "      <td>0</td>\n",
       "      <td>0</td>\n",
       "      <td>0</td>\n",
       "      <td>0</td>\n",
       "      <td>...</td>\n",
       "      <td>0.261814</td>\n",
       "      <td>0.046824</td>\n",
       "      <td>0.043979</td>\n",
       "      <td>11.746145</td>\n",
       "      <td>1.518558</td>\n",
       "      <td>-0.068374</td>\n",
       "      <td>0</td>\n",
       "      <td>0.0</td>\n",
       "      <td>3.638148</td>\n",
       "      <td>3.488414</td>\n",
       "    </tr>\n",
       "    <tr>\n",
       "      <th>103</th>\n",
       "      <td>2.408682</td>\n",
       "      <td>1</td>\n",
       "      <td>1</td>\n",
       "      <td>1</td>\n",
       "      <td>2.984947</td>\n",
       "      <td>0</td>\n",
       "      <td>0</td>\n",
       "      <td>0</td>\n",
       "      <td>2</td>\n",
       "      <td>2</td>\n",
       "      <td>...</td>\n",
       "      <td>0.628776</td>\n",
       "      <td>2.160190</td>\n",
       "      <td>0.668742</td>\n",
       "      <td>-0.308063</td>\n",
       "      <td>0.864025</td>\n",
       "      <td>1.067915</td>\n",
       "      <td>0</td>\n",
       "      <td>0.0</td>\n",
       "      <td>6.563298</td>\n",
       "      <td>1.632781</td>\n",
       "    </tr>\n",
       "    <tr>\n",
       "      <th>159</th>\n",
       "      <td>0.327685</td>\n",
       "      <td>1</td>\n",
       "      <td>3</td>\n",
       "      <td>1</td>\n",
       "      <td>1.032193</td>\n",
       "      <td>2</td>\n",
       "      <td>3</td>\n",
       "      <td>4</td>\n",
       "      <td>4</td>\n",
       "      <td>5</td>\n",
       "      <td>...</td>\n",
       "      <td>0.290673</td>\n",
       "      <td>0.197775</td>\n",
       "      <td>0.332392</td>\n",
       "      <td>0.399078</td>\n",
       "      <td>0.450228</td>\n",
       "      <td>0.296026</td>\n",
       "      <td>1</td>\n",
       "      <td>4.0</td>\n",
       "      <td>1.411090</td>\n",
       "      <td>0.552662</td>\n",
       "    </tr>\n",
       "    <tr>\n",
       "      <th>...</th>\n",
       "      <td>...</td>\n",
       "      <td>...</td>\n",
       "      <td>...</td>\n",
       "      <td>...</td>\n",
       "      <td>...</td>\n",
       "      <td>...</td>\n",
       "      <td>...</td>\n",
       "      <td>...</td>\n",
       "      <td>...</td>\n",
       "      <td>...</td>\n",
       "      <td>...</td>\n",
       "      <td>...</td>\n",
       "      <td>...</td>\n",
       "      <td>...</td>\n",
       "      <td>...</td>\n",
       "      <td>...</td>\n",
       "      <td>...</td>\n",
       "      <td>...</td>\n",
       "      <td>...</td>\n",
       "      <td>...</td>\n",
       "      <td>...</td>\n",
       "    </tr>\n",
       "    <tr>\n",
       "      <th>29838</th>\n",
       "      <td>2.562830</td>\n",
       "      <td>1</td>\n",
       "      <td>1</td>\n",
       "      <td>2</td>\n",
       "      <td>-0.161156</td>\n",
       "      <td>0</td>\n",
       "      <td>0</td>\n",
       "      <td>0</td>\n",
       "      <td>0</td>\n",
       "      <td>0</td>\n",
       "      <td>...</td>\n",
       "      <td>0.710887</td>\n",
       "      <td>0.561222</td>\n",
       "      <td>0.650169</td>\n",
       "      <td>0.665006</td>\n",
       "      <td>0.681802</td>\n",
       "      <td>0.608730</td>\n",
       "      <td>0</td>\n",
       "      <td>0.0</td>\n",
       "      <td>6.726404</td>\n",
       "      <td>1.114817</td>\n",
       "    </tr>\n",
       "    <tr>\n",
       "      <th>29868</th>\n",
       "      <td>1.329647</td>\n",
       "      <td>1</td>\n",
       "      <td>1</td>\n",
       "      <td>2</td>\n",
       "      <td>-0.703588</td>\n",
       "      <td>-1</td>\n",
       "      <td>0</td>\n",
       "      <td>0</td>\n",
       "      <td>0</td>\n",
       "      <td>0</td>\n",
       "      <td>...</td>\n",
       "      <td>17.773069</td>\n",
       "      <td>0.316523</td>\n",
       "      <td>0.385043</td>\n",
       "      <td>0.522085</td>\n",
       "      <td>0.341118</td>\n",
       "      <td>0.381922</td>\n",
       "      <td>0</td>\n",
       "      <td>0.0</td>\n",
       "      <td>3.310135</td>\n",
       "      <td>5.402640</td>\n",
       "    </tr>\n",
       "    <tr>\n",
       "      <th>29884</th>\n",
       "      <td>1.946238</td>\n",
       "      <td>1</td>\n",
       "      <td>1</td>\n",
       "      <td>1</td>\n",
       "      <td>-0.161156</td>\n",
       "      <td>0</td>\n",
       "      <td>0</td>\n",
       "      <td>0</td>\n",
       "      <td>0</td>\n",
       "      <td>0</td>\n",
       "      <td>...</td>\n",
       "      <td>0.865569</td>\n",
       "      <td>0.784655</td>\n",
       "      <td>0.327962</td>\n",
       "      <td>0.330267</td>\n",
       "      <td>-0.314136</td>\n",
       "      <td>0.325389</td>\n",
       "      <td>0</td>\n",
       "      <td>0.0</td>\n",
       "      <td>6.831146</td>\n",
       "      <td>0.729131</td>\n",
       "    </tr>\n",
       "    <tr>\n",
       "      <th>29922</th>\n",
       "      <td>1.869164</td>\n",
       "      <td>1</td>\n",
       "      <td>1</td>\n",
       "      <td>2</td>\n",
       "      <td>-0.161156</td>\n",
       "      <td>0</td>\n",
       "      <td>0</td>\n",
       "      <td>0</td>\n",
       "      <td>-1</td>\n",
       "      <td>-1</td>\n",
       "      <td>...</td>\n",
       "      <td>0.700079</td>\n",
       "      <td>0.550285</td>\n",
       "      <td>-0.213083</td>\n",
       "      <td>-0.216909</td>\n",
       "      <td>-0.314136</td>\n",
       "      <td>-0.293382</td>\n",
       "      <td>1</td>\n",
       "      <td>0.0</td>\n",
       "      <td>2.722035</td>\n",
       "      <td>0.116867</td>\n",
       "    </tr>\n",
       "    <tr>\n",
       "      <th>29964</th>\n",
       "      <td>3.410644</td>\n",
       "      <td>1</td>\n",
       "      <td>1</td>\n",
       "      <td>2</td>\n",
       "      <td>-0.486615</td>\n",
       "      <td>0</td>\n",
       "      <td>-1</td>\n",
       "      <td>2</td>\n",
       "      <td>-1</td>\n",
       "      <td>-1</td>\n",
       "      <td>...</td>\n",
       "      <td>19.160197</td>\n",
       "      <td>-0.187330</td>\n",
       "      <td>19.547669</td>\n",
       "      <td>15.659359</td>\n",
       "      <td>17.430208</td>\n",
       "      <td>12.086317</td>\n",
       "      <td>0</td>\n",
       "      <td>-1.0</td>\n",
       "      <td>4.177212</td>\n",
       "      <td>22.747961</td>\n",
       "    </tr>\n",
       "  </tbody>\n",
       "</table>\n",
       "<p>572 rows × 27 columns</p>\n",
       "</div>"
      ],
      "text/plain": [
       "       LIMIT_BAL  SEX  EDUCATION  MARRIAGE       AGE  PAY_1  PAY_2  PAY_3  \\\n",
       "ID                                                                          \n",
       "7       2.562830    1          1         2 -0.703588      0      0      0   \n",
       "18      1.175499    1          1         1  1.466139      0      0      0   \n",
       "41      1.483795    1          1         2 -0.269643      0      0      0   \n",
       "103     2.408682    1          1         1  2.984947      0      0      0   \n",
       "159     0.327685    1          3         1  1.032193      2      3      4   \n",
       "...          ...  ...        ...       ...       ...    ...    ...    ...   \n",
       "29838   2.562830    1          1         2 -0.161156      0      0      0   \n",
       "29868   1.329647    1          1         2 -0.703588     -1      0      0   \n",
       "29884   1.946238    1          1         1 -0.161156      0      0      0   \n",
       "29922   1.869164    1          1         2 -0.161156      0      0      0   \n",
       "29964   3.410644    1          1         2 -0.486615      0     -1      2   \n",
       "\n",
       "       PAY_4  PAY_5  ...   PAY_AMT1  PAY_AMT2   PAY_AMT3   PAY_AMT4  \\\n",
       "ID                   ...                                              \n",
       "7          0      0  ...   2.978712  1.479085   1.861472   0.983852   \n",
       "18        -1     -1  ...   0.283428  0.177029   4.016337   0.968596   \n",
       "41         0      0  ...   0.261814  0.046824   0.043979  11.746145   \n",
       "103        2      2  ...   0.628776  2.160190   0.668742  -0.308063   \n",
       "159        4      5  ...   0.290673  0.197775   0.332392   0.399078   \n",
       "...      ...    ...  ...        ...       ...        ...        ...   \n",
       "29838      0      0  ...   0.710887  0.561222   0.650169   0.665006   \n",
       "29868      0      0  ...  17.773069  0.316523   0.385043   0.522085   \n",
       "29884      0      0  ...   0.865569  0.784655   0.327962   0.330267   \n",
       "29922     -1     -1  ...   0.700079  0.550285  -0.213083  -0.216909   \n",
       "29964     -1     -1  ...  19.160197 -0.187330  19.547669  15.659359   \n",
       "\n",
       "        PAY_AMT5   PAY_AMT6  default_payment_next_month  PAY_MODE_SEVEREST  \\\n",
       "ID                                                                           \n",
       "7       0.585848   0.481207                           0                0.0   \n",
       "18     12.488479   2.519214                           0                0.0   \n",
       "41      1.518558  -0.068374                           0                0.0   \n",
       "103     0.864025   1.067915                           0                0.0   \n",
       "159     0.450228   0.296026                           1                4.0   \n",
       "...          ...        ...                         ...                ...   \n",
       "29838   0.681802   0.608730                           0                0.0   \n",
       "29868   0.341118   0.381922                           0                0.0   \n",
       "29884  -0.314136   0.325389                           0                0.0   \n",
       "29922  -0.314136  -0.293382                           1                0.0   \n",
       "29964  17.430208  12.086317                           0               -1.0   \n",
       "\n",
       "       BILL_AMT_MEAN  PAY_AMT_MEAN  \n",
       "ID                                  \n",
       "7           6.467344      2.451303  \n",
       "18          1.834108      5.429274  \n",
       "41          3.638148      3.488414  \n",
       "103         6.563298      1.632781  \n",
       "159         1.411090      0.552662  \n",
       "...              ...           ...  \n",
       "29838       6.726404      1.114817  \n",
       "29868       3.310135      5.402640  \n",
       "29884       6.831146      0.729131  \n",
       "29922       2.722035      0.116867  \n",
       "29964       4.177212     22.747961  \n",
       "\n",
       "[572 rows x 27 columns]"
      ]
     },
     "execution_count": 20,
     "metadata": {},
     "output_type": "execute_result"
    }
   ],
   "source": [
    "ccdOutliers"
   ]
  },
  {
   "cell_type": "code",
   "execution_count": 21,
   "metadata": {},
   "outputs": [
    {
     "data": {
      "text/plain": [
       "<seaborn.axisgrid.JointGrid at 0x20c511fdc10>"
      ]
     },
     "execution_count": 21,
     "metadata": {},
     "output_type": "execute_result"
    },
    {
     "data": {
      "image/png": "[encoded data removed]",
      "text/plain": [
       "<Figure size 432x432 with 3 Axes>"
      ]
     },
     "metadata": {
      "needs_background": "light"
     },
     "output_type": "display_data"
    }
   ],
   "source": [
    "seaborn.jointplot(x = ccdOutliers['LIMIT_BAL'], y = ccdOutliers['AGE'], kind = 'kde')"
   ]
  },
  {
   "cell_type": "code",
   "execution_count": 22,
   "metadata": {},
   "outputs": [
    {
     "name": "stderr",
     "output_type": "stream",
     "text": [
      "C:\\Users\\AnkitApurv\\.conda\\envs\\CreditDefaulterClassification\\lib\\site-packages\\seaborn\\distributions.py:2557: FutureWarning: `distplot` is a deprecated function and will be removed in a future version. Please adapt your code to use either `displot` (a figure-level function with similar flexibility) or `histplot` (an axes-level function for histograms).\n",
      "  warnings.warn(msg, FutureWarning)\n",
      "C:\\Users\\AnkitApurv\\.conda\\envs\\CreditDefaulterClassification\\lib\\site-packages\\seaborn\\distributions.py:2056: FutureWarning: The `axis` variable is no longer used and will be removed. Instead, assign variables directly to `x` or `y`.\n",
      "  warnings.warn(msg, FutureWarning)\n"
     ]
    },
    {
     "data": {
      "text/plain": [
       "<AxesSubplot:xlabel='LIMIT_BAL', ylabel='Density'>"
      ]
     },
     "execution_count": 22,
     "metadata": {},
     "output_type": "execute_result"
    },
    {
     "data": {
      "image/png": "[encoded data removed]",
      "text/plain": [
       "<Figure size 432x288 with 1 Axes>"
      ]
     },
     "metadata": {
      "needs_background": "light"
     },
     "output_type": "display_data"
    }
   ],
   "source": [
    "seaborn.distplot(a = ccdOutliers['LIMIT_BAL'], bins = ccdOutliers['LIMIT_BAL'].value_counts().size, kde = True, hist = True, rug = True)"
   ]
  },
  {
   "cell_type": "code",
   "execution_count": 23,
   "metadata": {},
   "outputs": [
    {
     "data": {
      "text/plain": [
       "<seaborn.axisgrid.JointGrid at 0x20c4652b280>"
      ]
     },
     "execution_count": 23,
     "metadata": {},
     "output_type": "execute_result"
    },
    {
     "data": {
      "image/png": "[encoded data removed]",
      "text/plain": [
       "<Figure size 432x432 with 3 Axes>"
      ]
     },
     "metadata": {
      "needs_background": "light"
     },
     "output_type": "display_data"
    }
   ],
   "source": [
    "seaborn.jointplot(x = ccdInliers['LIMIT_BAL'], y = ccdInliers['AGE'], kind = 'kde')"
   ]
  },
  {
   "cell_type": "code",
   "execution_count": 24,
   "metadata": {},
   "outputs": [
    {
     "name": "stderr",
     "output_type": "stream",
     "text": [
      "C:\\Users\\AnkitApurv\\.conda\\envs\\CreditDefaulterClassification\\lib\\site-packages\\seaborn\\distributions.py:2557: FutureWarning: `distplot` is a deprecated function and will be removed in a future version. Please adapt your code to use either `displot` (a figure-level function with similar flexibility) or `histplot` (an axes-level function for histograms).\n",
      "  warnings.warn(msg, FutureWarning)\n",
      "C:\\Users\\AnkitApurv\\.conda\\envs\\CreditDefaulterClassification\\lib\\site-packages\\seaborn\\distributions.py:2056: FutureWarning: The `axis` variable is no longer used and will be removed. Instead, assign variables directly to `x` or `y`.\n",
      "  warnings.warn(msg, FutureWarning)\n"
     ]
    },
    {
     "data": {
      "text/plain": [
       "<AxesSubplot:xlabel='LIMIT_BAL', ylabel='Density'>"
      ]
     },
     "execution_count": 24,
     "metadata": {},
     "output_type": "execute_result"
    },
    {
     "data": {
      "image/png": "[encoded data removed]",
      "text/plain": [
       "<Figure size 432x288 with 1 Axes>"
      ]
     },
     "metadata": {
      "needs_background": "light"
     },
     "output_type": "display_data"
    }
   ],
   "source": [
    "seaborn.distplot(a = ccdInliers['LIMIT_BAL'], bins = ccdInliers['LIMIT_BAL'].value_counts().size, kde = True, hist = True, rug = True)"
   ]
  },
  {
   "cell_type": "markdown",
   "metadata": {},
   "source": [
    "further inlier outlier correctness validation via pay_amt_mean, bill_amt_mean"
   ]
  },
  {
   "cell_type": "markdown",
   "metadata": {},
   "source": [
    "## 3.d. Data Splitting\n",
    "\n",
    "Data is split before oversampling to avoid synthetic datapoints in test dataset.\n",
    "\n",
    "Test dataset is separated even though GridSearchCV uses Stratified K-Fold cross-validation so that model's accuracy can be tested independently."
   ]
  },
  {
   "cell_type": "code",
   "execution_count": 25,
   "metadata": {},
   "outputs": [],
   "source": [
    "ccdY = pandas.DataFrame(ccdInliers['default_payment_next_month'])\n",
    "ccdX = ccdInliers.drop(['default_payment_next_month'], axis = 'columns')"
   ]
  },
  {
   "cell_type": "markdown",
   "metadata": {},
   "source": [
    "https://www.tensorflow.org/api_docs/python/tf/data/Dataset#from_tensors"
   ]
  },
  {
   "cell_type": "markdown",
   "metadata": {},
   "source": [
    "train_set = tf.data.Dataset.from_tensors((trainX.values, trainY.values))\n",
    "\n",
    "validation_set/dev_set = tf.data.Dataset.from_tensors((validationX.values, validationY.values))\n",
    "\n",
    "test_set = tf.data.Dataset.from_tensors((testX.values, testY.values))"
   ]
  },
  {
   "cell_type": "code",
   "execution_count": 26,
   "metadata": {},
   "outputs": [],
   "source": [
    "trainX, testX, trainY, testY = train_test_split(ccdX, ccdY, test_size = 0.25, stratify = ccdY, random_state = 44)\n",
    "\n",
    "devX, testX, devY, testY = train_test_split(testX, testY, test_size = 0.25, stratify = testY, random_state = 44)\n",
    "\n"
   ]
  },
  {
   "cell_type": "markdown",
   "metadata": {},
   "source": [
    "## Model training"
   ]
  },
  {
   "cell_type": "code",
   "execution_count": 27,
   "metadata": {},
   "outputs": [],
   "source": [
    "def input_fnx(features, labels, validation = True, batch_size = 256):\n",
    "    train_data = tf.data.Dataset.from_tensor_slices((trainX.to_dict(orient = 'list'), trainY.values))\n",
    "    dev_data = tf.data.Dataset.from_tensor_slices((devX.to_dict(orient = 'list'), devY.values))\n",
    "    test_data = tf.data.Dataset.from_tensor_slices((testX.to_dict(orient = 'list'), testY.values))\n",
    "    #An input function for training or evaluating\n",
    "    # Convert the inputs to a Dataset.\n",
    "    dataset = train_data\n",
    "\n",
    "    # Shuffle and repeat if you are in training mode.\n",
    "    if validation:\n",
    "        dataset = dev_data\n",
    "    \n",
    "    return dataset.batch(batch_size)"
   ]
  },
  {
   "cell_type": "code",
   "execution_count": 28,
   "metadata": {},
   "outputs": [],
   "source": [
    "test_data = tf.data.Dataset.from_tensor_slices((testX.to_dict(orient = 'list'), testY.values))\n",
    "#test_data\n",
    "\n",
    "#for feat, targ in test_data.take(1):\n",
    "#  print ('Features: {}, Target: {}'.format(feat, targ))\n"
   ]
  },
  {
   "cell_type": "markdown",
   "metadata": {
    "slideshow": {
     "slide_type": "slide"
    }
   },
   "source": [
    "## 4. Classifier"
   ]
  },
  {
   "cell_type": "code",
   "execution_count": 29,
   "metadata": {},
   "outputs": [],
   "source": [
    "limit_bal = feature_column.embedding_column('LIMIT_BAL', dimension = ccd['LIMIT_BAL'].nunique())\n",
    "\n",
    "sex1 = feature_column.categorical_column_with_vocabulary_list('SEX', [1, 2])\n",
    "sex = feature_column.indicator_column(sex1)\n",
    "\n",
    "education1 = feature_column.categorical_column_with_vocabulary_list('EDUCATION', [0, 1, 2, 3, 4, 5, 6])\n",
    "education = feature_column.indicator_column(education1)\n",
    "\n",
    "marriage1 = feature_column.categorical_column_with_vocabulary_list('MARRIAGE', [0, 1, 2, 3])\n",
    "marriage = feature_column.indicator_column(marriage1)\n",
    "\n",
    "age = feature_column.numeric_column('AGE')\n",
    "\n",
    "pay_11 = feature_column.categorical_column_with_vocabulary_list('PAY_1', [-2, -1, 0, 1, 2, 3, 4, 5, 6, 7, 8, 9])\n",
    "pay_1 = feature_column.indicator_column(pay_11)\n",
    "\n",
    "pay_21 = feature_column.categorical_column_with_vocabulary_list('PAY_2', [-2, -1, 0, 1, 2, 3, 4, 5, 6, 7, 8, 9])\n",
    "pay_2 = feature_column.indicator_column(pay_21)\n",
    "\n",
    "pay_31 = feature_column.categorical_column_with_vocabulary_list('PAY_3', [-2, -1, 0, 1, 2, 3, 4, 5, 6, 7, 8, 9])\n",
    "pay_3 = feature_column.indicator_column(pay_31)\n",
    "\n",
    "pay_41 = feature_column.categorical_column_with_vocabulary_list('PAY_4', [-2, -1, 0, 1, 2, 3, 4, 5, 6, 7, 8, 9])\n",
    "pay_4 = feature_column.indicator_column(pay_41)\n",
    "\n",
    "pay_51 = feature_column.categorical_column_with_vocabulary_list('PAY_5', [-2, -1, 0, 1, 2, 3, 4, 5, 6, 7, 8, 9])\n",
    "pay_5 = feature_column.indicator_column(pay_51)\n",
    "\n",
    "pay_61 = feature_column.categorical_column_with_vocabulary_list('PAY_6', [-2, -1, 0, 1, 2, 3, 4, 5, 6, 7, 8, 9])\n",
    "pay_6 = feature_column.indicator_column(pay_61)\n",
    "\n",
    "pay_m1 = feature_column.categorical_column_with_vocabulary_list('PAY_MODE_SEVEREST', [-2, -1, 0, 1, 2, 3, 4, 5, 6, 7, 8, 9])\n",
    "pay_m = feature_column.indicator_column(pay_m1)\n",
    "\n",
    "bill_amt1 = feature_column.numeric_column('BILL_AMT1')\n",
    "bill_amt2 = feature_column.numeric_column('BILL_AMT2')\n",
    "bill_amt3 = feature_column.numeric_column('BILL_AMT3')\n",
    "bill_amt4 = feature_column.numeric_column('BILL_AMT4')\n",
    "bill_amt5 = feature_column.numeric_column('BILL_AMT5')\n",
    "bill_amt6 = feature_column.numeric_column('BILL_AMT6')\n",
    "bill_amtx = feature_column.numeric_column('BILL_AMT_MEAN')\n",
    "\n",
    "pay_amt1 = feature_column.numeric_column('PAY_AMT1')\n",
    "pay_amt2 = feature_column.numeric_column('PAY_AMT2')\n",
    "pay_amt3 = feature_column.numeric_column('PAY_AMT3')\n",
    "pay_amt4 = feature_column.numeric_column('PAY_AMT4')\n",
    "pay_amt5 = feature_column.numeric_column('PAY_AMT5')\n",
    "pay_amt6 = feature_column.numeric_column('PAY_AMT6')\n",
    "pay_amtx = feature_column.numeric_column('PAY_AMT_MEAN')\n",
    "\n",
    "ccd_feature_columns = [limit_bal, sex, education, marriage, age,\n",
    "                   pay_1, pay_2, pay_3, pay_4, pay_5, pay_6, pay_m,\n",
    "                   bill_amt1, bill_amt2, bill_amt3, bill_amt4, bill_amt5, bill_amt6, bill_amtx,\n",
    "                   pay_amt1, pay_amt2, pay_amt3, pay_amt4, pay_amt5, pay_amt6, pay_amtx]\n",
    "\n",
    "#initial_feature_count = 23\n",
    "#dimention_reduced_count = 5"
   ]
  },
  {
   "cell_type": "code",
   "execution_count": 30,
   "metadata": {},
   "outputs": [],
   "source": [
    "#classifier = tf.estimator.DNNClassifier(feature_columns = ccd_feature_columns,\n",
    "#                                        hidden_units = [23, 5], n_classes = 2,\n",
    "#                                        model_dir = getcwd())\n",
    "\n",
    "def get_compiled_model():\n",
    "  model = tf.keras.Sequential([\n",
    "    tf.keras.layers.Dense(26, activation='relu', name = 'input'),\n",
    "    tf.keras.layers.Dense(5, activation='relu', name = 'hidden'),\n",
    "    tf.keras.layers.Dense(1, activation='sigmoid', name = 'output')\n",
    "  ])\n",
    "\n",
    "  model.compile(optimizer='adam',\n",
    "                loss=tf.keras.losses.BinaryCrossentropy(from_logits=True),\n",
    "                metrics=['accuracy'])\n",
    "  return model\n",
    "\n",
    "classifier = get_compiled_model()"
   ]
  },
  {
   "cell_type": "code",
   "execution_count": 31,
   "metadata": {},
   "outputs": [],
   "source": [
    "#classifier.train(input_fn = lambda: input_fnx(features = ccdX, labels = ccdY, validation = False), steps=25)"
   ]
  },
  {
   "cell_type": "code",
   "execution_count": 32,
   "metadata": {},
   "outputs": [],
   "source": [
    "tslist = []\n",
    "for col in trainX.columns:\n",
    "    tslist.append(tf.constant(trainX[col]))\n",
    "    "
   ]
  },
  {
   "cell_type": "code",
   "execution_count": 33,
   "metadata": {},
   "outputs": [
    {
     "name": "stdout",
     "output_type": "stream",
     "text": [
      "690/690 [==============================] - 1s 1ms/step - loss: 0.7076 - accuracy: 0.7903\n"
     ]
    },
    {
     "data": {
      "text/plain": [
       "<tensorflow.python.keras.callbacks.History at 0x20c5391f6d0>"
      ]
     },
     "execution_count": 33,
     "metadata": {},
     "output_type": "execute_result"
    }
   ],
   "source": [
    "classifier.fit(x = np.array(trainX), y = np.array(trainY), workers = 6, use_multiprocessing = True)"
   ]
  },
  {
   "cell_type": "code",
   "execution_count": 34,
   "metadata": {},
   "outputs": [],
   "source": [
    "predictY = classifier.predict(x = np.array(testX), workers = 6, use_multiprocessing = True)"
   ]
  },
  {
   "cell_type": "code",
   "execution_count": 35,
   "metadata": {},
   "outputs": [],
   "source": [
    "def binarysoftmax(val):\n",
    "    k = 0\n",
    "    if val < 0.5:\n",
    "        k = 0\n",
    "    elif val >= 0.5:\n",
    "        k = 1\n",
    "    return k\n",
    "\n",
    "bsm = np.vectorize(binarysoftmax)\n",
    "\n",
    "predictYY = bsm(predictY)"
   ]
  },
  {
   "cell_type": "code",
   "execution_count": 36,
   "metadata": {},
   "outputs": [
    {
     "name": "stdout",
     "output_type": "stream",
     "text": [
      "              precision    recall  f1-score   support\n",
      "\n",
      "           0       0.81      0.97      0.88      1439\n",
      "           1       0.65      0.20      0.31       401\n",
      "\n",
      "    accuracy                           0.80      1840\n",
      "   macro avg       0.73      0.59      0.60      1840\n",
      "weighted avg       0.78      0.80      0.76      1840\n",
      "\n"
     ]
    }
   ],
   "source": [
    "print(classification_report(testY, predictYY))"
   ]
  },
  {
   "cell_type": "code",
   "execution_count": 37,
   "metadata": {},
   "outputs": [
    {
     "data": {
      "text/html": [
       "<div>\n",
       "<style scoped>\n",
       "    .dataframe tbody tr th:only-of-type {\n",
       "        vertical-align: middle;\n",
       "    }\n",
       "\n",
       "    .dataframe tbody tr th {\n",
       "        vertical-align: top;\n",
       "    }\n",
       "\n",
       "    .dataframe thead th {\n",
       "        text-align: right;\n",
       "    }\n",
       "</style>\n",
       "<table border=\"1\" class=\"dataframe\">\n",
       "  <thead>\n",
       "    <tr style=\"text-align: right;\">\n",
       "      <th></th>\n",
       "      <th>Predicted | Not Defaulter</th>\n",
       "      <th>Defaulter</th>\n",
       "    </tr>\n",
       "  </thead>\n",
       "  <tbody>\n",
       "    <tr>\n",
       "      <th>Correct | Not Defaulter</th>\n",
       "      <td>1394</td>\n",
       "      <td>45</td>\n",
       "    </tr>\n",
       "    <tr>\n",
       "      <th>Defaulter</th>\n",
       "      <td>319</td>\n",
       "      <td>82</td>\n",
       "    </tr>\n",
       "  </tbody>\n",
       "</table>\n",
       "</div>"
      ],
      "text/plain": [
       "                         Predicted | Not Defaulter  Defaulter\n",
       "Correct | Not Defaulter                       1394         45\n",
       "Defaulter                                      319         82"
      ]
     },
     "execution_count": 37,
     "metadata": {},
     "output_type": "execute_result"
    }
   ],
   "source": [
    "pandas.DataFrame(\n",
    "    confusion_matrix(testY, predictYY),\n",
    "    columns=['Predicted | Not Defaulter', 'Defaulter'],\n",
    "    index=['Correct | Not Defaulter', 'Defaulter'])"
   ]
  },
  {
   "cell_type": "code",
   "execution_count": 38,
   "metadata": {},
   "outputs": [
    {
     "name": "stdout",
     "output_type": "stream",
     "text": [
      "Num GPUs Available:  0\n"
     ]
    }
   ],
   "source": [
    "print(\"Num GPUs Available: \", len(tf.config.experimental.list_physical_devices('GPU')))"
   ]
  }
 ],
 "metadata": {
  "kernelspec": {
   "display_name": "Python [conda env:.conda-CreditDefaulterClassification]",
   "language": "python",
   "name": "conda-env-.conda-CreditDefaulterClassification-py"
  },
  "language_info": {
   "codemirror_mode": {
    "name": "ipython",
    "version": 3
   },
   "file_extension": ".py",
   "mimetype": "text/x-python",
   "name": "python",
   "nbconvert_exporter": "python",
   "pygments_lexer": "ipython3",
   "version": "3.8.5"
  }
 },
 "nbformat": 4,
 "nbformat_minor": 4
}
