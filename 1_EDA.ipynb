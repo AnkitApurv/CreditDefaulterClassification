{
 "cells": [
  {
   "cell_type": "markdown",
   "metadata": {
    "slideshow": {
     "slide_type": "slide"
    }
   },
   "source": [
    "# Exploratory Data Analysis"
   ]
  },
  {
   "cell_type": "markdown",
   "metadata": {
    "slideshow": {
     "slide_type": "slide"
    }
   },
   "source": [
    "# 1. Libraries"
   ]
  },
  {
   "cell_type": "code",
   "execution_count": 1,
   "metadata": {
    "slideshow": {
     "slide_type": "fragment"
    }
   },
   "outputs": [],
   "source": [
    "#data storage and organization\n",
    "import pandas #storage\n",
    "import numpy as np #data-type conversion\n",
    "from os import getcwd\n",
    "\n",
    "#visual analysis\n",
    "%matplotlib inline\n",
    "import seaborn\n",
    "\n",
    "#statistical analysis\n",
    "    #Chi-Squared test\n",
    "from scipy.stats import chi2_contingency\n",
    "    #ANOVA\n",
    "from scipy.stats import f_oneway\n",
    "#import statsmodels.api as sm\n",
    "#from statsmodels.formula.api import ols\n",
    "    #MANOVA (Multivariate Analysis of Variance)\n",
    "from statsmodels.multivariate.manova import MANOVA"
   ]
  },
  {
   "cell_type": "markdown",
   "metadata": {
    "slideshow": {
     "slide_type": "slide"
    }
   },
   "source": [
    "# 2. Dataset - Importing"
   ]
  },
  {
   "cell_type": "code",
   "execution_count": 2,
   "metadata": {
    "slideshow": {
     "slide_type": "subslide"
    }
   },
   "outputs": [],
   "source": [
    "def cvSex(sex):\n",
    "    mapper = {1: 'Male', 2: 'Female'}\n",
    "    return mapper.get(sex)\n",
    "\n",
    "def cvEducation(education):\n",
    "    mapper = {1: 'Graduate', 2: 'University', 3: 'High School', 4: 'Others'}\n",
    "    return mapper.get(education, 'Others') #takes care of cases 0, 5 and 6\n",
    "\n",
    "def cvMarriage(marriage):\n",
    "    mapper = {1: 'Married', 2: 'Single', 3: 'Divorced', 4: 'Others'}\n",
    "    return mapper.get(marriage, 'Others') #takes care of 54 entries\n",
    "\n",
    "def cvPayHistory(payHistory):\n",
    "    mapper = {-2: 'No Credit Use', -1: 'Paid in Full', 0: 'Revolving Credit Used', 1: 'Delay 1 of month', 2: 'Delay 2 of months', 3: 'Delay 3 of months', 4: 'Delay 4 of months', 5: 'Delay 5 of months', 6: 'Delay 6 of months', 7: 'Delay 7 of months', 8: 'Delay 8 of months', 9: 'Delay 9 of months OR more'}\n",
    "    return mapper.get(payHistory)\n",
    "\n",
    "\n",
    "def cvDefPay(prediction):\n",
    "    mapper = {0: False, 1: True}\n",
    "    return mapper.get(prediction)"
   ]
  },
  {
   "cell_type": "code",
   "execution_count": 3,
   "metadata": {
    "slideshow": {
     "slide_type": "subslide"
    }
   },
   "outputs": [],
   "source": [
    "#BILL_AMT1 to PAY_AMT6 should NOT have 0 replaced with NAN\n",
    "#dtype changed from int64 to int32 to save space and speed up computation, no data was lost\n",
    "url = getcwd() + '\\\\default of credit card clients.xls'\n",
    "ccd = pandas.read_excel(io = url, \\\n",
    "                        sheet_name='Data', header = 1, index_col = 0, \\\n",
    "                        dtype = {'LIMIT_BAL': np.int32, 'AGE': np.int32, 'BILL_AMT1': np.int32, 'BILL_AMT2': np.int32, 'BILL_AMT3': np.int32, 'BILL_AMT4': np.int32, 'BILL_AMT5': np.int32, 'BILL_AMT6': np.int32, 'PAY_AMT1': np.int32, 'PAY_AMT2': np.int32, 'PAY_AMT3': np.int32, 'PAY_AMT4': np.int32, 'PAY_AMT5': np.int32, 'PAY_AMT6': np.int32}, \\\n",
    "                        converters = {'SEX': cvSex, 'EDUCATION': cvEducation, 'MARRIAGE': cvMarriage, 'default payment next month': cvDefPay, 'PAY_0': cvPayHistory, 'PAY_2': cvPayHistory, 'PAY_3': cvPayHistory, 'PAY_4': cvPayHistory, 'PAY_5': cvPayHistory, 'PAY_6': cvPayHistory,})"
   ]
  },
  {
   "cell_type": "code",
   "execution_count": 4,
   "metadata": {
    "slideshow": {
     "slide_type": "fragment"
    }
   },
   "outputs": [],
   "source": [
    "ccd.rename(columns = {'PAY_0': 'PAY_1'}, inplace = True)\n",
    "ccd.rename(columns = {'default payment next month': 'default_payment_next_month'}, inplace = True)"
   ]
  },
  {
   "cell_type": "markdown",
   "metadata": {
    "slideshow": {
     "slide_type": "slide"
    }
   },
   "source": [
    "# 3. Exploratory Data Analysis\n",
    "\n",
    "### Segments:\n",
    "#### 1. Personal\n",
    "\n",
    "#### 2. Financial\n",
    "1. Expended\n",
    "2. Paid\n",
    "3. Behaviour"
   ]
  },
  {
   "cell_type": "markdown",
   "metadata": {
    "slideshow": {
     "slide_type": "slide"
    }
   },
   "source": [
    "## 3.1. Overall Dataset EDA"
   ]
  },
  {
   "cell_type": "code",
   "execution_count": 5,
   "metadata": {
    "slideshow": {
     "slide_type": "fragment"
    }
   },
   "outputs": [
    {
     "data": {
      "text/plain": [
       "False"
      ]
     },
     "execution_count": 5,
     "metadata": {},
     "output_type": "execute_result"
    }
   ],
   "source": [
    "#check for missing values\n",
    "ccd.isnull().values.any()"
   ]
  },
  {
   "cell_type": "markdown",
   "metadata": {
    "slideshow": {
     "slide_type": "slide"
    }
   },
   "source": [
    "## 3.2. Variable wise' EDA\n",
    "\n",
    "### Univariate:\n",
    "1. Distribution\n",
    "2. Outlier detection\n",
    "\n",
    "### Bivariate:\n",
    "1. Continuous - Continuous: Correlation Co-efficient{Pearson, Spearman}. [-1 <= p-value >= +1]\n",
    "\n",
    "2. Continuous - Categorical: Analysis of Variance(ANOVA): Determine whether the differences between group means are statistically significant. [α = 0.05]\n",
    "\n",
    "3. Categorical - Categorical: Chi-Square test. [α > 0.05 for insignificance]"
   ]
  },
  {
   "cell_type": "markdown",
   "metadata": {
    "slideshow": {
     "slide_type": "slide"
    }
   },
   "source": [
    "### 3.2.a. LIMIT_BAL\n",
    "\n",
    "Type - Numerical - Continuous - Ratio\n",
    "\n",
    "Segment - Financial - Behaviour\n",
    "\n",
    "Comments - None"
   ]
  },
  {
   "cell_type": "markdown",
   "metadata": {
    "slideshow": {
     "slide_type": "subslide"
    }
   },
   "source": [
    "#### i> Univariate"
   ]
  },
  {
   "cell_type": "code",
   "execution_count": 6,
   "metadata": {
    "slideshow": {
     "slide_type": "fragment"
    }
   },
   "outputs": [
    {
     "data": {
      "text/plain": [
       "<matplotlib.axes._subplots.AxesSubplot at 0x1d0acd23e88>"
      ]
     },
     "execution_count": 6,
     "metadata": {},
     "output_type": "execute_result"
    },
    {
     "data": {
      "image/png": "[encoded data removed]",
      "text/plain": [
       "<Figure size 432x288 with 1 Axes>"
      ]
     },
     "metadata": {
      "needs_background": "light"
     },
     "output_type": "display_data"
    }
   ],
   "source": [
    "#for distribution and density\n",
    "seaborn.distplot(a = ccd['LIMIT_BAL'], bins = ccd['LIMIT_BAL'].value_counts().size, kde = True, hist = True, rug = True)\n",
    "\n",
    "#ccd['LIMIT_BAL'].value_counts().size == 81"
   ]
  },
  {
   "cell_type": "code",
   "execution_count": 7,
   "metadata": {
    "slideshow": {
     "slide_type": "subslide"
    }
   },
   "outputs": [
    {
     "data": {
      "text/plain": [
       "<matplotlib.axes._subplots.AxesSubplot at 0x1d0aa105a88>"
      ]
     },
     "execution_count": 7,
     "metadata": {},
     "output_type": "execute_result"
    },
    {
     "data": {
      "image/png": "[encoded data removed]",
      "text/plain": [
       "<Figure size 432x288 with 1 Axes>"
      ]
     },
     "metadata": {
      "needs_background": "light"
     },
     "output_type": "display_data"
    }
   ],
   "source": [
    "#for outliers\n",
    "seaborn.boxplot(x = 'LIMIT_BAL', data = ccd)"
   ]
  },
  {
   "cell_type": "markdown",
   "metadata": {
    "slideshow": {
     "slide_type": "subslide"
    }
   },
   "source": [
    "#### ii> Bivariate Graphical"
   ]
  },
  {
   "cell_type": "code",
   "execution_count": 8,
   "metadata": {
    "slideshow": {
     "slide_type": "fragment"
    }
   },
   "outputs": [
    {
     "data": {
      "text/plain": [
       "<matplotlib.axes._subplots.AxesSubplot at 0x1d0aa176308>"
      ]
     },
     "execution_count": 8,
     "metadata": {},
     "output_type": "execute_result"
    },
    {
     "data": {
      "image/png": "[encoded data removed]",
      "text/plain": [
       "<Figure size 432x288 with 1 Axes>"
      ]
     },
     "metadata": {
      "needs_background": "light"
     },
     "output_type": "display_data"
    }
   ],
   "source": [
    "#for relation between LIMIT_BAL and target variable\n",
    "seaborn.violinplot(x = ccd['default_payment_next_month'], y = ccd['LIMIT_BAL'])"
   ]
  },
  {
   "cell_type": "code",
   "execution_count": 9,
   "metadata": {
    "slideshow": {
     "slide_type": "subslide"
    }
   },
   "outputs": [
    {
     "data": {
      "text/plain": [
       "<seaborn.axisgrid.JointGrid at 0x1d0aa20d308>"
      ]
     },
     "execution_count": 9,
     "metadata": {},
     "output_type": "execute_result"
    },
    {
     "data": {
      "image/png": "[encoded data removed]",
      "text/plain": [
       "<Figure size 432x432 with 3 Axes>"
      ]
     },
     "metadata": {
      "needs_background": "light"
     },
     "output_type": "display_data"
    }
   ],
   "source": [
    "#for relation between LIMIT_BAL and AGE\n",
    "seaborn.jointplot(x = ccd['LIMIT_BAL'], y = ccd['AGE'], kind = 'kde')"
   ]
  },
  {
   "cell_type": "markdown",
   "metadata": {
    "slideshow": {
     "slide_type": "subslide"
    }
   },
   "source": [
    "#### iii> Bivariate Statistical"
   ]
  },
  {
   "cell_type": "code",
   "execution_count": 10,
   "metadata": {
    "slideshow": {
     "slide_type": "fragment"
    }
   },
   "outputs": [
    {
     "data": {
      "text/html": [
       "<div>\n",
       "<style scoped>\n",
       "    .dataframe tbody tr th:only-of-type {\n",
       "        vertical-align: middle;\n",
       "    }\n",
       "\n",
       "    .dataframe tbody tr th {\n",
       "        vertical-align: top;\n",
       "    }\n",
       "\n",
       "    .dataframe thead th {\n",
       "        text-align: right;\n",
       "    }\n",
       "</style>\n",
       "<table border=\"1\" class=\"dataframe\">\n",
       "  <thead>\n",
       "    <tr style=\"text-align: right;\">\n",
       "      <th></th>\n",
       "      <th>mean</th>\n",
       "      <th>median</th>\n",
       "      <th>count_nonzero</th>\n",
       "      <th>std</th>\n",
       "    </tr>\n",
       "    <tr>\n",
       "      <th>default_payment_next_month</th>\n",
       "      <th></th>\n",
       "      <th></th>\n",
       "      <th></th>\n",
       "      <th></th>\n",
       "    </tr>\n",
       "  </thead>\n",
       "  <tbody>\n",
       "    <tr>\n",
       "      <td>False</td>\n",
       "      <td>178099.726074</td>\n",
       "      <td>150000</td>\n",
       "      <td>23364</td>\n",
       "      <td>131628.359660</td>\n",
       "    </tr>\n",
       "    <tr>\n",
       "      <td>True</td>\n",
       "      <td>130109.656420</td>\n",
       "      <td>90000</td>\n",
       "      <td>6636</td>\n",
       "      <td>115378.540571</td>\n",
       "    </tr>\n",
       "  </tbody>\n",
       "</table>\n",
       "</div>"
      ],
      "text/plain": [
       "                                     mean  median  count_nonzero  \\\n",
       "default_payment_next_month                                         \n",
       "False                       178099.726074  150000          23364   \n",
       "True                        130109.656420   90000           6636   \n",
       "\n",
       "                                      std  \n",
       "default_payment_next_month                 \n",
       "False                       131628.359660  \n",
       "True                        115378.540571  "
      ]
     },
     "execution_count": 10,
     "metadata": {},
     "output_type": "execute_result"
    }
   ],
   "source": [
    "ccd.groupby('default_payment_next_month').agg([np.mean, np.median, np.count_nonzero, np.std]).LIMIT_BAL"
   ]
  },
  {
   "cell_type": "markdown",
   "metadata": {
    "slideshow": {
     "slide_type": "subslide"
    }
   },
   "source": [
    "#### iii> b. ANOVA - F One-Way"
   ]
  },
  {
   "cell_type": "code",
   "execution_count": 11,
   "metadata": {
    "slideshow": {
     "slide_type": "fragment"
    }
   },
   "outputs": [
    {
     "data": {
      "text/plain": [
       "F_onewayResult(statistic=724.0685392611651, pvalue=1.3022439532706416e-157)"
      ]
     },
     "execution_count": 11,
     "metadata": {},
     "output_type": "execute_result"
    }
   ],
   "source": [
    "f_oneway(ccd['LIMIT_BAL'][ccd['default_payment_next_month'] == True],\n",
    "        ccd['LIMIT_BAL'][ccd['default_payment_next_month'] == False])"
   ]
  },
  {
   "cell_type": "markdown",
   "metadata": {
    "slideshow": {
     "slide_type": "subslide"
    }
   },
   "source": [
    "#### iv> Conclusion\n",
    "Expectation - \n",
    "1. Balance limit will vary with age (professionals accumulate wealth over their career, thus alloting them higher limits as they age is logical.)\n",
    "2. Majority of credit availers are likely to have lower limit, possibly sharing the same LIMIT_BAL bracket.\n",
    "\n",
    "Conclusion -\n",
    "1. (Plot 3) Distribution is highly concentrated on [20>=AGE<=30, 0>=LIMIT_BAL<=200000], however distribution is also expanding on the axes.\n",
    "2. True, defaulters are more likely to be having LIMIT_BAL in lower limits (LIMIT_BAL <= 200000). (Plot 1)\n",
    "3. People with higher LIMIT_BAL are less likely to default. (LIMIT_BAL >= 400000) (Plot 2 density, Crosstab)\n",
    "4. One-Way ANOVA: p-value being below 0.05, difference between means is statistically significant to a very high degree. There exists a strong relation between LIMIT_BAL and 'default payment'.\n",
    "\n",
    "Comments - The variable being 'Balance Limit' is likely to be directly correlated to wealth, it's not unusual to have outliers."
   ]
  },
  {
   "cell_type": "markdown",
   "metadata": {
    "slideshow": {
     "slide_type": "slide"
    }
   },
   "source": [
    "### 3.2.b. SEX\n",
    "\n",
    "Type - Categorical - Nominal\n",
    "\n",
    "Segment - Personal\n",
    "\n",
    "Legend - 1: Male; 2: Female"
   ]
  },
  {
   "cell_type": "markdown",
   "metadata": {
    "slideshow": {
     "slide_type": "subslide"
    }
   },
   "source": [
    "#### i> Univariate"
   ]
  },
  {
   "cell_type": "code",
   "execution_count": 12,
   "metadata": {
    "slideshow": {
     "slide_type": "fragment"
    }
   },
   "outputs": [
    {
     "data": {
      "text/plain": [
       "Female    18112\n",
       "Male      11888\n",
       "Name: SEX, dtype: int64"
      ]
     },
     "execution_count": 12,
     "metadata": {},
     "output_type": "execute_result"
    }
   ],
   "source": [
    "#for distrubution\n",
    "ccd['SEX'].value_counts()"
   ]
  },
  {
   "cell_type": "code",
   "execution_count": 13,
   "metadata": {
    "slideshow": {
     "slide_type": "fragment"
    }
   },
   "outputs": [
    {
     "data": {
      "text/plain": [
       "Female    60.37 %\n",
       "Male      39.63 %\n",
       "Name: SEX, dtype: object"
      ]
     },
     "execution_count": 13,
     "metadata": {},
     "output_type": "execute_result"
    }
   ],
   "source": [
    "ccd['SEX'].value_counts(normalize = True).mul(100).round(2).astype('str') + ' %'"
   ]
  },
  {
   "cell_type": "markdown",
   "metadata": {
    "slideshow": {
     "slide_type": "subslide"
    }
   },
   "source": [
    "#### ii> Bivariate Graphical"
   ]
  },
  {
   "cell_type": "code",
   "execution_count": 14,
   "metadata": {
    "slideshow": {
     "slide_type": "fragment"
    }
   },
   "outputs": [
    {
     "data": {
      "text/plain": [
       "<matplotlib.axes._subplots.AxesSubplot at 0x1d0aa7815c8>"
      ]
     },
     "execution_count": 14,
     "metadata": {},
     "output_type": "execute_result"
    },
    {
     "data": {
      "image/png": "[encoded data removed]",
      "text/plain": [
       "<Figure size 432x288 with 1 Axes>"
      ]
     },
     "metadata": {
      "needs_background": "light"
     },
     "output_type": "display_data"
    }
   ],
   "source": [
    "#for relation between SEX and target variable\n",
    "seaborn.countplot(hue = 'default_payment_next_month', x = 'SEX', data = ccd)"
   ]
  },
  {
   "cell_type": "code",
   "execution_count": 15,
   "metadata": {
    "slideshow": {
     "slide_type": "subslide"
    }
   },
   "outputs": [
    {
     "data": {
      "text/plain": [
       "<matplotlib.axes._subplots.AxesSubplot at 0x1d0aa412208>"
      ]
     },
     "execution_count": 15,
     "metadata": {},
     "output_type": "execute_result"
    },
    {
     "data": {
      "image/png": "[encoded data removed]",
      "text/plain": [
       "<Figure size 432x288 with 1 Axes>"
      ]
     },
     "metadata": {
      "needs_background": "light"
     },
     "output_type": "display_data"
    }
   ],
   "source": [
    "#for relation between LIMIT_BAL and SEX\n",
    "seaborn.violinplot(x = ccd['SEX'], y = ccd['LIMIT_BAL'])"
   ]
  },
  {
   "cell_type": "markdown",
   "metadata": {
    "slideshow": {
     "slide_type": "subslide"
    }
   },
   "source": [
    "#### iii> Bivariate Statistical"
   ]
  },
  {
   "cell_type": "code",
   "execution_count": 16,
   "metadata": {
    "slideshow": {
     "slide_type": "fragment"
    }
   },
   "outputs": [
    {
     "data": {
      "text/html": [
       "<div>\n",
       "<style scoped>\n",
       "    .dataframe tbody tr th:only-of-type {\n",
       "        vertical-align: middle;\n",
       "    }\n",
       "\n",
       "    .dataframe tbody tr th {\n",
       "        vertical-align: top;\n",
       "    }\n",
       "\n",
       "    .dataframe thead th {\n",
       "        text-align: right;\n",
       "    }\n",
       "</style>\n",
       "<table border=\"1\" class=\"dataframe\">\n",
       "  <thead>\n",
       "    <tr style=\"text-align: right;\">\n",
       "      <th>SEX</th>\n",
       "      <th>Female</th>\n",
       "      <th>Male</th>\n",
       "    </tr>\n",
       "    <tr>\n",
       "      <th>default_payment_next_month</th>\n",
       "      <th></th>\n",
       "      <th></th>\n",
       "    </tr>\n",
       "  </thead>\n",
       "  <tbody>\n",
       "    <tr>\n",
       "      <td>False</td>\n",
       "      <td>14349</td>\n",
       "      <td>9015</td>\n",
       "    </tr>\n",
       "    <tr>\n",
       "      <td>True</td>\n",
       "      <td>3763</td>\n",
       "      <td>2873</td>\n",
       "    </tr>\n",
       "  </tbody>\n",
       "</table>\n",
       "</div>"
      ],
      "text/plain": [
       "SEX                         Female  Male\n",
       "default_payment_next_month              \n",
       "False                        14349  9015\n",
       "True                          3763  2873"
      ]
     },
     "execution_count": 16,
     "metadata": {},
     "output_type": "execute_result"
    }
   ],
   "source": [
    "pandas.crosstab(index = ccd['default_payment_next_month'], columns = ccd['SEX'])"
   ]
  },
  {
   "cell_type": "code",
   "execution_count": 17,
   "metadata": {
    "slideshow": {
     "slide_type": "fragment"
    }
   },
   "outputs": [
    {
     "data": {
      "text/html": [
       "<div>\n",
       "<style scoped>\n",
       "    .dataframe tbody tr th:only-of-type {\n",
       "        vertical-align: middle;\n",
       "    }\n",
       "\n",
       "    .dataframe tbody tr th {\n",
       "        vertical-align: top;\n",
       "    }\n",
       "\n",
       "    .dataframe thead th {\n",
       "        text-align: right;\n",
       "    }\n",
       "</style>\n",
       "<table border=\"1\" class=\"dataframe\">\n",
       "  <thead>\n",
       "    <tr style=\"text-align: right;\">\n",
       "      <th>SEX</th>\n",
       "      <th>Female</th>\n",
       "      <th>Male</th>\n",
       "    </tr>\n",
       "    <tr>\n",
       "      <th>default_payment_next_month</th>\n",
       "      <th></th>\n",
       "      <th></th>\n",
       "    </tr>\n",
       "  </thead>\n",
       "  <tbody>\n",
       "    <tr>\n",
       "      <td>False</td>\n",
       "      <td>79.22 %</td>\n",
       "      <td>75.83 %</td>\n",
       "    </tr>\n",
       "    <tr>\n",
       "      <td>True</td>\n",
       "      <td>20.78 %</td>\n",
       "      <td>24.17 %</td>\n",
       "    </tr>\n",
       "  </tbody>\n",
       "</table>\n",
       "</div>"
      ],
      "text/plain": [
       "SEX                          Female     Male\n",
       "default_payment_next_month                  \n",
       "False                       79.22 %  75.83 %\n",
       "True                        20.78 %  24.17 %"
      ]
     },
     "execution_count": 17,
     "metadata": {},
     "output_type": "execute_result"
    }
   ],
   "source": [
    "#category wise\n",
    "pandas.crosstab(index = ccd['default_payment_next_month'], columns = ccd['SEX'], normalize = 'columns').mul(100).round(2).astype('str') + ' %'"
   ]
  },
  {
   "cell_type": "code",
   "execution_count": 18,
   "metadata": {
    "slideshow": {
     "slide_type": "fragment"
    }
   },
   "outputs": [
    {
     "data": {
      "text/html": [
       "<div>\n",
       "<style scoped>\n",
       "    .dataframe tbody tr th:only-of-type {\n",
       "        vertical-align: middle;\n",
       "    }\n",
       "\n",
       "    .dataframe tbody tr th {\n",
       "        vertical-align: top;\n",
       "    }\n",
       "\n",
       "    .dataframe thead th {\n",
       "        text-align: right;\n",
       "    }\n",
       "</style>\n",
       "<table border=\"1\" class=\"dataframe\">\n",
       "  <thead>\n",
       "    <tr style=\"text-align: right;\">\n",
       "      <th>SEX</th>\n",
       "      <th>Female</th>\n",
       "      <th>Male</th>\n",
       "    </tr>\n",
       "    <tr>\n",
       "      <th>default_payment_next_month</th>\n",
       "      <th></th>\n",
       "      <th></th>\n",
       "    </tr>\n",
       "  </thead>\n",
       "  <tbody>\n",
       "    <tr>\n",
       "      <td>False</td>\n",
       "      <td>61.41 %</td>\n",
       "      <td>38.59 %</td>\n",
       "    </tr>\n",
       "    <tr>\n",
       "      <td>True</td>\n",
       "      <td>56.71 %</td>\n",
       "      <td>43.29 %</td>\n",
       "    </tr>\n",
       "  </tbody>\n",
       "</table>\n",
       "</div>"
      ],
      "text/plain": [
       "SEX                          Female     Male\n",
       "default_payment_next_month                  \n",
       "False                       61.41 %  38.59 %\n",
       "True                        56.71 %  43.29 %"
      ]
     },
     "execution_count": 18,
     "metadata": {},
     "output_type": "execute_result"
    }
   ],
   "source": [
    "#target wise\n",
    "pandas.crosstab(index = ccd['default_payment_next_month'], columns = ccd['SEX'], normalize = 'index').mul(100).round(2).astype('str') + ' %'"
   ]
  },
  {
   "cell_type": "markdown",
   "metadata": {
    "slideshow": {
     "slide_type": "subslide"
    }
   },
   "source": [
    "#### iii> b. Chi Squared Test"
   ]
  },
  {
   "cell_type": "code",
   "execution_count": 19,
   "metadata": {
    "slideshow": {
     "slide_type": "fragment"
    }
   },
   "outputs": [],
   "source": [
    "chi2 = pandas.DataFrame(data = chi2_contingency(observed = pandas.crosstab(index = ccd['default_payment_next_month'], columns = ccd['SEX'])))"
   ]
  },
  {
   "cell_type": "code",
   "execution_count": 20,
   "metadata": {
    "slideshow": {
     "slide_type": "fragment"
    }
   },
   "outputs": [
    {
     "data": {
      "text/html": [
       "<div>\n",
       "<style scoped>\n",
       "    .dataframe tbody tr th:only-of-type {\n",
       "        vertical-align: middle;\n",
       "    }\n",
       "\n",
       "    .dataframe tbody tr th {\n",
       "        vertical-align: top;\n",
       "    }\n",
       "\n",
       "    .dataframe thead th {\n",
       "        text-align: right;\n",
       "    }\n",
       "</style>\n",
       "<table border=\"1\" class=\"dataframe\">\n",
       "  <thead>\n",
       "    <tr style=\"text-align: right;\">\n",
       "      <th></th>\n",
       "      <th>0</th>\n",
       "    </tr>\n",
       "  </thead>\n",
       "  <tbody>\n",
       "    <tr>\n",
       "      <td>0</td>\n",
       "      <td>47.7088</td>\n",
       "    </tr>\n",
       "    <tr>\n",
       "      <td>1</td>\n",
       "      <td>4.94468e-12</td>\n",
       "    </tr>\n",
       "    <tr>\n",
       "      <td>2</td>\n",
       "      <td>1</td>\n",
       "    </tr>\n",
       "    <tr>\n",
       "      <td>3</td>\n",
       "      <td>[[14105.6256, 9258.3744], [4006.3744, 2629.6256]]</td>\n",
       "    </tr>\n",
       "  </tbody>\n",
       "</table>\n",
       "</div>"
      ],
      "text/plain": [
       "                                                   0\n",
       "0                                            47.7088\n",
       "1                                        4.94468e-12\n",
       "2                                                  1\n",
       "3  [[14105.6256, 9258.3744], [4006.3744, 2629.6256]]"
      ]
     },
     "execution_count": 20,
     "metadata": {},
     "output_type": "execute_result"
    }
   ],
   "source": [
    "chi2"
   ]
  },
  {
   "cell_type": "code",
   "execution_count": 21,
   "metadata": {
    "slideshow": {
     "slide_type": "fragment"
    }
   },
   "outputs": [
    {
     "data": {
      "text/plain": [
       "2629.6256"
      ]
     },
     "execution_count": 21,
     "metadata": {},
     "output_type": "execute_result"
    }
   ],
   "source": [
    "chi2[0][3].min()"
   ]
  },
  {
   "cell_type": "markdown",
   "metadata": {
    "slideshow": {
     "slide_type": "subslide"
    }
   },
   "source": [
    "#### iv> Conclusion\n",
    "Expectation - \n",
    "1. Both seses will have similar credit avail count.\n",
    "2. Default payment will be similar for both sexes.\n",
    "3. LIMIT_BAL will be similar for both sexes.\n",
    "\n",
    "Conclusion - \n",
    "1. False, Females are more likely to avail credit. (Female: 60.37%, Male:39.63%) (Distribution)\n",
    "2. True. (default: False : [Female: 79.22%, Male: 75.83%]) (Crosstab 2)\n",
    "3. True. (Plot 2)\n",
    "4. Chi-Sqaured test: p-value being below 0.05(row 2), there exists a relation between SEX and 'default payment'. All elements of array of expected frequency(row 4) being above 5, test is reliable.\n",
    "\n",
    "Comments - None"
   ]
  },
  {
   "cell_type": "markdown",
   "metadata": {
    "slideshow": {
     "slide_type": "slide"
    }
   },
   "source": [
    "### 3.2.c. EDUCATION\n",
    "\n",
    "Type - Categorical - Ordinal\n",
    "\n",
    "Segment - Personal\n",
    "\n",
    "Legend - 1: Graduate; 2: University; 3: HighSchool; 0,4,5,6: Others "
   ]
  },
  {
   "cell_type": "markdown",
   "metadata": {
    "slideshow": {
     "slide_type": "subslide"
    }
   },
   "source": [
    "#### i> Univariate"
   ]
  },
  {
   "cell_type": "code",
   "execution_count": 22,
   "metadata": {
    "slideshow": {
     "slide_type": "fragment"
    }
   },
   "outputs": [
    {
     "data": {
      "text/plain": [
       "University     14030\n",
       "Graduate       10585\n",
       "High School     4917\n",
       "Others           468\n",
       "Name: EDUCATION, dtype: int64"
      ]
     },
     "execution_count": 22,
     "metadata": {},
     "output_type": "execute_result"
    }
   ],
   "source": [
    "#for distrubution\n",
    "ccd['EDUCATION'].value_counts()"
   ]
  },
  {
   "cell_type": "code",
   "execution_count": 23,
   "metadata": {
    "slideshow": {
     "slide_type": "fragment"
    }
   },
   "outputs": [
    {
     "data": {
      "text/plain": [
       "University     46.77 %\n",
       "Graduate       35.28 %\n",
       "High School    16.39 %\n",
       "Others          1.56 %\n",
       "Name: EDUCATION, dtype: object"
      ]
     },
     "execution_count": 23,
     "metadata": {},
     "output_type": "execute_result"
    }
   ],
   "source": [
    "ccd['EDUCATION'].value_counts(normalize = True).mul(100).round(2).astype('str') + ' %'"
   ]
  },
  {
   "cell_type": "markdown",
   "metadata": {
    "slideshow": {
     "slide_type": "subslide"
    }
   },
   "source": [
    "#### ii> Bivariate Graphical"
   ]
  },
  {
   "cell_type": "code",
   "execution_count": 24,
   "metadata": {
    "slideshow": {
     "slide_type": "fragment"
    }
   },
   "outputs": [
    {
     "data": {
      "text/plain": [
       "<matplotlib.axes._subplots.AxesSubplot at 0x1d0aa374bc8>"
      ]
     },
     "execution_count": 24,
     "metadata": {},
     "output_type": "execute_result"
    },
    {
     "data": {
      "image/png": "[encoded data removed]",
      "text/plain": [
       "<Figure size 432x288 with 1 Axes>"
      ]
     },
     "metadata": {
      "needs_background": "light"
     },
     "output_type": "display_data"
    }
   ],
   "source": [
    "#for relation between EDUCATION and target variable\n",
    "seaborn.countplot(hue = 'default_payment_next_month', x = 'EDUCATION', data = ccd)"
   ]
  },
  {
   "cell_type": "markdown",
   "metadata": {
    "slideshow": {
     "slide_type": "subslide"
    }
   },
   "source": [
    "#### iii> Bivariate Statistical"
   ]
  },
  {
   "cell_type": "code",
   "execution_count": 25,
   "metadata": {
    "slideshow": {
     "slide_type": "fragment"
    }
   },
   "outputs": [
    {
     "data": {
      "text/html": [
       "<div>\n",
       "<style scoped>\n",
       "    .dataframe tbody tr th:only-of-type {\n",
       "        vertical-align: middle;\n",
       "    }\n",
       "\n",
       "    .dataframe tbody tr th {\n",
       "        vertical-align: top;\n",
       "    }\n",
       "\n",
       "    .dataframe thead th {\n",
       "        text-align: right;\n",
       "    }\n",
       "</style>\n",
       "<table border=\"1\" class=\"dataframe\">\n",
       "  <thead>\n",
       "    <tr style=\"text-align: right;\">\n",
       "      <th>EDUCATION</th>\n",
       "      <th>Graduate</th>\n",
       "      <th>High School</th>\n",
       "      <th>Others</th>\n",
       "      <th>University</th>\n",
       "    </tr>\n",
       "    <tr>\n",
       "      <th>default_payment_next_month</th>\n",
       "      <th></th>\n",
       "      <th></th>\n",
       "      <th></th>\n",
       "      <th></th>\n",
       "    </tr>\n",
       "  </thead>\n",
       "  <tbody>\n",
       "    <tr>\n",
       "      <td>False</td>\n",
       "      <td>8549</td>\n",
       "      <td>3680</td>\n",
       "      <td>435</td>\n",
       "      <td>10700</td>\n",
       "    </tr>\n",
       "    <tr>\n",
       "      <td>True</td>\n",
       "      <td>2036</td>\n",
       "      <td>1237</td>\n",
       "      <td>33</td>\n",
       "      <td>3330</td>\n",
       "    </tr>\n",
       "  </tbody>\n",
       "</table>\n",
       "</div>"
      ],
      "text/plain": [
       "EDUCATION                   Graduate  High School  Others  University\n",
       "default_payment_next_month                                           \n",
       "False                           8549         3680     435       10700\n",
       "True                            2036         1237      33        3330"
      ]
     },
     "execution_count": 25,
     "metadata": {},
     "output_type": "execute_result"
    }
   ],
   "source": [
    "pandas.crosstab(index = ccd['default_payment_next_month'], columns = ccd['EDUCATION'])"
   ]
  },
  {
   "cell_type": "code",
   "execution_count": 26,
   "metadata": {
    "slideshow": {
     "slide_type": "fragment"
    }
   },
   "outputs": [
    {
     "data": {
      "text/html": [
       "<div>\n",
       "<style scoped>\n",
       "    .dataframe tbody tr th:only-of-type {\n",
       "        vertical-align: middle;\n",
       "    }\n",
       "\n",
       "    .dataframe tbody tr th {\n",
       "        vertical-align: top;\n",
       "    }\n",
       "\n",
       "    .dataframe thead th {\n",
       "        text-align: right;\n",
       "    }\n",
       "</style>\n",
       "<table border=\"1\" class=\"dataframe\">\n",
       "  <thead>\n",
       "    <tr style=\"text-align: right;\">\n",
       "      <th>EDUCATION</th>\n",
       "      <th>Graduate</th>\n",
       "      <th>High School</th>\n",
       "      <th>Others</th>\n",
       "      <th>University</th>\n",
       "    </tr>\n",
       "    <tr>\n",
       "      <th>default_payment_next_month</th>\n",
       "      <th></th>\n",
       "      <th></th>\n",
       "      <th></th>\n",
       "      <th></th>\n",
       "    </tr>\n",
       "  </thead>\n",
       "  <tbody>\n",
       "    <tr>\n",
       "      <td>False</td>\n",
       "      <td>80.77 %</td>\n",
       "      <td>74.84 %</td>\n",
       "      <td>92.95 %</td>\n",
       "      <td>76.27 %</td>\n",
       "    </tr>\n",
       "    <tr>\n",
       "      <td>True</td>\n",
       "      <td>19.23 %</td>\n",
       "      <td>25.16 %</td>\n",
       "      <td>7.05 %</td>\n",
       "      <td>23.73 %</td>\n",
       "    </tr>\n",
       "  </tbody>\n",
       "</table>\n",
       "</div>"
      ],
      "text/plain": [
       "EDUCATION                  Graduate High School   Others University\n",
       "default_payment_next_month                                         \n",
       "False                       80.77 %     74.84 %  92.95 %    76.27 %\n",
       "True                        19.23 %     25.16 %   7.05 %    23.73 %"
      ]
     },
     "execution_count": 26,
     "metadata": {},
     "output_type": "execute_result"
    }
   ],
   "source": [
    "#category wise\n",
    "pandas.crosstab(index = ccd['default_payment_next_month'], columns = ccd['EDUCATION'], normalize = 'columns').mul(100).round(2).astype('str') + ' %'"
   ]
  },
  {
   "cell_type": "code",
   "execution_count": 27,
   "metadata": {
    "slideshow": {
     "slide_type": "fragment"
    }
   },
   "outputs": [
    {
     "data": {
      "text/html": [
       "<div>\n",
       "<style scoped>\n",
       "    .dataframe tbody tr th:only-of-type {\n",
       "        vertical-align: middle;\n",
       "    }\n",
       "\n",
       "    .dataframe tbody tr th {\n",
       "        vertical-align: top;\n",
       "    }\n",
       "\n",
       "    .dataframe thead th {\n",
       "        text-align: right;\n",
       "    }\n",
       "</style>\n",
       "<table border=\"1\" class=\"dataframe\">\n",
       "  <thead>\n",
       "    <tr style=\"text-align: right;\">\n",
       "      <th>EDUCATION</th>\n",
       "      <th>Graduate</th>\n",
       "      <th>High School</th>\n",
       "      <th>Others</th>\n",
       "      <th>University</th>\n",
       "    </tr>\n",
       "    <tr>\n",
       "      <th>default_payment_next_month</th>\n",
       "      <th></th>\n",
       "      <th></th>\n",
       "      <th></th>\n",
       "      <th></th>\n",
       "    </tr>\n",
       "  </thead>\n",
       "  <tbody>\n",
       "    <tr>\n",
       "      <td>False</td>\n",
       "      <td>36.59 %</td>\n",
       "      <td>15.75 %</td>\n",
       "      <td>1.86 %</td>\n",
       "      <td>45.8 %</td>\n",
       "    </tr>\n",
       "    <tr>\n",
       "      <td>True</td>\n",
       "      <td>30.68 %</td>\n",
       "      <td>18.64 %</td>\n",
       "      <td>0.5 %</td>\n",
       "      <td>50.18 %</td>\n",
       "    </tr>\n",
       "  </tbody>\n",
       "</table>\n",
       "</div>"
      ],
      "text/plain": [
       "EDUCATION                  Graduate High School  Others University\n",
       "default_payment_next_month                                        \n",
       "False                       36.59 %     15.75 %  1.86 %     45.8 %\n",
       "True                        30.68 %     18.64 %   0.5 %    50.18 %"
      ]
     },
     "execution_count": 27,
     "metadata": {},
     "output_type": "execute_result"
    }
   ],
   "source": [
    "#target wise\n",
    "pandas.crosstab(index = ccd['default_payment_next_month'], columns = ccd['EDUCATION'], normalize = 'index').mul(100).round(2).astype('str') + ' %'"
   ]
  },
  {
   "cell_type": "markdown",
   "metadata": {
    "slideshow": {
     "slide_type": "subslide"
    }
   },
   "source": [
    "#### iii> b. Chi Squared Test"
   ]
  },
  {
   "cell_type": "code",
   "execution_count": 28,
   "metadata": {
    "slideshow": {
     "slide_type": "fragment"
    }
   },
   "outputs": [],
   "source": [
    "chi2 = pandas.DataFrame(data = chi2_contingency(observed = pandas.crosstab(index = ccd['default_payment_next_month'], columns = ccd['EDUCATION'])))"
   ]
  },
  {
   "cell_type": "code",
   "execution_count": 29,
   "metadata": {
    "slideshow": {
     "slide_type": "fragment"
    }
   },
   "outputs": [
    {
     "data": {
      "text/html": [
       "<div>\n",
       "<style scoped>\n",
       "    .dataframe tbody tr th:only-of-type {\n",
       "        vertical-align: middle;\n",
       "    }\n",
       "\n",
       "    .dataframe tbody tr th {\n",
       "        vertical-align: top;\n",
       "    }\n",
       "\n",
       "    .dataframe thead th {\n",
       "        text-align: right;\n",
       "    }\n",
       "</style>\n",
       "<table border=\"1\" class=\"dataframe\">\n",
       "  <thead>\n",
       "    <tr style=\"text-align: right;\">\n",
       "      <th></th>\n",
       "      <th>0</th>\n",
       "    </tr>\n",
       "  </thead>\n",
       "  <tbody>\n",
       "    <tr>\n",
       "      <td>0</td>\n",
       "      <td>160.41</td>\n",
       "    </tr>\n",
       "    <tr>\n",
       "      <td>1</td>\n",
       "      <td>1.49506e-34</td>\n",
       "    </tr>\n",
       "    <tr>\n",
       "      <td>2</td>\n",
       "      <td>3</td>\n",
       "    </tr>\n",
       "    <tr>\n",
       "      <td>3</td>\n",
       "      <td>[[8243.598, 3829.3596, 364.4784, 10926.564], [...</td>\n",
       "    </tr>\n",
       "  </tbody>\n",
       "</table>\n",
       "</div>"
      ],
      "text/plain": [
       "                                                   0\n",
       "0                                             160.41\n",
       "1                                        1.49506e-34\n",
       "2                                                  3\n",
       "3  [[8243.598, 3829.3596, 364.4784, 10926.564], [..."
      ]
     },
     "execution_count": 29,
     "metadata": {},
     "output_type": "execute_result"
    }
   ],
   "source": [
    "chi2"
   ]
  },
  {
   "cell_type": "code",
   "execution_count": 30,
   "metadata": {
    "slideshow": {
     "slide_type": "fragment"
    }
   },
   "outputs": [
    {
     "data": {
      "text/plain": [
       "103.5216"
      ]
     },
     "execution_count": 30,
     "metadata": {},
     "output_type": "execute_result"
    }
   ],
   "source": [
    "chi2[0][3].min()"
   ]
  },
  {
   "cell_type": "markdown",
   "metadata": {
    "slideshow": {
     "slide_type": "subslide"
    }
   },
   "source": [
    "#### iv> Conclusion\n",
    "Expectation - \n",
    "1. Lower EDUCATION will directly correlate with higher defaulter rate.\n",
    "2. Lower EDUCATION will result in higher rate of loan availing.\n",
    "\n",
    "Conclusion - \n",
    "1. Discernible trend - Graduates have the least default rate. (NOTE: Category Others has too small sample space to draw an accurate inference) (High School: 74.84 %, Graduate: 80.77 %, University: 76.27 %, Others: 92.95 %) (Crosstab 2)\n",
    "2. On the contrary, higher EDUCATION levels results in higher rate of availing loan. (Crosstab 3, Plot)\n",
    "3. Chi-Sqaured test: p-value being below 0.05(row 2), there exists a relation between EDUCATION and 'default payment'. All elements of array of expected frequency(row 4) being above 5, test is reliable.\n",
    "\n",
    "Comments - None"
   ]
  },
  {
   "cell_type": "markdown",
   "metadata": {
    "slideshow": {
     "slide_type": "slide"
    }
   },
   "source": [
    "### 3.2.d MARRIAGE\n",
    "\n",
    "Type - Categorical - Nominal\n",
    "\n",
    "Segment - Personal\n",
    "\n",
    "Legend - 1: Married, 2: Single, 3: Divorced, 4: Others"
   ]
  },
  {
   "cell_type": "markdown",
   "metadata": {
    "slideshow": {
     "slide_type": "subslide"
    }
   },
   "source": [
    "#### i> Univariate"
   ]
  },
  {
   "cell_type": "code",
   "execution_count": 31,
   "metadata": {
    "slideshow": {
     "slide_type": "fragment"
    }
   },
   "outputs": [
    {
     "data": {
      "text/plain": [
       "Single      15964\n",
       "Married     13659\n",
       "Divorced      323\n",
       "Others         54\n",
       "Name: MARRIAGE, dtype: int64"
      ]
     },
     "execution_count": 31,
     "metadata": {},
     "output_type": "execute_result"
    }
   ],
   "source": [
    "#for distrubution\n",
    "ccd['MARRIAGE'].value_counts()"
   ]
  },
  {
   "cell_type": "code",
   "execution_count": 32,
   "metadata": {
    "slideshow": {
     "slide_type": "fragment"
    }
   },
   "outputs": [
    {
     "data": {
      "text/plain": [
       "Single      53.21 %\n",
       "Married     45.53 %\n",
       "Divorced     1.08 %\n",
       "Others       0.18 %\n",
       "Name: MARRIAGE, dtype: object"
      ]
     },
     "execution_count": 32,
     "metadata": {},
     "output_type": "execute_result"
    }
   ],
   "source": [
    "ccd['MARRIAGE'].value_counts(normalize = True).mul(100).round(2).astype('str') + ' %'"
   ]
  },
  {
   "cell_type": "markdown",
   "metadata": {
    "slideshow": {
     "slide_type": "subslide"
    }
   },
   "source": [
    "#### ii> Bivariate Graphical"
   ]
  },
  {
   "cell_type": "code",
   "execution_count": 33,
   "metadata": {
    "slideshow": {
     "slide_type": "fragment"
    }
   },
   "outputs": [
    {
     "data": {
      "text/plain": [
       "<matplotlib.axes._subplots.AxesSubplot at 0x1d0aa50d448>"
      ]
     },
     "execution_count": 33,
     "metadata": {},
     "output_type": "execute_result"
    },
    {
     "data": {
      "image/png": "[encoded data removed]",
      "text/plain": [
       "<Figure size 432x288 with 1 Axes>"
      ]
     },
     "metadata": {
      "needs_background": "light"
     },
     "output_type": "display_data"
    }
   ],
   "source": [
    "#for relation between MARRIAGE and target variable\n",
    "seaborn.countplot(hue = 'default_payment_next_month', x = 'MARRIAGE', data = ccd)"
   ]
  },
  {
   "cell_type": "markdown",
   "metadata": {
    "slideshow": {
     "slide_type": "subslide"
    }
   },
   "source": [
    "#### iii> Bivariate Statistical"
   ]
  },
  {
   "cell_type": "code",
   "execution_count": 34,
   "metadata": {
    "slideshow": {
     "slide_type": "fragment"
    }
   },
   "outputs": [
    {
     "data": {
      "text/html": [
       "<div>\n",
       "<style scoped>\n",
       "    .dataframe tbody tr th:only-of-type {\n",
       "        vertical-align: middle;\n",
       "    }\n",
       "\n",
       "    .dataframe tbody tr th {\n",
       "        vertical-align: top;\n",
       "    }\n",
       "\n",
       "    .dataframe thead th {\n",
       "        text-align: right;\n",
       "    }\n",
       "</style>\n",
       "<table border=\"1\" class=\"dataframe\">\n",
       "  <thead>\n",
       "    <tr style=\"text-align: right;\">\n",
       "      <th>MARRIAGE</th>\n",
       "      <th>Divorced</th>\n",
       "      <th>Married</th>\n",
       "      <th>Others</th>\n",
       "      <th>Single</th>\n",
       "    </tr>\n",
       "    <tr>\n",
       "      <th>default_payment_next_month</th>\n",
       "      <th></th>\n",
       "      <th></th>\n",
       "      <th></th>\n",
       "      <th></th>\n",
       "    </tr>\n",
       "  </thead>\n",
       "  <tbody>\n",
       "    <tr>\n",
       "      <td>False</td>\n",
       "      <td>239</td>\n",
       "      <td>10453</td>\n",
       "      <td>49</td>\n",
       "      <td>12623</td>\n",
       "    </tr>\n",
       "    <tr>\n",
       "      <td>True</td>\n",
       "      <td>84</td>\n",
       "      <td>3206</td>\n",
       "      <td>5</td>\n",
       "      <td>3341</td>\n",
       "    </tr>\n",
       "  </tbody>\n",
       "</table>\n",
       "</div>"
      ],
      "text/plain": [
       "MARRIAGE                    Divorced  Married  Others  Single\n",
       "default_payment_next_month                                   \n",
       "False                            239    10453      49   12623\n",
       "True                              84     3206       5    3341"
      ]
     },
     "execution_count": 34,
     "metadata": {},
     "output_type": "execute_result"
    }
   ],
   "source": [
    "pandas.crosstab(index = ccd['default_payment_next_month'], columns = ccd['MARRIAGE'])"
   ]
  },
  {
   "cell_type": "code",
   "execution_count": 35,
   "metadata": {
    "slideshow": {
     "slide_type": "fragment"
    }
   },
   "outputs": [
    {
     "data": {
      "text/html": [
       "<div>\n",
       "<style scoped>\n",
       "    .dataframe tbody tr th:only-of-type {\n",
       "        vertical-align: middle;\n",
       "    }\n",
       "\n",
       "    .dataframe tbody tr th {\n",
       "        vertical-align: top;\n",
       "    }\n",
       "\n",
       "    .dataframe thead th {\n",
       "        text-align: right;\n",
       "    }\n",
       "</style>\n",
       "<table border=\"1\" class=\"dataframe\">\n",
       "  <thead>\n",
       "    <tr style=\"text-align: right;\">\n",
       "      <th>MARRIAGE</th>\n",
       "      <th>Divorced</th>\n",
       "      <th>Married</th>\n",
       "      <th>Others</th>\n",
       "      <th>Single</th>\n",
       "    </tr>\n",
       "    <tr>\n",
       "      <th>default_payment_next_month</th>\n",
       "      <th></th>\n",
       "      <th></th>\n",
       "      <th></th>\n",
       "      <th></th>\n",
       "    </tr>\n",
       "  </thead>\n",
       "  <tbody>\n",
       "    <tr>\n",
       "      <td>False</td>\n",
       "      <td>73.99 %</td>\n",
       "      <td>76.53 %</td>\n",
       "      <td>90.74 %</td>\n",
       "      <td>79.07 %</td>\n",
       "    </tr>\n",
       "    <tr>\n",
       "      <td>True</td>\n",
       "      <td>26.01 %</td>\n",
       "      <td>23.47 %</td>\n",
       "      <td>9.26 %</td>\n",
       "      <td>20.93 %</td>\n",
       "    </tr>\n",
       "  </tbody>\n",
       "</table>\n",
       "</div>"
      ],
      "text/plain": [
       "MARRIAGE                   Divorced  Married   Others   Single\n",
       "default_payment_next_month                                    \n",
       "False                       73.99 %  76.53 %  90.74 %  79.07 %\n",
       "True                        26.01 %  23.47 %   9.26 %  20.93 %"
      ]
     },
     "execution_count": 35,
     "metadata": {},
     "output_type": "execute_result"
    }
   ],
   "source": [
    "#category wise\n",
    "pandas.crosstab(index = ccd['default_payment_next_month'], columns = ccd['MARRIAGE'], normalize = 'columns').mul(100).round(2).astype('str') + ' %'"
   ]
  },
  {
   "cell_type": "code",
   "execution_count": 36,
   "metadata": {
    "slideshow": {
     "slide_type": "fragment"
    }
   },
   "outputs": [
    {
     "data": {
      "text/html": [
       "<div>\n",
       "<style scoped>\n",
       "    .dataframe tbody tr th:only-of-type {\n",
       "        vertical-align: middle;\n",
       "    }\n",
       "\n",
       "    .dataframe tbody tr th {\n",
       "        vertical-align: top;\n",
       "    }\n",
       "\n",
       "    .dataframe thead th {\n",
       "        text-align: right;\n",
       "    }\n",
       "</style>\n",
       "<table border=\"1\" class=\"dataframe\">\n",
       "  <thead>\n",
       "    <tr style=\"text-align: right;\">\n",
       "      <th>MARRIAGE</th>\n",
       "      <th>Divorced</th>\n",
       "      <th>Married</th>\n",
       "      <th>Others</th>\n",
       "      <th>Single</th>\n",
       "    </tr>\n",
       "    <tr>\n",
       "      <th>default_payment_next_month</th>\n",
       "      <th></th>\n",
       "      <th></th>\n",
       "      <th></th>\n",
       "      <th></th>\n",
       "    </tr>\n",
       "  </thead>\n",
       "  <tbody>\n",
       "    <tr>\n",
       "      <td>False</td>\n",
       "      <td>1.02 %</td>\n",
       "      <td>44.74 %</td>\n",
       "      <td>0.21 %</td>\n",
       "      <td>54.03 %</td>\n",
       "    </tr>\n",
       "    <tr>\n",
       "      <td>True</td>\n",
       "      <td>1.27 %</td>\n",
       "      <td>48.31 %</td>\n",
       "      <td>0.08 %</td>\n",
       "      <td>50.35 %</td>\n",
       "    </tr>\n",
       "  </tbody>\n",
       "</table>\n",
       "</div>"
      ],
      "text/plain": [
       "MARRIAGE                   Divorced  Married  Others   Single\n",
       "default_payment_next_month                                   \n",
       "False                        1.02 %  44.74 %  0.21 %  54.03 %\n",
       "True                         1.27 %  48.31 %  0.08 %  50.35 %"
      ]
     },
     "execution_count": 36,
     "metadata": {},
     "output_type": "execute_result"
    }
   ],
   "source": [
    "#target wise\n",
    "pandas.crosstab(index = ccd['default_payment_next_month'], columns = ccd['MARRIAGE'], normalize = 'index').mul(100).round(2).astype('str') + ' %'"
   ]
  },
  {
   "cell_type": "markdown",
   "metadata": {
    "slideshow": {
     "slide_type": "subslide"
    }
   },
   "source": [
    "#### iii> b. Chi Squared Test"
   ]
  },
  {
   "cell_type": "code",
   "execution_count": 37,
   "metadata": {
    "slideshow": {
     "slide_type": "fragment"
    }
   },
   "outputs": [],
   "source": [
    "chi2 = pandas.DataFrame(data = chi2_contingency(observed = pandas.crosstab(index = ccd['default_payment_next_month'], columns = ccd['MARRIAGE'])))"
   ]
  },
  {
   "cell_type": "code",
   "execution_count": 38,
   "metadata": {
    "slideshow": {
     "slide_type": "fragment"
    }
   },
   "outputs": [
    {
     "data": {
      "text/html": [
       "<div>\n",
       "<style scoped>\n",
       "    .dataframe tbody tr th:only-of-type {\n",
       "        vertical-align: middle;\n",
       "    }\n",
       "\n",
       "    .dataframe tbody tr th {\n",
       "        vertical-align: top;\n",
       "    }\n",
       "\n",
       "    .dataframe thead th {\n",
       "        text-align: right;\n",
       "    }\n",
       "</style>\n",
       "<table border=\"1\" class=\"dataframe\">\n",
       "  <thead>\n",
       "    <tr style=\"text-align: right;\">\n",
       "      <th></th>\n",
       "      <th>0</th>\n",
       "    </tr>\n",
       "  </thead>\n",
       "  <tbody>\n",
       "    <tr>\n",
       "      <td>0</td>\n",
       "      <td>35.6624</td>\n",
       "    </tr>\n",
       "    <tr>\n",
       "      <td>1</td>\n",
       "      <td>8.82586e-08</td>\n",
       "    </tr>\n",
       "    <tr>\n",
       "      <td>2</td>\n",
       "      <td>3</td>\n",
       "    </tr>\n",
       "    <tr>\n",
       "      <td>3</td>\n",
       "      <td>[[251.5524, 10637.6292, 42.0552, 12432.7632], ...</td>\n",
       "    </tr>\n",
       "  </tbody>\n",
       "</table>\n",
       "</div>"
      ],
      "text/plain": [
       "                                                   0\n",
       "0                                            35.6624\n",
       "1                                        8.82586e-08\n",
       "2                                                  3\n",
       "3  [[251.5524, 10637.6292, 42.0552, 12432.7632], ..."
      ]
     },
     "execution_count": 38,
     "metadata": {},
     "output_type": "execute_result"
    }
   ],
   "source": [
    "chi2"
   ]
  },
  {
   "cell_type": "code",
   "execution_count": 39,
   "metadata": {
    "slideshow": {
     "slide_type": "fragment"
    }
   },
   "outputs": [
    {
     "data": {
      "text/plain": [
       "11.9448"
      ]
     },
     "execution_count": 39,
     "metadata": {},
     "output_type": "execute_result"
    }
   ],
   "source": [
    "chi2[0][3].min()"
   ]
  },
  {
   "cell_type": "markdown",
   "metadata": {
    "slideshow": {
     "slide_type": "subslide"
    }
   },
   "source": [
    "#### iv> Conclusion\n",
    "Expectation - \n",
    "1. More singles will avail credit, likely due to poorer financial planning.\n",
    "2. Divorced people may have higher rate of defaulting.\n",
    "3. Married individuals will be least likely to default.\n",
    "\n",
    "Conclusion - \n",
    "1. True, however difference between categories isn't very significant (Single: 53.21 %, Married: 45.53 %) (Distribution 2)\n",
    "2. True, 26.01% of Divorced individuals default. (Married: 23.47%, Singles: 20.93%) (Crosstab 2)\n",
    "3. False, 23.47% Married individuals default, but 20.93% Singles default, singles are least likely to default. (Crosstab 2)\n",
    "4. Chi-Sqaured test: p-value being below 0.05(row 2), there exists a relation between MARRIAGE and 'default payment'. All elements of array of expected frequency(previous cell) being above 5, test is reliable.\n",
    "\n",
    "Comments - None"
   ]
  },
  {
   "cell_type": "markdown",
   "metadata": {
    "slideshow": {
     "slide_type": "slide"
    }
   },
   "source": [
    "### 3.2.e AGE\n",
    "\n",
    "Type - Numerical - Continuous - Ratio\n",
    "\n",
    "Segment - Personal\n",
    "\n",
    "Legend - Count of Years as Integers"
   ]
  },
  {
   "cell_type": "markdown",
   "metadata": {
    "slideshow": {
     "slide_type": "subslide"
    }
   },
   "source": [
    "#### i> Univariate"
   ]
  },
  {
   "cell_type": "code",
   "execution_count": 40,
   "metadata": {
    "slideshow": {
     "slide_type": "fragment"
    }
   },
   "outputs": [
    {
     "data": {
      "text/plain": [
       "<matplotlib.axes._subplots.AxesSubplot at 0x1d0aa5bdf88>"
      ]
     },
     "execution_count": 40,
     "metadata": {},
     "output_type": "execute_result"
    },
    {
     "data": {
      "image/png": "[encoded data removed]",
      "text/plain": [
       "<Figure size 432x288 with 1 Axes>"
      ]
     },
     "metadata": {
      "needs_background": "light"
     },
     "output_type": "display_data"
    }
   ],
   "source": [
    "#for distribution and density\n",
    "seaborn.distplot(a = ccd['AGE'], bins = ccd['AGE'].value_counts().size, kde = True, hist = True, rug = True)\n",
    "\n",
    "#ccd['AGE'].value_counts().size = 56"
   ]
  },
  {
   "cell_type": "code",
   "execution_count": 41,
   "metadata": {
    "slideshow": {
     "slide_type": "subslide"
    }
   },
   "outputs": [
    {
     "data": {
      "text/plain": [
       "<matplotlib.axes._subplots.AxesSubplot at 0x1d0aa58cec8>"
      ]
     },
     "execution_count": 41,
     "metadata": {},
     "output_type": "execute_result"
    },
    {
     "data": {
      "image/png": "[encoded data removed]",
      "text/plain": [
       "<Figure size 432x288 with 1 Axes>"
      ]
     },
     "metadata": {
      "needs_background": "light"
     },
     "output_type": "display_data"
    }
   ],
   "source": [
    "#for outliers\n",
    "seaborn.boxplot(x = 'AGE', data = ccd)"
   ]
  },
  {
   "cell_type": "markdown",
   "metadata": {
    "slideshow": {
     "slide_type": "subslide"
    }
   },
   "source": [
    "#### ii> Bivariate Graphical"
   ]
  },
  {
   "cell_type": "code",
   "execution_count": 42,
   "metadata": {
    "slideshow": {
     "slide_type": "fragment"
    }
   },
   "outputs": [
    {
     "data": {
      "text/plain": [
       "<matplotlib.axes._subplots.AxesSubplot at 0x1d0ac750948>"
      ]
     },
     "execution_count": 42,
     "metadata": {},
     "output_type": "execute_result"
    },
    {
     "data": {
      "image/png": "[encoded data removed]",
      "text/plain": [
       "<Figure size 432x288 with 1 Axes>"
      ]
     },
     "metadata": {
      "needs_background": "light"
     },
     "output_type": "display_data"
    }
   ],
   "source": [
    "seaborn.violinplot(x = ccd['default_payment_next_month'], y = ccd['AGE'])"
   ]
  },
  {
   "cell_type": "markdown",
   "metadata": {
    "slideshow": {
     "slide_type": "subslide"
    }
   },
   "source": [
    "#### iii> Bivariate Statistical"
   ]
  },
  {
   "cell_type": "code",
   "execution_count": 43,
   "metadata": {
    "slideshow": {
     "slide_type": "fragment"
    }
   },
   "outputs": [
    {
     "data": {
      "text/html": [
       "<div>\n",
       "<style scoped>\n",
       "    .dataframe tbody tr th:only-of-type {\n",
       "        vertical-align: middle;\n",
       "    }\n",
       "\n",
       "    .dataframe tbody tr th {\n",
       "        vertical-align: top;\n",
       "    }\n",
       "\n",
       "    .dataframe thead th {\n",
       "        text-align: right;\n",
       "    }\n",
       "</style>\n",
       "<table border=\"1\" class=\"dataframe\">\n",
       "  <thead>\n",
       "    <tr style=\"text-align: right;\">\n",
       "      <th></th>\n",
       "      <th>mean</th>\n",
       "      <th>median</th>\n",
       "      <th>count_nonzero</th>\n",
       "      <th>std</th>\n",
       "    </tr>\n",
       "    <tr>\n",
       "      <th>default_payment_next_month</th>\n",
       "      <th></th>\n",
       "      <th></th>\n",
       "      <th></th>\n",
       "      <th></th>\n",
       "    </tr>\n",
       "  </thead>\n",
       "  <tbody>\n",
       "    <tr>\n",
       "      <td>False</td>\n",
       "      <td>35.417266</td>\n",
       "      <td>34</td>\n",
       "      <td>23364</td>\n",
       "      <td>9.077355</td>\n",
       "    </tr>\n",
       "    <tr>\n",
       "      <td>True</td>\n",
       "      <td>35.725738</td>\n",
       "      <td>34</td>\n",
       "      <td>6636</td>\n",
       "      <td>9.693438</td>\n",
       "    </tr>\n",
       "  </tbody>\n",
       "</table>\n",
       "</div>"
      ],
      "text/plain": [
       "                                 mean  median  count_nonzero       std\n",
       "default_payment_next_month                                            \n",
       "False                       35.417266      34          23364  9.077355\n",
       "True                        35.725738      34           6636  9.693438"
      ]
     },
     "execution_count": 43,
     "metadata": {},
     "output_type": "execute_result"
    }
   ],
   "source": [
    "ccd.groupby('default_payment_next_month').agg([np.mean, np.median, np.count_nonzero, np.std]).AGE"
   ]
  },
  {
   "cell_type": "markdown",
   "metadata": {
    "slideshow": {
     "slide_type": "subslide"
    }
   },
   "source": [
    "#### iii> b. ANOVA - F One-Way"
   ]
  },
  {
   "cell_type": "code",
   "execution_count": 44,
   "metadata": {
    "slideshow": {
     "slide_type": "fragment"
    }
   },
   "outputs": [
    {
     "data": {
      "text/plain": [
       "F_onewayResult(statistic=5.7885558246720565, pvalue=0.016136845890286453)"
      ]
     },
     "execution_count": 44,
     "metadata": {},
     "output_type": "execute_result"
    }
   ],
   "source": [
    "#One-Way ANOVA\n",
    "f_oneway(ccd['AGE'][ccd['default_payment_next_month'] == True],\n",
    "        ccd['AGE'][ccd['default_payment_next_month'] == False])"
   ]
  },
  {
   "cell_type": "markdown",
   "metadata": {
    "slideshow": {
     "slide_type": "subslide"
    }
   },
   "source": [
    "#### iv> Conclusion\n",
    "\n",
    "Expectation - \n",
    "1. Credit user demographics will skew towards younger generation.\n",
    "2. Younger credit users will be more likely to default on payment.\n",
    "\n",
    "Conclusion - \n",
    "1. True. by kernel density plot, significant portion of individual are from the demographic 25>=AGE<=35. (Plot 1)\n",
    "2. False, Plots for defaulting and non-defaulting individuals are similar. The higher density for 25>=AGE<=35 directly corresponds with the kernel distribution for AGE. (ViolinPlot, Distribution Plot)\n",
    "3. One-Way ANOVA: p-value being below 0.05, but not near 0, difference between means is statistically significant to a degree. There exists a relation between AGE and 'default payment'.\n",
    "\n",
    "Comments - None"
   ]
  },
  {
   "cell_type": "markdown",
   "metadata": {
    "slideshow": {
     "slide_type": "slide"
    }
   },
   "source": [
    "### 3.2.f PAY {PAY_1 to PAY_6}\n",
    "\n",
    "Type - Categorical - Ordinal\n",
    "\n",
    "Segment - Financial - Behaviour\n",
    "\n",
    "Legend - \n",
    "\n",
    "{PAY_1: September 2005, PAY_2: August 2005, PAY_3: July 2005, PAY_4: June 2005, PAY_5: May 2005, PAY_6: April 2005}\n",
    "\n",
    "{-2: 'No Credit Use', -1: 'Paid in Full', 0: 'Revolving Credit Used', 1: 'Delay 1 of month', 2: 'Delay 2 of months', 3: 'Delay 3 of months', 4: 'Delay 4 of months', 5: 'Delay 5 of months', 6: 'Delay 6 of months', 7: 'Delay 7 of months', 8: 'Delay 8 of months', 9: 'Delay 9 of months OR more'}"
   ]
  },
  {
   "cell_type": "markdown",
   "metadata": {
    "slideshow": {
     "slide_type": "subslide"
    }
   },
   "source": [
    "#### i> Dimentionalty Reduction\n",
    "NOTE: Using mode to aggregate. An entry may have mutiple mode values (same frequency), to resolve, using severest class."
   ]
  },
  {
   "cell_type": "code",
   "execution_count": 45,
   "metadata": {
    "slideshow": {
     "slide_type": "fragment"
    }
   },
   "outputs": [],
   "source": [
    "ccdr = pandas.read_excel(io = url, \n",
    "                        sheet_name='Data', header = 1, index_col = 0)\n",
    "ccdr.rename(columns = {'PAY_0': 'PAY_1'}, inplace = True)"
   ]
  },
  {
   "cell_type": "code",
   "execution_count": 46,
   "metadata": {
    "slideshow": {
     "slide_type": "fragment"
    }
   },
   "outputs": [],
   "source": [
    "ccdHistory = ccd[['PAY_1', 'PAY_2', 'PAY_3', 'PAY_4', 'PAY_5', 'PAY_6']]\n",
    "ccdrHistory = ccdr[['PAY_1', 'PAY_2', 'PAY_3', 'PAY_4', 'PAY_5', 'PAY_6']]"
   ]
  },
  {
   "cell_type": "markdown",
   "metadata": {
    "slideshow": {
     "slide_type": "fragment"
    }
   },
   "source": [
    "NOTE: Why severest value? To ensure fiscally fit population of credit users."
   ]
  },
  {
   "cell_type": "code",
   "execution_count": 47,
   "metadata": {
    "slideshow": {
     "slide_type": "fragment"
    }
   },
   "outputs": [],
   "source": [
    "ccdrHistoryMode = ccdrHistory.mode(axis = 'columns')\n",
    "ccdrHistorySeverest = ccdrHistoryMode.apply(func = max, axis = 'columns')\n",
    "ccdPayHistoryMode = map(cvPayHistory, ccdrHistorySeverest)"
   ]
  },
  {
   "cell_type": "code",
   "execution_count": 48,
   "metadata": {
    "slideshow": {
     "slide_type": "fragment"
    }
   },
   "outputs": [],
   "source": [
    "ccd['PAY_MODE_SEVEREST'] = list(ccdPayHistoryMode)"
   ]
  },
  {
   "cell_type": "markdown",
   "metadata": {
    "slideshow": {
     "slide_type": "subslide"
    }
   },
   "source": [
    "#### ii> Univariate"
   ]
  },
  {
   "cell_type": "code",
   "execution_count": 49,
   "metadata": {
    "slideshow": {
     "slide_type": "fragment"
    }
   },
   "outputs": [
    {
     "data": {
      "text/plain": [
       "Revolving Credit Used    17076\n",
       "Paid in Full              5691\n",
       "No Credit Use             3897\n",
       "Delay 2 of months         3047\n",
       "Delay 3 of months          104\n",
       "Delay 7 of months           67\n",
       "Delay 4 of months           58\n",
       "Delay 8 of months           23\n",
       "Delay 5 of months           17\n",
       "Delay 6 of months           11\n",
       "Delay 1 of month             9\n",
       "Name: PAY_MODE_SEVEREST, dtype: int64"
      ]
     },
     "execution_count": 49,
     "metadata": {},
     "output_type": "execute_result"
    }
   ],
   "source": [
    "ccd['PAY_MODE_SEVEREST'].value_counts()"
   ]
  },
  {
   "cell_type": "code",
   "execution_count": 50,
   "metadata": {
    "slideshow": {
     "slide_type": "fragment"
    }
   },
   "outputs": [
    {
     "data": {
      "text/html": [
       "<div>\n",
       "<style scoped>\n",
       "    .dataframe tbody tr th:only-of-type {\n",
       "        vertical-align: middle;\n",
       "    }\n",
       "\n",
       "    .dataframe tbody tr th {\n",
       "        vertical-align: top;\n",
       "    }\n",
       "\n",
       "    .dataframe thead th {\n",
       "        text-align: right;\n",
       "    }\n",
       "</style>\n",
       "<table border=\"1\" class=\"dataframe\">\n",
       "  <thead>\n",
       "    <tr style=\"text-align: right;\">\n",
       "      <th></th>\n",
       "      <th>LIMIT_BAL</th>\n",
       "      <th>SEX</th>\n",
       "      <th>EDUCATION</th>\n",
       "      <th>MARRIAGE</th>\n",
       "      <th>AGE</th>\n",
       "      <th>PAY_1</th>\n",
       "      <th>PAY_2</th>\n",
       "      <th>PAY_3</th>\n",
       "      <th>PAY_4</th>\n",
       "      <th>PAY_5</th>\n",
       "      <th>...</th>\n",
       "      <th>BILL_AMT5</th>\n",
       "      <th>BILL_AMT6</th>\n",
       "      <th>PAY_AMT1</th>\n",
       "      <th>PAY_AMT2</th>\n",
       "      <th>PAY_AMT3</th>\n",
       "      <th>PAY_AMT4</th>\n",
       "      <th>PAY_AMT5</th>\n",
       "      <th>PAY_AMT6</th>\n",
       "      <th>default_payment_next_month</th>\n",
       "      <th>PAY_MODE_SEVEREST</th>\n",
       "    </tr>\n",
       "    <tr>\n",
       "      <th>ID</th>\n",
       "      <th></th>\n",
       "      <th></th>\n",
       "      <th></th>\n",
       "      <th></th>\n",
       "      <th></th>\n",
       "      <th></th>\n",
       "      <th></th>\n",
       "      <th></th>\n",
       "      <th></th>\n",
       "      <th></th>\n",
       "      <th></th>\n",
       "      <th></th>\n",
       "      <th></th>\n",
       "      <th></th>\n",
       "      <th></th>\n",
       "      <th></th>\n",
       "      <th></th>\n",
       "      <th></th>\n",
       "      <th></th>\n",
       "      <th></th>\n",
       "      <th></th>\n",
       "    </tr>\n",
       "  </thead>\n",
       "  <tbody>\n",
       "  </tbody>\n",
       "</table>\n",
       "<p>0 rows × 25 columns</p>\n",
       "</div>"
      ],
      "text/plain": [
       "Empty DataFrame\n",
       "Columns: [LIMIT_BAL, SEX, EDUCATION, MARRIAGE, AGE, PAY_1, PAY_2, PAY_3, PAY_4, PAY_5, PAY_6, BILL_AMT1, BILL_AMT2, BILL_AMT3, BILL_AMT4, BILL_AMT5, BILL_AMT6, PAY_AMT1, PAY_AMT2, PAY_AMT3, PAY_AMT4, PAY_AMT5, PAY_AMT6, default_payment_next_month, PAY_MODE_SEVEREST]\n",
       "Index: []\n",
       "\n",
       "[0 rows x 25 columns]"
      ]
     },
     "execution_count": 50,
     "metadata": {},
     "output_type": "execute_result"
    }
   ],
   "source": [
    "ccd[ccd['PAY_MODE_SEVEREST'] == 'Delay 9 of months OR more']"
   ]
  },
  {
   "cell_type": "code",
   "execution_count": 51,
   "metadata": {
    "slideshow": {
     "slide_type": "subslide"
    }
   },
   "outputs": [
    {
     "data": {
      "text/plain": [
       "Revolving Credit Used    56.92 %\n",
       "Paid in Full             18.97 %\n",
       "No Credit Use            12.99 %\n",
       "Delay 2 of months        10.16 %\n",
       "Delay 3 of months         0.35 %\n",
       "Delay 7 of months         0.22 %\n",
       "Delay 4 of months         0.19 %\n",
       "Delay 8 of months         0.08 %\n",
       "Delay 5 of months         0.06 %\n",
       "Delay 6 of months         0.04 %\n",
       "Delay 1 of month          0.03 %\n",
       "Name: PAY_MODE_SEVEREST, dtype: object"
      ]
     },
     "execution_count": 51,
     "metadata": {},
     "output_type": "execute_result"
    }
   ],
   "source": [
    "ccd['PAY_MODE_SEVEREST'].value_counts(normalize = True).mul(100).round(2).astype('str') + ' %'"
   ]
  },
  {
   "cell_type": "markdown",
   "metadata": {
    "slideshow": {
     "slide_type": "subslide"
    }
   },
   "source": [
    "#### iii> Bivariate Graphical"
   ]
  },
  {
   "cell_type": "code",
   "execution_count": 52,
   "metadata": {
    "slideshow": {
     "slide_type": "fragment"
    }
   },
   "outputs": [
    {
     "data": {
      "text/plain": [
       "<matplotlib.axes._subplots.AxesSubplot at 0x1d0ac749e88>"
      ]
     },
     "execution_count": 52,
     "metadata": {},
     "output_type": "execute_result"
    },
    {
     "data": {
      "image/png": "[encoded data removed]",
      "text/plain": [
       "<Figure size 432x288 with 1 Axes>"
      ]
     },
     "metadata": {
      "needs_background": "light"
     },
     "output_type": "display_data"
    }
   ],
   "source": [
    "seaborn.countplot(hue = 'default_payment_next_month', x = 'PAY_MODE_SEVEREST', data = ccd)"
   ]
  },
  {
   "cell_type": "markdown",
   "metadata": {
    "slideshow": {
     "slide_type": "subslide"
    }
   },
   "source": [
    "#### iv> Bivariate Statistical"
   ]
  },
  {
   "cell_type": "code",
   "execution_count": 53,
   "metadata": {
    "slideshow": {
     "slide_type": "fragment"
    }
   },
   "outputs": [
    {
     "data": {
      "text/html": [
       "<div>\n",
       "<style scoped>\n",
       "    .dataframe tbody tr th:only-of-type {\n",
       "        vertical-align: middle;\n",
       "    }\n",
       "\n",
       "    .dataframe tbody tr th {\n",
       "        vertical-align: top;\n",
       "    }\n",
       "\n",
       "    .dataframe thead th {\n",
       "        text-align: right;\n",
       "    }\n",
       "</style>\n",
       "<table border=\"1\" class=\"dataframe\">\n",
       "  <thead>\n",
       "    <tr style=\"text-align: right;\">\n",
       "      <th>PAY_MODE_SEVEREST</th>\n",
       "      <th>Delay 1 of month</th>\n",
       "      <th>Delay 2 of months</th>\n",
       "      <th>Delay 3 of months</th>\n",
       "      <th>Delay 4 of months</th>\n",
       "      <th>Delay 5 of months</th>\n",
       "      <th>Delay 6 of months</th>\n",
       "      <th>Delay 7 of months</th>\n",
       "      <th>Delay 8 of months</th>\n",
       "      <th>No Credit Use</th>\n",
       "      <th>Paid in Full</th>\n",
       "      <th>Revolving Credit Used</th>\n",
       "    </tr>\n",
       "    <tr>\n",
       "      <th>default_payment_next_month</th>\n",
       "      <th></th>\n",
       "      <th></th>\n",
       "      <th></th>\n",
       "      <th></th>\n",
       "      <th></th>\n",
       "      <th></th>\n",
       "      <th></th>\n",
       "      <th></th>\n",
       "      <th></th>\n",
       "      <th></th>\n",
       "      <th></th>\n",
       "    </tr>\n",
       "  </thead>\n",
       "  <tbody>\n",
       "    <tr>\n",
       "      <td>False</td>\n",
       "      <td>8</td>\n",
       "      <td>1198</td>\n",
       "      <td>28</td>\n",
       "      <td>24</td>\n",
       "      <td>7</td>\n",
       "      <td>4</td>\n",
       "      <td>11</td>\n",
       "      <td>10</td>\n",
       "      <td>3136</td>\n",
       "      <td>4744</td>\n",
       "      <td>14194</td>\n",
       "    </tr>\n",
       "    <tr>\n",
       "      <td>True</td>\n",
       "      <td>1</td>\n",
       "      <td>1849</td>\n",
       "      <td>76</td>\n",
       "      <td>34</td>\n",
       "      <td>10</td>\n",
       "      <td>7</td>\n",
       "      <td>56</td>\n",
       "      <td>13</td>\n",
       "      <td>761</td>\n",
       "      <td>947</td>\n",
       "      <td>2882</td>\n",
       "    </tr>\n",
       "  </tbody>\n",
       "</table>\n",
       "</div>"
      ],
      "text/plain": [
       "PAY_MODE_SEVEREST           Delay 1 of month  Delay 2 of months  \\\n",
       "default_payment_next_month                                        \n",
       "False                                      8               1198   \n",
       "True                                       1               1849   \n",
       "\n",
       "PAY_MODE_SEVEREST           Delay 3 of months  Delay 4 of months  \\\n",
       "default_payment_next_month                                         \n",
       "False                                      28                 24   \n",
       "True                                       76                 34   \n",
       "\n",
       "PAY_MODE_SEVEREST           Delay 5 of months  Delay 6 of months  \\\n",
       "default_payment_next_month                                         \n",
       "False                                       7                  4   \n",
       "True                                       10                  7   \n",
       "\n",
       "PAY_MODE_SEVEREST           Delay 7 of months  Delay 8 of months  \\\n",
       "default_payment_next_month                                         \n",
       "False                                      11                 10   \n",
       "True                                       56                 13   \n",
       "\n",
       "PAY_MODE_SEVEREST           No Credit Use  Paid in Full  Revolving Credit Used  \n",
       "default_payment_next_month                                                      \n",
       "False                                3136          4744                  14194  \n",
       "True                                  761           947                   2882  "
      ]
     },
     "execution_count": 53,
     "metadata": {},
     "output_type": "execute_result"
    }
   ],
   "source": [
    "pandas.crosstab(index = ccd['default_payment_next_month'], columns = ccd['PAY_MODE_SEVEREST'])"
   ]
  },
  {
   "cell_type": "code",
   "execution_count": 54,
   "metadata": {
    "slideshow": {
     "slide_type": "subslide"
    }
   },
   "outputs": [
    {
     "data": {
      "text/html": [
       "<div>\n",
       "<style scoped>\n",
       "    .dataframe tbody tr th:only-of-type {\n",
       "        vertical-align: middle;\n",
       "    }\n",
       "\n",
       "    .dataframe tbody tr th {\n",
       "        vertical-align: top;\n",
       "    }\n",
       "\n",
       "    .dataframe thead th {\n",
       "        text-align: right;\n",
       "    }\n",
       "</style>\n",
       "<table border=\"1\" class=\"dataframe\">\n",
       "  <thead>\n",
       "    <tr style=\"text-align: right;\">\n",
       "      <th>PAY_MODE_SEVEREST</th>\n",
       "      <th>Delay 1 of month</th>\n",
       "      <th>Delay 2 of months</th>\n",
       "      <th>Delay 3 of months</th>\n",
       "      <th>Delay 4 of months</th>\n",
       "      <th>Delay 5 of months</th>\n",
       "      <th>Delay 6 of months</th>\n",
       "      <th>Delay 7 of months</th>\n",
       "      <th>Delay 8 of months</th>\n",
       "      <th>No Credit Use</th>\n",
       "      <th>Paid in Full</th>\n",
       "      <th>Revolving Credit Used</th>\n",
       "    </tr>\n",
       "    <tr>\n",
       "      <th>default_payment_next_month</th>\n",
       "      <th></th>\n",
       "      <th></th>\n",
       "      <th></th>\n",
       "      <th></th>\n",
       "      <th></th>\n",
       "      <th></th>\n",
       "      <th></th>\n",
       "      <th></th>\n",
       "      <th></th>\n",
       "      <th></th>\n",
       "      <th></th>\n",
       "    </tr>\n",
       "  </thead>\n",
       "  <tbody>\n",
       "    <tr>\n",
       "      <td>False</td>\n",
       "      <td>88.89 %</td>\n",
       "      <td>39.32 %</td>\n",
       "      <td>26.92 %</td>\n",
       "      <td>41.38 %</td>\n",
       "      <td>41.18 %</td>\n",
       "      <td>36.36 %</td>\n",
       "      <td>16.42 %</td>\n",
       "      <td>43.48 %</td>\n",
       "      <td>80.47 %</td>\n",
       "      <td>83.36 %</td>\n",
       "      <td>83.12 %</td>\n",
       "    </tr>\n",
       "    <tr>\n",
       "      <td>True</td>\n",
       "      <td>11.11 %</td>\n",
       "      <td>60.68 %</td>\n",
       "      <td>73.08 %</td>\n",
       "      <td>58.62 %</td>\n",
       "      <td>58.82 %</td>\n",
       "      <td>63.64 %</td>\n",
       "      <td>83.58 %</td>\n",
       "      <td>56.52 %</td>\n",
       "      <td>19.53 %</td>\n",
       "      <td>16.64 %</td>\n",
       "      <td>16.88 %</td>\n",
       "    </tr>\n",
       "  </tbody>\n",
       "</table>\n",
       "</div>"
      ],
      "text/plain": [
       "PAY_MODE_SEVEREST          Delay 1 of month Delay 2 of months  \\\n",
       "default_payment_next_month                                      \n",
       "False                               88.89 %           39.32 %   \n",
       "True                                11.11 %           60.68 %   \n",
       "\n",
       "PAY_MODE_SEVEREST          Delay 3 of months Delay 4 of months  \\\n",
       "default_payment_next_month                                       \n",
       "False                                26.92 %           41.38 %   \n",
       "True                                 73.08 %           58.62 %   \n",
       "\n",
       "PAY_MODE_SEVEREST          Delay 5 of months Delay 6 of months  \\\n",
       "default_payment_next_month                                       \n",
       "False                                41.18 %           36.36 %   \n",
       "True                                 58.82 %           63.64 %   \n",
       "\n",
       "PAY_MODE_SEVEREST          Delay 7 of months Delay 8 of months No Credit Use  \\\n",
       "default_payment_next_month                                                     \n",
       "False                                16.42 %           43.48 %       80.47 %   \n",
       "True                                 83.58 %           56.52 %       19.53 %   \n",
       "\n",
       "PAY_MODE_SEVEREST          Paid in Full Revolving Credit Used  \n",
       "default_payment_next_month                                     \n",
       "False                           83.36 %               83.12 %  \n",
       "True                            16.64 %               16.88 %  "
      ]
     },
     "execution_count": 54,
     "metadata": {},
     "output_type": "execute_result"
    }
   ],
   "source": [
    "#category-wise\n",
    "pandas.crosstab(index = ccd['default_payment_next_month'], columns = ccd['PAY_MODE_SEVEREST'], normalize = 'columns').mul(100).round(2).astype('str') + ' %'"
   ]
  },
  {
   "cell_type": "code",
   "execution_count": 55,
   "metadata": {
    "slideshow": {
     "slide_type": "fragment"
    }
   },
   "outputs": [
    {
     "data": {
      "text/html": [
       "<div>\n",
       "<style scoped>\n",
       "    .dataframe tbody tr th:only-of-type {\n",
       "        vertical-align: middle;\n",
       "    }\n",
       "\n",
       "    .dataframe tbody tr th {\n",
       "        vertical-align: top;\n",
       "    }\n",
       "\n",
       "    .dataframe thead th {\n",
       "        text-align: right;\n",
       "    }\n",
       "</style>\n",
       "<table border=\"1\" class=\"dataframe\">\n",
       "  <thead>\n",
       "    <tr style=\"text-align: right;\">\n",
       "      <th>PAY_MODE_SEVEREST</th>\n",
       "      <th>Delay 1 of month</th>\n",
       "      <th>Delay 2 of months</th>\n",
       "      <th>Delay 3 of months</th>\n",
       "      <th>Delay 4 of months</th>\n",
       "      <th>Delay 5 of months</th>\n",
       "      <th>Delay 6 of months</th>\n",
       "      <th>Delay 7 of months</th>\n",
       "      <th>Delay 8 of months</th>\n",
       "      <th>No Credit Use</th>\n",
       "      <th>Paid in Full</th>\n",
       "      <th>Revolving Credit Used</th>\n",
       "    </tr>\n",
       "    <tr>\n",
       "      <th>default_payment_next_month</th>\n",
       "      <th></th>\n",
       "      <th></th>\n",
       "      <th></th>\n",
       "      <th></th>\n",
       "      <th></th>\n",
       "      <th></th>\n",
       "      <th></th>\n",
       "      <th></th>\n",
       "      <th></th>\n",
       "      <th></th>\n",
       "      <th></th>\n",
       "    </tr>\n",
       "  </thead>\n",
       "  <tbody>\n",
       "    <tr>\n",
       "      <td>False</td>\n",
       "      <td>0.03 %</td>\n",
       "      <td>5.13 %</td>\n",
       "      <td>0.12 %</td>\n",
       "      <td>0.1 %</td>\n",
       "      <td>0.03 %</td>\n",
       "      <td>0.02 %</td>\n",
       "      <td>0.05 %</td>\n",
       "      <td>0.04 %</td>\n",
       "      <td>13.42 %</td>\n",
       "      <td>20.3 %</td>\n",
       "      <td>60.75 %</td>\n",
       "    </tr>\n",
       "    <tr>\n",
       "      <td>True</td>\n",
       "      <td>0.02 %</td>\n",
       "      <td>27.86 %</td>\n",
       "      <td>1.15 %</td>\n",
       "      <td>0.51 %</td>\n",
       "      <td>0.15 %</td>\n",
       "      <td>0.11 %</td>\n",
       "      <td>0.84 %</td>\n",
       "      <td>0.2 %</td>\n",
       "      <td>11.47 %</td>\n",
       "      <td>14.27 %</td>\n",
       "      <td>43.43 %</td>\n",
       "    </tr>\n",
       "  </tbody>\n",
       "</table>\n",
       "</div>"
      ],
      "text/plain": [
       "PAY_MODE_SEVEREST          Delay 1 of month Delay 2 of months  \\\n",
       "default_payment_next_month                                      \n",
       "False                                0.03 %            5.13 %   \n",
       "True                                 0.02 %           27.86 %   \n",
       "\n",
       "PAY_MODE_SEVEREST          Delay 3 of months Delay 4 of months  \\\n",
       "default_payment_next_month                                       \n",
       "False                                 0.12 %             0.1 %   \n",
       "True                                  1.15 %            0.51 %   \n",
       "\n",
       "PAY_MODE_SEVEREST          Delay 5 of months Delay 6 of months  \\\n",
       "default_payment_next_month                                       \n",
       "False                                 0.03 %            0.02 %   \n",
       "True                                  0.15 %            0.11 %   \n",
       "\n",
       "PAY_MODE_SEVEREST          Delay 7 of months Delay 8 of months No Credit Use  \\\n",
       "default_payment_next_month                                                     \n",
       "False                                 0.05 %            0.04 %       13.42 %   \n",
       "True                                  0.84 %             0.2 %       11.47 %   \n",
       "\n",
       "PAY_MODE_SEVEREST          Paid in Full Revolving Credit Used  \n",
       "default_payment_next_month                                     \n",
       "False                            20.3 %               60.75 %  \n",
       "True                            14.27 %               43.43 %  "
      ]
     },
     "execution_count": 55,
     "metadata": {},
     "output_type": "execute_result"
    }
   ],
   "source": [
    "#target-wise\n",
    "pandas.crosstab(index = ccd['default_payment_next_month'], columns = ccd['PAY_MODE_SEVEREST'], normalize = 'index').mul(100).round(2).astype('str') + ' %'"
   ]
  },
  {
   "cell_type": "markdown",
   "metadata": {
    "slideshow": {
     "slide_type": "subslide"
    }
   },
   "source": [
    "#### Payment behaviour in June (Quarter - April to June) (PAY_4: June)"
   ]
  },
  {
   "cell_type": "code",
   "execution_count": 56,
   "metadata": {
    "slideshow": {
     "slide_type": "fragment"
    }
   },
   "outputs": [
    {
     "data": {
      "text/html": [
       "<div>\n",
       "<style scoped>\n",
       "    .dataframe tbody tr th:only-of-type {\n",
       "        vertical-align: middle;\n",
       "    }\n",
       "\n",
       "    .dataframe tbody tr th {\n",
       "        vertical-align: top;\n",
       "    }\n",
       "\n",
       "    .dataframe thead th {\n",
       "        text-align: right;\n",
       "    }\n",
       "</style>\n",
       "<table border=\"1\" class=\"dataframe\">\n",
       "  <thead>\n",
       "    <tr style=\"text-align: right;\">\n",
       "      <th>PAY_4</th>\n",
       "      <th>Delay 1 of month</th>\n",
       "      <th>Delay 2 of months</th>\n",
       "      <th>Delay 3 of months</th>\n",
       "      <th>Delay 4 of months</th>\n",
       "      <th>Delay 5 of months</th>\n",
       "      <th>Delay 6 of months</th>\n",
       "      <th>Delay 7 of months</th>\n",
       "      <th>Delay 8 of months</th>\n",
       "      <th>No Credit Use</th>\n",
       "      <th>Paid in Full</th>\n",
       "      <th>Revolving Credit Used</th>\n",
       "    </tr>\n",
       "    <tr>\n",
       "      <th>default_payment_next_month</th>\n",
       "      <th></th>\n",
       "      <th></th>\n",
       "      <th></th>\n",
       "      <th></th>\n",
       "      <th></th>\n",
       "      <th></th>\n",
       "      <th></th>\n",
       "      <th></th>\n",
       "      <th></th>\n",
       "      <th></th>\n",
       "      <th></th>\n",
       "    </tr>\n",
       "  </thead>\n",
       "  <tbody>\n",
       "    <tr>\n",
       "      <td>False</td>\n",
       "      <td>1</td>\n",
       "      <td>1506</td>\n",
       "      <td>70</td>\n",
       "      <td>23</td>\n",
       "      <td>17</td>\n",
       "      <td>3</td>\n",
       "      <td>10</td>\n",
       "      <td>1</td>\n",
       "      <td>3511</td>\n",
       "      <td>4783</td>\n",
       "      <td>13439</td>\n",
       "    </tr>\n",
       "    <tr>\n",
       "      <td>True</td>\n",
       "      <td>1</td>\n",
       "      <td>1653</td>\n",
       "      <td>110</td>\n",
       "      <td>46</td>\n",
       "      <td>18</td>\n",
       "      <td>2</td>\n",
       "      <td>48</td>\n",
       "      <td>1</td>\n",
       "      <td>837</td>\n",
       "      <td>904</td>\n",
       "      <td>3016</td>\n",
       "    </tr>\n",
       "  </tbody>\n",
       "</table>\n",
       "</div>"
      ],
      "text/plain": [
       "PAY_4                       Delay 1 of month  Delay 2 of months  \\\n",
       "default_payment_next_month                                        \n",
       "False                                      1               1506   \n",
       "True                                       1               1653   \n",
       "\n",
       "PAY_4                       Delay 3 of months  Delay 4 of months  \\\n",
       "default_payment_next_month                                         \n",
       "False                                      70                 23   \n",
       "True                                      110                 46   \n",
       "\n",
       "PAY_4                       Delay 5 of months  Delay 6 of months  \\\n",
       "default_payment_next_month                                         \n",
       "False                                      17                  3   \n",
       "True                                       18                  2   \n",
       "\n",
       "PAY_4                       Delay 7 of months  Delay 8 of months  \\\n",
       "default_payment_next_month                                         \n",
       "False                                      10                  1   \n",
       "True                                       48                  1   \n",
       "\n",
       "PAY_4                       No Credit Use  Paid in Full  Revolving Credit Used  \n",
       "default_payment_next_month                                                      \n",
       "False                                3511          4783                  13439  \n",
       "True                                  837           904                   3016  "
      ]
     },
     "execution_count": 56,
     "metadata": {},
     "output_type": "execute_result"
    }
   ],
   "source": [
    "pandas.crosstab(index = ccd['default_payment_next_month'], columns = ccd['PAY_4'])"
   ]
  },
  {
   "cell_type": "code",
   "execution_count": 57,
   "metadata": {
    "slideshow": {
     "slide_type": "fragment"
    }
   },
   "outputs": [
    {
     "data": {
      "text/html": [
       "<div>\n",
       "<style scoped>\n",
       "    .dataframe tbody tr th:only-of-type {\n",
       "        vertical-align: middle;\n",
       "    }\n",
       "\n",
       "    .dataframe tbody tr th {\n",
       "        vertical-align: top;\n",
       "    }\n",
       "\n",
       "    .dataframe thead th {\n",
       "        text-align: right;\n",
       "    }\n",
       "</style>\n",
       "<table border=\"1\" class=\"dataframe\">\n",
       "  <thead>\n",
       "    <tr style=\"text-align: right;\">\n",
       "      <th>PAY_4</th>\n",
       "      <th>Delay 1 of month</th>\n",
       "      <th>Delay 2 of months</th>\n",
       "      <th>Delay 3 of months</th>\n",
       "      <th>Delay 4 of months</th>\n",
       "      <th>Delay 5 of months</th>\n",
       "      <th>Delay 6 of months</th>\n",
       "      <th>Delay 7 of months</th>\n",
       "      <th>Delay 8 of months</th>\n",
       "      <th>No Credit Use</th>\n",
       "      <th>Paid in Full</th>\n",
       "      <th>Revolving Credit Used</th>\n",
       "    </tr>\n",
       "    <tr>\n",
       "      <th>default_payment_next_month</th>\n",
       "      <th></th>\n",
       "      <th></th>\n",
       "      <th></th>\n",
       "      <th></th>\n",
       "      <th></th>\n",
       "      <th></th>\n",
       "      <th></th>\n",
       "      <th></th>\n",
       "      <th></th>\n",
       "      <th></th>\n",
       "      <th></th>\n",
       "    </tr>\n",
       "  </thead>\n",
       "  <tbody>\n",
       "    <tr>\n",
       "      <td>False</td>\n",
       "      <td>0.0 %</td>\n",
       "      <td>6.45 %</td>\n",
       "      <td>0.3 %</td>\n",
       "      <td>0.1 %</td>\n",
       "      <td>0.07 %</td>\n",
       "      <td>0.01 %</td>\n",
       "      <td>0.04 %</td>\n",
       "      <td>0.0 %</td>\n",
       "      <td>15.03 %</td>\n",
       "      <td>20.47 %</td>\n",
       "      <td>57.52 %</td>\n",
       "    </tr>\n",
       "    <tr>\n",
       "      <td>True</td>\n",
       "      <td>0.02 %</td>\n",
       "      <td>24.91 %</td>\n",
       "      <td>1.66 %</td>\n",
       "      <td>0.69 %</td>\n",
       "      <td>0.27 %</td>\n",
       "      <td>0.03 %</td>\n",
       "      <td>0.72 %</td>\n",
       "      <td>0.02 %</td>\n",
       "      <td>12.61 %</td>\n",
       "      <td>13.62 %</td>\n",
       "      <td>45.45 %</td>\n",
       "    </tr>\n",
       "  </tbody>\n",
       "</table>\n",
       "</div>"
      ],
      "text/plain": [
       "PAY_4                      Delay 1 of month Delay 2 of months  \\\n",
       "default_payment_next_month                                      \n",
       "False                                 0.0 %            6.45 %   \n",
       "True                                 0.02 %           24.91 %   \n",
       "\n",
       "PAY_4                      Delay 3 of months Delay 4 of months  \\\n",
       "default_payment_next_month                                       \n",
       "False                                  0.3 %             0.1 %   \n",
       "True                                  1.66 %            0.69 %   \n",
       "\n",
       "PAY_4                      Delay 5 of months Delay 6 of months  \\\n",
       "default_payment_next_month                                       \n",
       "False                                 0.07 %            0.01 %   \n",
       "True                                  0.27 %            0.03 %   \n",
       "\n",
       "PAY_4                      Delay 7 of months Delay 8 of months No Credit Use  \\\n",
       "default_payment_next_month                                                     \n",
       "False                                 0.04 %             0.0 %       15.03 %   \n",
       "True                                  0.72 %            0.02 %       12.61 %   \n",
       "\n",
       "PAY_4                      Paid in Full Revolving Credit Used  \n",
       "default_payment_next_month                                     \n",
       "False                           20.47 %               57.52 %  \n",
       "True                            13.62 %               45.45 %  "
      ]
     },
     "execution_count": 57,
     "metadata": {},
     "output_type": "execute_result"
    }
   ],
   "source": [
    "#target-wise\n",
    "pandas.crosstab(index = ccd['default_payment_next_month'], columns = ccd['PAY_4'], normalize = 'index').mul(100).round(2).astype('str') + ' %'"
   ]
  },
  {
   "cell_type": "markdown",
   "metadata": {
    "slideshow": {
     "slide_type": "subslide"
    }
   },
   "source": [
    "#### Payment behaviour in June (Quarter - July to September) (PAY_1: September)"
   ]
  },
  {
   "cell_type": "code",
   "execution_count": 58,
   "metadata": {
    "slideshow": {
     "slide_type": "fragment"
    }
   },
   "outputs": [
    {
     "data": {
      "text/html": [
       "<div>\n",
       "<style scoped>\n",
       "    .dataframe tbody tr th:only-of-type {\n",
       "        vertical-align: middle;\n",
       "    }\n",
       "\n",
       "    .dataframe tbody tr th {\n",
       "        vertical-align: top;\n",
       "    }\n",
       "\n",
       "    .dataframe thead th {\n",
       "        text-align: right;\n",
       "    }\n",
       "</style>\n",
       "<table border=\"1\" class=\"dataframe\">\n",
       "  <thead>\n",
       "    <tr style=\"text-align: right;\">\n",
       "      <th>PAY_1</th>\n",
       "      <th>Delay 1 of month</th>\n",
       "      <th>Delay 2 of months</th>\n",
       "      <th>Delay 3 of months</th>\n",
       "      <th>Delay 4 of months</th>\n",
       "      <th>Delay 5 of months</th>\n",
       "      <th>Delay 6 of months</th>\n",
       "      <th>Delay 7 of months</th>\n",
       "      <th>Delay 8 of months</th>\n",
       "      <th>No Credit Use</th>\n",
       "      <th>Paid in Full</th>\n",
       "      <th>Revolving Credit Used</th>\n",
       "    </tr>\n",
       "    <tr>\n",
       "      <th>default_payment_next_month</th>\n",
       "      <th></th>\n",
       "      <th></th>\n",
       "      <th></th>\n",
       "      <th></th>\n",
       "      <th></th>\n",
       "      <th></th>\n",
       "      <th></th>\n",
       "      <th></th>\n",
       "      <th></th>\n",
       "      <th></th>\n",
       "      <th></th>\n",
       "    </tr>\n",
       "  </thead>\n",
       "  <tbody>\n",
       "    <tr>\n",
       "      <td>False</td>\n",
       "      <td>2436</td>\n",
       "      <td>823</td>\n",
       "      <td>78</td>\n",
       "      <td>24</td>\n",
       "      <td>13</td>\n",
       "      <td>5</td>\n",
       "      <td>2</td>\n",
       "      <td>8</td>\n",
       "      <td>2394</td>\n",
       "      <td>4732</td>\n",
       "      <td>12849</td>\n",
       "    </tr>\n",
       "    <tr>\n",
       "      <td>True</td>\n",
       "      <td>1252</td>\n",
       "      <td>1844</td>\n",
       "      <td>244</td>\n",
       "      <td>52</td>\n",
       "      <td>13</td>\n",
       "      <td>6</td>\n",
       "      <td>7</td>\n",
       "      <td>11</td>\n",
       "      <td>365</td>\n",
       "      <td>954</td>\n",
       "      <td>1888</td>\n",
       "    </tr>\n",
       "  </tbody>\n",
       "</table>\n",
       "</div>"
      ],
      "text/plain": [
       "PAY_1                       Delay 1 of month  Delay 2 of months  \\\n",
       "default_payment_next_month                                        \n",
       "False                                   2436                823   \n",
       "True                                    1252               1844   \n",
       "\n",
       "PAY_1                       Delay 3 of months  Delay 4 of months  \\\n",
       "default_payment_next_month                                         \n",
       "False                                      78                 24   \n",
       "True                                      244                 52   \n",
       "\n",
       "PAY_1                       Delay 5 of months  Delay 6 of months  \\\n",
       "default_payment_next_month                                         \n",
       "False                                      13                  5   \n",
       "True                                       13                  6   \n",
       "\n",
       "PAY_1                       Delay 7 of months  Delay 8 of months  \\\n",
       "default_payment_next_month                                         \n",
       "False                                       2                  8   \n",
       "True                                        7                 11   \n",
       "\n",
       "PAY_1                       No Credit Use  Paid in Full  Revolving Credit Used  \n",
       "default_payment_next_month                                                      \n",
       "False                                2394          4732                  12849  \n",
       "True                                  365           954                   1888  "
      ]
     },
     "execution_count": 58,
     "metadata": {},
     "output_type": "execute_result"
    }
   ],
   "source": [
    "pandas.crosstab(index = ccd['default_payment_next_month'], columns = ccd['PAY_1'])"
   ]
  },
  {
   "cell_type": "code",
   "execution_count": 59,
   "metadata": {
    "slideshow": {
     "slide_type": "fragment"
    }
   },
   "outputs": [
    {
     "data": {
      "text/html": [
       "<div>\n",
       "<style scoped>\n",
       "    .dataframe tbody tr th:only-of-type {\n",
       "        vertical-align: middle;\n",
       "    }\n",
       "\n",
       "    .dataframe tbody tr th {\n",
       "        vertical-align: top;\n",
       "    }\n",
       "\n",
       "    .dataframe thead th {\n",
       "        text-align: right;\n",
       "    }\n",
       "</style>\n",
       "<table border=\"1\" class=\"dataframe\">\n",
       "  <thead>\n",
       "    <tr style=\"text-align: right;\">\n",
       "      <th>PAY_1</th>\n",
       "      <th>Delay 1 of month</th>\n",
       "      <th>Delay 2 of months</th>\n",
       "      <th>Delay 3 of months</th>\n",
       "      <th>Delay 4 of months</th>\n",
       "      <th>Delay 5 of months</th>\n",
       "      <th>Delay 6 of months</th>\n",
       "      <th>Delay 7 of months</th>\n",
       "      <th>Delay 8 of months</th>\n",
       "      <th>No Credit Use</th>\n",
       "      <th>Paid in Full</th>\n",
       "      <th>Revolving Credit Used</th>\n",
       "    </tr>\n",
       "    <tr>\n",
       "      <th>default_payment_next_month</th>\n",
       "      <th></th>\n",
       "      <th></th>\n",
       "      <th></th>\n",
       "      <th></th>\n",
       "      <th></th>\n",
       "      <th></th>\n",
       "      <th></th>\n",
       "      <th></th>\n",
       "      <th></th>\n",
       "      <th></th>\n",
       "      <th></th>\n",
       "    </tr>\n",
       "  </thead>\n",
       "  <tbody>\n",
       "    <tr>\n",
       "      <td>False</td>\n",
       "      <td>10.43 %</td>\n",
       "      <td>3.52 %</td>\n",
       "      <td>0.33 %</td>\n",
       "      <td>0.1 %</td>\n",
       "      <td>0.06 %</td>\n",
       "      <td>0.02 %</td>\n",
       "      <td>0.01 %</td>\n",
       "      <td>0.03 %</td>\n",
       "      <td>10.25 %</td>\n",
       "      <td>20.25 %</td>\n",
       "      <td>54.99 %</td>\n",
       "    </tr>\n",
       "    <tr>\n",
       "      <td>True</td>\n",
       "      <td>18.87 %</td>\n",
       "      <td>27.79 %</td>\n",
       "      <td>3.68 %</td>\n",
       "      <td>0.78 %</td>\n",
       "      <td>0.2 %</td>\n",
       "      <td>0.09 %</td>\n",
       "      <td>0.11 %</td>\n",
       "      <td>0.17 %</td>\n",
       "      <td>5.5 %</td>\n",
       "      <td>14.38 %</td>\n",
       "      <td>28.45 %</td>\n",
       "    </tr>\n",
       "  </tbody>\n",
       "</table>\n",
       "</div>"
      ],
      "text/plain": [
       "PAY_1                      Delay 1 of month Delay 2 of months  \\\n",
       "default_payment_next_month                                      \n",
       "False                               10.43 %            3.52 %   \n",
       "True                                18.87 %           27.79 %   \n",
       "\n",
       "PAY_1                      Delay 3 of months Delay 4 of months  \\\n",
       "default_payment_next_month                                       \n",
       "False                                 0.33 %             0.1 %   \n",
       "True                                  3.68 %            0.78 %   \n",
       "\n",
       "PAY_1                      Delay 5 of months Delay 6 of months  \\\n",
       "default_payment_next_month                                       \n",
       "False                                 0.06 %            0.02 %   \n",
       "True                                   0.2 %            0.09 %   \n",
       "\n",
       "PAY_1                      Delay 7 of months Delay 8 of months No Credit Use  \\\n",
       "default_payment_next_month                                                     \n",
       "False                                 0.01 %            0.03 %       10.25 %   \n",
       "True                                  0.11 %            0.17 %         5.5 %   \n",
       "\n",
       "PAY_1                      Paid in Full Revolving Credit Used  \n",
       "default_payment_next_month                                     \n",
       "False                           20.25 %               54.99 %  \n",
       "True                            14.38 %               28.45 %  "
      ]
     },
     "execution_count": 59,
     "metadata": {},
     "output_type": "execute_result"
    }
   ],
   "source": [
    "#target-wise\n",
    "pandas.crosstab(index = ccd['default_payment_next_month'], columns = ccd['PAY_1'], normalize = 'index').mul(100).round(2).astype('str') + ' %'"
   ]
  },
  {
   "cell_type": "markdown",
   "metadata": {
    "slideshow": {
     "slide_type": "subslide"
    }
   },
   "source": [
    "#### iv> b. Chi Squared Test"
   ]
  },
  {
   "cell_type": "code",
   "execution_count": 60,
   "metadata": {
    "slideshow": {
     "slide_type": "fragment"
    }
   },
   "outputs": [],
   "source": [
    "chi2 = pandas.DataFrame(data = chi2_contingency(observed = pandas.crosstab(index = ccd['default_payment_next_month'], columns = ccd['PAY_MODE_SEVEREST'])))"
   ]
  },
  {
   "cell_type": "code",
   "execution_count": 61,
   "metadata": {
    "slideshow": {
     "slide_type": "fragment"
    }
   },
   "outputs": [
    {
     "data": {
      "text/html": [
       "<div>\n",
       "<style scoped>\n",
       "    .dataframe tbody tr th:only-of-type {\n",
       "        vertical-align: middle;\n",
       "    }\n",
       "\n",
       "    .dataframe tbody tr th {\n",
       "        vertical-align: top;\n",
       "    }\n",
       "\n",
       "    .dataframe thead th {\n",
       "        text-align: right;\n",
       "    }\n",
       "</style>\n",
       "<table border=\"1\" class=\"dataframe\">\n",
       "  <thead>\n",
       "    <tr style=\"text-align: right;\">\n",
       "      <th></th>\n",
       "      <th>0</th>\n",
       "    </tr>\n",
       "  </thead>\n",
       "  <tbody>\n",
       "    <tr>\n",
       "      <td>0</td>\n",
       "      <td>3406.33</td>\n",
       "    </tr>\n",
       "    <tr>\n",
       "      <td>1</td>\n",
       "      <td>0</td>\n",
       "    </tr>\n",
       "    <tr>\n",
       "      <td>2</td>\n",
       "      <td>10</td>\n",
       "    </tr>\n",
       "    <tr>\n",
       "      <td>3</td>\n",
       "      <td>[[7.0092, 2373.0036, 80.9952, 45.1704, 13.2396...</td>\n",
       "    </tr>\n",
       "  </tbody>\n",
       "</table>\n",
       "</div>"
      ],
      "text/plain": [
       "                                                   0\n",
       "0                                            3406.33\n",
       "1                                                  0\n",
       "2                                                 10\n",
       "3  [[7.0092, 2373.0036, 80.9952, 45.1704, 13.2396..."
      ]
     },
     "execution_count": 61,
     "metadata": {},
     "output_type": "execute_result"
    }
   ],
   "source": [
    "chi2"
   ]
  },
  {
   "cell_type": "code",
   "execution_count": 62,
   "metadata": {
    "slideshow": {
     "slide_type": "fragment"
    }
   },
   "outputs": [
    {
     "data": {
      "text/plain": [
       "1.9908"
      ]
     },
     "execution_count": 62,
     "metadata": {},
     "output_type": "execute_result"
    }
   ],
   "source": [
    "chi2[0][3].min()"
   ]
  },
  {
   "cell_type": "markdown",
   "metadata": {
    "slideshow": {
     "slide_type": "subslide"
    }
   },
   "source": [
    "#### v> Conclusion\n",
    "Expectation - \n",
    "1. Individual may default less at the end of a financial quarter (PAY_1: September, Pay_4: June)\n",
    "2. Payment delay and smaller LIMIT_BAL can be directly correlated. (Resulatant of sound and logical practices of the Credit firm)\n",
    "\n",
    "Conclusion - \n",
    "1. Holds True for June, but it's the opposite case for September. PAY_{} == Delay{} AND Default == True: {'PAY_MODE_SEVEREST': 30.84%, 'PAY_4': 28.32%, 'PAY_1': 51.69%} (Crosstabs 3, 5 and 7, normalized by index).\n",
    "2. True (Crosstab 2)\n",
    "3. Chi-Sqaured test: p-value being below 0.05(row 2), there exists a relation between PAY_MODE_SEVEREST and 'default payment'. All elements of array of expected frequency(previous cell) not being above 5, test is not reliable.\n",
    "\n",
    "Comments - None"
   ]
  },
  {
   "cell_type": "markdown",
   "metadata": {
    "slideshow": {
     "slide_type": "slide"
    }
   },
   "source": [
    "### 3.2.g BILL_AMT {BILL_AMT1 to BILL_AMT6}\n",
    "\n",
    "Type - Numerical - Continuous - Ratio\n",
    "\n",
    "Segment - Financial - Expended\n",
    "\n",
    "Legend - \n",
    "\n",
    "{BILL_AMT_1: September 2005, BILL_AMT_2: August 2005, BILL_AMT_3: July 2005, BILL_AMT_4: June 2005, BILL_AMT_5: May 2005, BILL_AMT_6: April 2005}"
   ]
  },
  {
   "cell_type": "markdown",
   "metadata": {
    "slideshow": {
     "slide_type": "subslide"
    }
   },
   "source": [
    "#### i> Dimentionalty Reduction"
   ]
  },
  {
   "cell_type": "code",
   "execution_count": 63,
   "metadata": {
    "slideshow": {
     "slide_type": "fragment"
    }
   },
   "outputs": [],
   "source": [
    "ccdSpent = ccd[['BILL_AMT1', 'BILL_AMT2', 'BILL_AMT3', 'BILL_AMT4', 'BILL_AMT5', 'BILL_AMT6']]\n",
    "\n",
    "#using mean for total credit used\n",
    "ccd['BILL_AMT_MEAN'] = np.int32(ccdSpent.mean(axis = 'columns').round())"
   ]
  },
  {
   "cell_type": "code",
   "execution_count": 64,
   "metadata": {
    "slideshow": {
     "slide_type": "fragment"
    }
   },
   "outputs": [
    {
     "data": {
      "text/plain": [
       "<matplotlib.axes._subplots.AxesSubplot at 0x1d0ac6dd248>"
      ]
     },
     "execution_count": 64,
     "metadata": {},
     "output_type": "execute_result"
    },
    {
     "data": {
      "image/png": "[encoded data removed]",
      "text/plain": [
       "<Figure size 432x288 with 2 Axes>"
      ]
     },
     "metadata": {
      "needs_background": "light"
     },
     "output_type": "display_data"
    }
   ],
   "source": [
    "#correlation between this set of similar, historical variables\n",
    "ccdSpentCorrSp = ccdSpent.corr(method='spearman')\n",
    "\n",
    "seaborn.heatmap(data = ccdSpentCorrSp, vmin = 0, vmax = 1)"
   ]
  },
  {
   "cell_type": "code",
   "execution_count": 65,
   "metadata": {
    "slideshow": {
     "slide_type": "fragment"
    }
   },
   "outputs": [
    {
     "data": {
      "text/plain": [
       "<matplotlib.axes._subplots.AxesSubplot at 0x1d0b3058a88>"
      ]
     },
     "execution_count": 65,
     "metadata": {},
     "output_type": "execute_result"
    },
    {
     "data": {
      "image/png": "[encoded data removed]",
      "text/plain": [
       "<Figure size 432x288 with 2 Axes>"
      ]
     },
     "metadata": {
      "needs_background": "light"
     },
     "output_type": "display_data"
    }
   ],
   "source": [
    "#correlation between this set of similar, historical variables\n",
    "ccdSpentCorrPr = ccdSpent.corr(method='pearson')\n",
    "\n",
    "seaborn.heatmap(data = ccdSpentCorrPr, vmin = 0, vmax = 1)"
   ]
  },
  {
   "cell_type": "markdown",
   "metadata": {
    "slideshow": {
     "slide_type": "subslide"
    }
   },
   "source": [
    "#### ii> Univariate"
   ]
  },
  {
   "cell_type": "code",
   "execution_count": 66,
   "metadata": {
    "slideshow": {
     "slide_type": "fragment"
    }
   },
   "outputs": [
    {
     "data": {
      "text/plain": [
       "<matplotlib.axes._subplots.AxesSubplot at 0x1d0b2ff0588>"
      ]
     },
     "execution_count": 66,
     "metadata": {},
     "output_type": "execute_result"
    },
    {
     "data": {
      "image/png": "[encoded data removed]",
      "text/plain": [
       "<Figure size 432x288 with 1 Axes>"
      ]
     },
     "metadata": {
      "needs_background": "light"
     },
     "output_type": "display_data"
    }
   ],
   "source": [
    "#for distribution and density\n",
    "seaborn.distplot(ccd['BILL_AMT_MEAN'], bins = 300, kde = True, hist = True, rug = True) ##bins = 300 because dataframe's size = 30000"
   ]
  },
  {
   "cell_type": "code",
   "execution_count": 67,
   "metadata": {
    "slideshow": {
     "slide_type": "subslide"
    }
   },
   "outputs": [
    {
     "data": {
      "text/plain": [
       "<matplotlib.axes._subplots.AxesSubplot at 0x1d0b30e5308>"
      ]
     },
     "execution_count": 67,
     "metadata": {},
     "output_type": "execute_result"
    },
    {
     "data": {
      "image/png": "[encoded data removed]",
      "text/plain": [
       "<Figure size 432x288 with 1 Axes>"
      ]
     },
     "metadata": {
      "needs_background": "light"
     },
     "output_type": "display_data"
    }
   ],
   "source": [
    "#for outliers\n",
    "seaborn.boxplot(x = 'BILL_AMT_MEAN', data = ccd)"
   ]
  },
  {
   "cell_type": "markdown",
   "metadata": {
    "slideshow": {
     "slide_type": "subslide"
    }
   },
   "source": [
    "#### iii> Bivariate Graphical"
   ]
  },
  {
   "cell_type": "code",
   "execution_count": 68,
   "metadata": {
    "slideshow": {
     "slide_type": "fragment"
    }
   },
   "outputs": [
    {
     "data": {
      "text/plain": [
       "<matplotlib.axes._subplots.AxesSubplot at 0x1d0aa4f1a08>"
      ]
     },
     "execution_count": 68,
     "metadata": {},
     "output_type": "execute_result"
    },
    {
     "data": {
      "image/png": "[encoded data removed]",
      "text/plain": [
       "<Figure size 432x288 with 1 Axes>"
      ]
     },
     "metadata": {
      "needs_background": "light"
     },
     "output_type": "display_data"
    }
   ],
   "source": [
    "#for relation between mean of credit used and target variable\n",
    "seaborn.violinplot(x = ccd['default_payment_next_month'], y = ccd['BILL_AMT_MEAN'], jitter = 0.4)"
   ]
  },
  {
   "cell_type": "markdown",
   "metadata": {
    "slideshow": {
     "slide_type": "subslide"
    }
   },
   "source": [
    "#### iv> Bivariate Statistical"
   ]
  },
  {
   "cell_type": "code",
   "execution_count": 69,
   "metadata": {
    "slideshow": {
     "slide_type": "fragment"
    }
   },
   "outputs": [
    {
     "data": {
      "text/html": [
       "<div>\n",
       "<style scoped>\n",
       "    .dataframe tbody tr th:only-of-type {\n",
       "        vertical-align: middle;\n",
       "    }\n",
       "\n",
       "    .dataframe tbody tr th {\n",
       "        vertical-align: top;\n",
       "    }\n",
       "\n",
       "    .dataframe thead th {\n",
       "        text-align: right;\n",
       "    }\n",
       "</style>\n",
       "<table border=\"1\" class=\"dataframe\">\n",
       "  <thead>\n",
       "    <tr style=\"text-align: right;\">\n",
       "      <th></th>\n",
       "      <th>mean</th>\n",
       "      <th>median</th>\n",
       "      <th>count_nonzero</th>\n",
       "      <th>std</th>\n",
       "    </tr>\n",
       "    <tr>\n",
       "      <th>default_payment_next_month</th>\n",
       "      <th></th>\n",
       "      <th></th>\n",
       "      <th></th>\n",
       "      <th></th>\n",
       "    </tr>\n",
       "  </thead>\n",
       "  <tbody>\n",
       "    <tr>\n",
       "      <td>False</td>\n",
       "      <td>45404.815913</td>\n",
       "      <td>21443.5</td>\n",
       "      <td>22811</td>\n",
       "      <td>62958.655472</td>\n",
       "    </tr>\n",
       "    <tr>\n",
       "      <td>True</td>\n",
       "      <td>43470.493068</td>\n",
       "      <td>19781.5</td>\n",
       "      <td>6319</td>\n",
       "      <td>64295.087885</td>\n",
       "    </tr>\n",
       "  </tbody>\n",
       "</table>\n",
       "</div>"
      ],
      "text/plain": [
       "                                    mean   median  count_nonzero           std\n",
       "default_payment_next_month                                                    \n",
       "False                       45404.815913  21443.5          22811  62958.655472\n",
       "True                        43470.493068  19781.5           6319  64295.087885"
      ]
     },
     "execution_count": 69,
     "metadata": {},
     "output_type": "execute_result"
    }
   ],
   "source": [
    "ccd.groupby('default_payment_next_month').agg([np.mean, np.median, np.count_nonzero, np.std]).BILL_AMT_MEAN"
   ]
  },
  {
   "cell_type": "markdown",
   "metadata": {
    "slideshow": {
     "slide_type": "subslide"
    }
   },
   "source": [
    "#### iv> b. ANOVA - F One-Way"
   ]
  },
  {
   "cell_type": "code",
   "execution_count": 70,
   "metadata": {
    "slideshow": {
     "slide_type": "fragment"
    }
   },
   "outputs": [
    {
     "data": {
      "text/plain": [
       "F_onewayResult(statistic=4.832561995267136, pvalue=0.027934710811609496)"
      ]
     },
     "execution_count": 70,
     "metadata": {},
     "output_type": "execute_result"
    }
   ],
   "source": [
    "f_oneway(ccd['BILL_AMT_MEAN'][ccd['default_payment_next_month'] == True],\n",
    "        ccd['BILL_AMT_MEAN'][ccd['default_payment_next_month'] == False])"
   ]
  },
  {
   "cell_type": "markdown",
   "metadata": {
    "slideshow": {
     "slide_type": "subslide"
    }
   },
   "source": [
    "#### v> Conclusion\n",
    "Expectation - \n",
    "1. High correlation among BILL_AMT{} variables.\n",
    "2. Correlation between spending habits of consecutive months will be stronger than that of the months which are far apart.\n",
    "3. Defaulters are more likely to have negative BILL_AMT_MEAN. (Individual's habits, complacency)\n",
    "\n",
    "Conclusion - \n",
    "1. True, Very strong correlation. [Highest: BILL_AMT1 and BILL_AMT2: 0.911133, Lowest: BILL_AMT1 and BILL_AMT6: 0.734275]. (Correlation Table)\n",
    "2. True, this holds true in all observable cases, thus a trend is established from this hypotheses. [Highest: BILL_AMT1 and BILL_AMT2: 0.911133, Lowest: BILL_AMT1 and BILL_AMT6: 0.734275] (Correlation Table)\n",
    "3. True. (Plot 2)\n",
    "4. One-Way ANOVA: p-value being below 0.05 but not near 0, difference between means is statistically significant to a small degree. There exists a relation between BILL_AMT_MEAN and 'default payment'.\n",
    "\n",
    "Comments - \n",
    "1. This set of variables can have valid negative values, which represent cases where credit company owes monet to an individual.\n",
    "2. Due to the very strong correlation, the variables can undergo dimentionality reduction."
   ]
  },
  {
   "cell_type": "markdown",
   "metadata": {
    "slideshow": {
     "slide_type": "slide"
    }
   },
   "source": [
    "### 3.2.h PAY_AMT {PAY_AMT1 to PAY_AMT6}\n",
    "\n",
    "Type - Numerical - Continuous - Ratio\n",
    "\n",
    "Segment - Financial - Paid\n",
    "\n",
    "Legend - \n",
    "\n",
    "{PAY_AMT1: September 2005, PAY_AMT2: August 2005, PAY_AMT3: July 2005, PAY_AMT4: June 2005, PAY_AMT5: May 2005, PAY_AMT6: April 2005}"
   ]
  },
  {
   "cell_type": "markdown",
   "metadata": {
    "slideshow": {
     "slide_type": "subslide"
    }
   },
   "source": [
    "#### i> Dimentionalty Reduction"
   ]
  },
  {
   "cell_type": "code",
   "execution_count": 71,
   "metadata": {
    "slideshow": {
     "slide_type": "fragment"
    }
   },
   "outputs": [],
   "source": [
    "ccdSettled = ccd[['PAY_AMT1', 'PAY_AMT2', 'PAY_AMT3', 'PAY_AMT4', 'PAY_AMT5', 'PAY_AMT6']]\n",
    "\n",
    "#using mean for total credit settled\n",
    "ccd['PAY_AMT_MEAN'] = np.int32(ccdSettled.mean(axis = 'columns').round())"
   ]
  },
  {
   "cell_type": "code",
   "execution_count": 72,
   "metadata": {
    "slideshow": {
     "slide_type": "fragment"
    }
   },
   "outputs": [
    {
     "data": {
      "text/plain": [
       "<matplotlib.axes._subplots.AxesSubplot at 0x1d0adce80c8>"
      ]
     },
     "execution_count": 72,
     "metadata": {},
     "output_type": "execute_result"
    },
    {
     "data": {
      "image/png": "[encoded data removed]",
      "text/plain": [
       "<Figure size 432x288 with 2 Axes>"
      ]
     },
     "metadata": {
      "needs_background": "light"
     },
     "output_type": "display_data"
    }
   ],
   "source": [
    "#correlation between this set of similar, historical variables\n",
    "ccdSettledCorrSp = ccdSettled.corr(method='spearman')\n",
    "\n",
    "seaborn.heatmap(data = ccdSettledCorrSp, vmin = 0, vmax = 1)"
   ]
  },
  {
   "cell_type": "code",
   "execution_count": 73,
   "metadata": {
    "slideshow": {
     "slide_type": "fragment"
    }
   },
   "outputs": [
    {
     "data": {
      "text/plain": [
       "<matplotlib.axes._subplots.AxesSubplot at 0x1d0acd96148>"
      ]
     },
     "execution_count": 73,
     "metadata": {},
     "output_type": "execute_result"
    },
    {
     "data": {
      "image/png": "[encoded data removed]",
      "text/plain": [
       "<Figure size 432x288 with 2 Axes>"
      ]
     },
     "metadata": {
      "needs_background": "light"
     },
     "output_type": "display_data"
    }
   ],
   "source": [
    "#correlation between this set of similar, historical variables\n",
    "ccdSettledCorrPr = ccdSettled.corr(method='pearson')\n",
    "\n",
    "seaborn.heatmap(data = ccdSettledCorrPr, vmin = 0, vmax = 1)"
   ]
  },
  {
   "cell_type": "markdown",
   "metadata": {
    "slideshow": {
     "slide_type": "subslide"
    }
   },
   "source": [
    "#### ii> Univariate"
   ]
  },
  {
   "cell_type": "code",
   "execution_count": 74,
   "metadata": {
    "slideshow": {
     "slide_type": "fragment"
    }
   },
   "outputs": [
    {
     "data": {
      "text/plain": [
       "<matplotlib.axes._subplots.AxesSubplot at 0x1d0adcdc608>"
      ]
     },
     "execution_count": 74,
     "metadata": {},
     "output_type": "execute_result"
    },
    {
     "data": {
      "image/png": "[encoded data removed]",
      "text/plain": [
       "<Figure size 432x288 with 1 Axes>"
      ]
     },
     "metadata": {
      "needs_background": "light"
     },
     "output_type": "display_data"
    }
   ],
   "source": [
    "#distribution\n",
    "seaborn.distplot(ccd['PAY_AMT_MEAN'], bins = 300, kde = True, hist = True, rug = True) #bins = 300 because dataframe's size = 30000"
   ]
  },
  {
   "cell_type": "code",
   "execution_count": 75,
   "metadata": {
    "slideshow": {
     "slide_type": "subslide"
    }
   },
   "outputs": [
    {
     "data": {
      "text/plain": [
       "<matplotlib.axes._subplots.AxesSubplot at 0x1d0ae050c88>"
      ]
     },
     "execution_count": 75,
     "metadata": {},
     "output_type": "execute_result"
    },
    {
     "data": {
      "image/png": "[encoded data removed]",
      "text/plain": [
       "<Figure size 432x288 with 1 Axes>"
      ]
     },
     "metadata": {
      "needs_background": "light"
     },
     "output_type": "display_data"
    }
   ],
   "source": [
    "#for outliers\n",
    "seaborn.boxplot(x = 'PAY_AMT_MEAN', data = ccd)"
   ]
  },
  {
   "cell_type": "markdown",
   "metadata": {
    "slideshow": {
     "slide_type": "subslide"
    }
   },
   "source": [
    "#### iii> Bivariate Graphical"
   ]
  },
  {
   "cell_type": "code",
   "execution_count": 76,
   "metadata": {
    "slideshow": {
     "slide_type": "fragment"
    }
   },
   "outputs": [
    {
     "data": {
      "text/plain": [
       "<matplotlib.axes._subplots.AxesSubplot at 0x1d0ace35888>"
      ]
     },
     "execution_count": 76,
     "metadata": {},
     "output_type": "execute_result"
    },
    {
     "data": {
      "image/png": "[encoded data removed]",
      "text/plain": [
       "<Figure size 432x288 with 1 Axes>"
      ]
     },
     "metadata": {
      "needs_background": "light"
     },
     "output_type": "display_data"
    }
   ],
   "source": [
    "#for relation between mean of credit settled and target variable\n",
    "seaborn.violinplot(x = ccd['default_payment_next_month'], y = ccd['PAY_AMT_MEAN'], jitter = 0.4)"
   ]
  },
  {
   "cell_type": "markdown",
   "metadata": {
    "slideshow": {
     "slide_type": "subslide"
    }
   },
   "source": [
    "#### iv> Bivariate Statistical"
   ]
  },
  {
   "cell_type": "code",
   "execution_count": 77,
   "metadata": {
    "slideshow": {
     "slide_type": "fragment"
    }
   },
   "outputs": [
    {
     "data": {
      "text/html": [
       "<div>\n",
       "<style scoped>\n",
       "    .dataframe tbody tr th:only-of-type {\n",
       "        vertical-align: middle;\n",
       "    }\n",
       "\n",
       "    .dataframe tbody tr th {\n",
       "        vertical-align: top;\n",
       "    }\n",
       "\n",
       "    .dataframe thead th {\n",
       "        text-align: right;\n",
       "    }\n",
       "</style>\n",
       "<table border=\"1\" class=\"dataframe\">\n",
       "  <thead>\n",
       "    <tr style=\"text-align: right;\">\n",
       "      <th></th>\n",
       "      <th>mean</th>\n",
       "      <th>median</th>\n",
       "      <th>count_nonzero</th>\n",
       "      <th>std</th>\n",
       "    </tr>\n",
       "    <tr>\n",
       "      <th>default_payment_next_month</th>\n",
       "      <th></th>\n",
       "      <th></th>\n",
       "      <th></th>\n",
       "      <th></th>\n",
       "    </tr>\n",
       "  </thead>\n",
       "  <tbody>\n",
       "    <tr>\n",
       "      <td>False</td>\n",
       "      <td>5828.236518</td>\n",
       "      <td>2754.0</td>\n",
       "      <td>22476</td>\n",
       "      <td>10947.043382</td>\n",
       "    </tr>\n",
       "    <tr>\n",
       "      <td>True</td>\n",
       "      <td>3328.214436</td>\n",
       "      <td>1612.5</td>\n",
       "      <td>6091</td>\n",
       "      <td>6152.608821</td>\n",
       "    </tr>\n",
       "  </tbody>\n",
       "</table>\n",
       "</div>"
      ],
      "text/plain": [
       "                                   mean  median  count_nonzero           std\n",
       "default_payment_next_month                                                  \n",
       "False                       5828.236518  2754.0          22476  10947.043382\n",
       "True                        3328.214436  1612.5           6091   6152.608821"
      ]
     },
     "execution_count": 77,
     "metadata": {},
     "output_type": "execute_result"
    }
   ],
   "source": [
    "ccd.groupby('default_payment_next_month').agg([np.mean, np.median, np.count_nonzero, np.std]).PAY_AMT_MEAN"
   ]
  },
  {
   "cell_type": "markdown",
   "metadata": {
    "slideshow": {
     "slide_type": "subslide"
    }
   },
   "source": [
    "#### iv> b. ANOVA - F One-Way"
   ]
  },
  {
   "cell_type": "code",
   "execution_count": 78,
   "metadata": {
    "slideshow": {
     "slide_type": "fragment"
    }
   },
   "outputs": [
    {
     "data": {
      "text/plain": [
       "F_onewayResult(statistic=317.5991881610729, pvalue=1.118575394978374e-70)"
      ]
     },
     "execution_count": 78,
     "metadata": {},
     "output_type": "execute_result"
    }
   ],
   "source": [
    "f_oneway(ccd['PAY_AMT_MEAN'][ccd['default_payment_next_month'] == True],\n",
    "        ccd['PAY_AMT_MEAN'][ccd['default_payment_next_month'] == False])"
   ]
  },
  {
   "cell_type": "markdown",
   "metadata": {
    "slideshow": {
     "slide_type": "subslide"
    }
   },
   "source": [
    "#### v> Conclusion\n",
    "Expectation - \n",
    "1. High correlation among PAY_AMT{} variables.\n",
    "2. Correlation between credit paying habits of consecutive months will be weaker than that of the months which are far apart.\n",
    "3. Defaulters are more likely to have low PAY_AMT_MEAN. (Individual's weak financial health)\n",
    "\n",
    "Conclusion - \n",
    "1. Positive correlation, but not very strong. [Highest: PAY_AMT1 and PAY_AMT3: 0.51942, Lowest: PAY_AMT1 and PAY_AMT6: 0.455322]. (Correlation Table)\n",
    "2. True, with exception. [PAY_AMT1 and PAY_AMT3: 0.51942, PAY_AMT1 and PAY_AMT2: 0.511614]. (Correlation Table)\n",
    "3. True. (Table 3)\n",
    "4. One-Way ANOVA: p-value being below 0.05, difference between means is statistically significant. There is strong relation between PAY_AMT_MEAN and 'default payment'."
   ]
  },
  {
   "cell_type": "markdown",
   "metadata": {
    "slideshow": {
     "slide_type": "slide"
    }
   },
   "source": [
    "### 3.2.i Correlation between Availing and Paying back Credit"
   ]
  },
  {
   "cell_type": "code",
   "execution_count": 79,
   "metadata": {
    "slideshow": {
     "slide_type": "fragment"
    }
   },
   "outputs": [
    {
     "data": {
      "text/html": [
       "<div>\n",
       "<style scoped>\n",
       "    .dataframe tbody tr th:only-of-type {\n",
       "        vertical-align: middle;\n",
       "    }\n",
       "\n",
       "    .dataframe tbody tr th {\n",
       "        vertical-align: top;\n",
       "    }\n",
       "\n",
       "    .dataframe thead th {\n",
       "        text-align: right;\n",
       "    }\n",
       "</style>\n",
       "<table border=\"1\" class=\"dataframe\">\n",
       "  <thead>\n",
       "    <tr style=\"text-align: right;\">\n",
       "      <th></th>\n",
       "      <th>PAY_AMT_MEAN</th>\n",
       "      <th>BILL_AMT_MEAN</th>\n",
       "    </tr>\n",
       "  </thead>\n",
       "  <tbody>\n",
       "    <tr>\n",
       "      <td>PAY_AMT_MEAN</td>\n",
       "      <td>1.000000</td>\n",
       "      <td>0.597273</td>\n",
       "    </tr>\n",
       "    <tr>\n",
       "      <td>BILL_AMT_MEAN</td>\n",
       "      <td>0.597273</td>\n",
       "      <td>1.000000</td>\n",
       "    </tr>\n",
       "  </tbody>\n",
       "</table>\n",
       "</div>"
      ],
      "text/plain": [
       "               PAY_AMT_MEAN  BILL_AMT_MEAN\n",
       "PAY_AMT_MEAN       1.000000       0.597273\n",
       "BILL_AMT_MEAN      0.597273       1.000000"
      ]
     },
     "execution_count": 79,
     "metadata": {},
     "output_type": "execute_result"
    }
   ],
   "source": [
    "ccdAvailPayback = ccd[['PAY_AMT_MEAN', 'BILL_AMT_MEAN']]\n",
    "ccdAvailPayback.corr(method = 'spearman')"
   ]
  },
  {
   "cell_type": "code",
   "execution_count": 80,
   "metadata": {
    "slideshow": {
     "slide_type": "subslide"
    }
   },
   "outputs": [
    {
     "data": {
      "text/plain": [
       "<seaborn.axisgrid.JointGrid at 0x1d0af2e85c8>"
      ]
     },
     "execution_count": 80,
     "metadata": {},
     "output_type": "execute_result"
    },
    {
     "data": {
      "image/png": "[encoded data removed]",
      "text/plain": [
       "<Figure size 432x432 with 3 Axes>"
      ]
     },
     "metadata": {
      "needs_background": "light"
     },
     "output_type": "display_data"
    }
   ],
   "source": [
    "seaborn.jointplot(x = ccd['PAY_AMT_MEAN'], y = ccd['BILL_AMT_MEAN'], kind = 'scatter')#, hue = 'default payment next month')"
   ]
  },
  {
   "cell_type": "code",
   "execution_count": 81,
   "metadata": {
    "slideshow": {
     "slide_type": "subslide"
    }
   },
   "outputs": [
    {
     "data": {
      "text/plain": [
       "<seaborn.axisgrid.JointGrid at 0x1d0af379e48>"
      ]
     },
     "execution_count": 81,
     "metadata": {},
     "output_type": "execute_result"
    },
    {
     "data": {
      "image/png": "[encoded data removed]",
      "text/plain": [
       "<Figure size 432x432 with 3 Axes>"
      ]
     },
     "metadata": {
      "needs_background": "light"
     },
     "output_type": "display_data"
    }
   ],
   "source": [
    "seaborn.jointplot(x = ccd['PAY_AMT_MEAN'], y = ccd['BILL_AMT_MEAN'], kind = 'kde')#, hue = 'default payment next month')"
   ]
  },
  {
   "cell_type": "markdown",
   "metadata": {
    "slideshow": {
     "slide_type": "subslide"
    }
   },
   "source": [
    "Conclusion - \n",
    "1. The correlation between PAY_AMT_MEAN and BILL_AMT_MEAN is not insignificant (0.597273, Table 1). However for lower defaulter ratio, this correlation should be improved."
   ]
  },
  {
   "cell_type": "markdown",
   "metadata": {
    "slideshow": {
     "slide_type": "slide"
    }
   },
   "source": [
    "### 3.2.j default payment next month\n",
    "Type - Categorical - Nominal\n",
    "\n",
    "Segment - Behavioural - {Target for Classification}\n",
    "\n",
    "Legend - {True, False}"
   ]
  },
  {
   "cell_type": "code",
   "execution_count": 82,
   "metadata": {
    "slideshow": {
     "slide_type": "fragment"
    }
   },
   "outputs": [
    {
     "data": {
      "text/plain": [
       "False    23364\n",
       "True      6636\n",
       "Name: default_payment_next_month, dtype: int64"
      ]
     },
     "execution_count": 82,
     "metadata": {},
     "output_type": "execute_result"
    }
   ],
   "source": [
    "#for dictionary\n",
    "ccd['default_payment_next_month'].value_counts()"
   ]
  },
  {
   "cell_type": "code",
   "execution_count": 83,
   "metadata": {
    "slideshow": {
     "slide_type": "fragment"
    }
   },
   "outputs": [
    {
     "data": {
      "text/plain": [
       "False    77.88%\n",
       "True     22.12%\n",
       "Name: default_payment_next_month, dtype: object"
      ]
     },
     "execution_count": 83,
     "metadata": {},
     "output_type": "execute_result"
    }
   ],
   "source": [
    "ccd['default_payment_next_month'].value_counts(normalize = True).mul(100).round(2).astype('str') + '%'"
   ]
  },
  {
   "cell_type": "markdown",
   "metadata": {
    "slideshow": {
     "slide_type": "subslide"
    }
   },
   "source": [
    "Expectation - \n",
    "1. There will be far less defaulters than on-time payers.\n",
    "\n",
    "Conclusion - \n",
    "1. True. (False: 77.88%, True: 22.12%) (Distribution)\n",
    "\n",
    "Comments - None"
   ]
  },
  {
   "cell_type": "markdown",
   "metadata": {
    "slideshow": {
     "slide_type": "slide"
    }
   },
   "source": [
    "## 3.3 Multivariate Analysis\n",
    "\n",
    "### One-Way MANOVA (Multivariate Analysis of Variance)"
   ]
  },
  {
   "cell_type": "markdown",
   "metadata": {
    "slideshow": {
     "slide_type": "subslide"
    }
   },
   "source": [
    "#### a. For Personality"
   ]
  },
  {
   "cell_type": "code",
   "execution_count": 84,
   "metadata": {
    "slideshow": {
     "slide_type": "fragment"
    }
   },
   "outputs": [],
   "source": [
    "personality = MANOVA.from_formula(formula = 'SEX + EDUCATION + MARRIAGE + AGE ~ default_payment_next_month', data = ccd)"
   ]
  },
  {
   "cell_type": "code",
   "execution_count": 85,
   "metadata": {
    "slideshow": {
     "slide_type": "fragment"
    }
   },
   "outputs": [],
   "source": [
    "personalityTest = personality.mv_test()"
   ]
  },
  {
   "cell_type": "code",
   "execution_count": 86,
   "metadata": {
    "slideshow": {
     "slide_type": "subslide"
    }
   },
   "outputs": [
    {
     "data": {
      "text/html": [
       "<table class=\"simpletable\">\n",
       "<tr>\n",
       "  <td></td> <td></td> <td></td> <td></td>\n",
       "</tr>\n",
       "</table>\n",
       "<table class=\"simpletable\">\n",
       "<tr>\n",
       "  <td></td>        <th>Intercept</th>               <th>Value</th>        <th>Num DF</th>   <th>Den DF</th>           <th>F Value</th>         <th>Pr > F</th>\n",
       "</tr>\n",
       "<tr>\n",
       "  <th></th>      <td>Wilks' lambda</td>            <td>0.0000</td>        <td>9.0000</td> <td>29990.0000</td> <td>968193210213911936.0000</td> <td>0.0000</td>\n",
       "</tr>\n",
       "<tr>\n",
       "  <th></th>     <td>Pillai's trace</td>            <td>1.0000</td>        <td>9.0000</td> <td>29990.0000</td> <td>968193210213911936.0000</td> <td>0.0000</td>\n",
       "</tr>\n",
       "<tr>\n",
       "  <th></th> <td>Hotelling-Lawley trace</td> <td>290554814669063.2500</td> <td>9.0000</td> <td>29990.0000</td> <td>968193210213911936.0000</td> <td>0.0000</td>\n",
       "</tr>\n",
       "<tr>\n",
       "  <th></th>   <td>Roy's greatest root</td>  <td>290554814669063.2500</td> <td>9.0000</td> <td>29990.0000</td> <td>968193210213911808.0000</td> <td>0.0000</td>\n",
       "</tr>\n",
       "</table>\n",
       "<table class=\"simpletable\">\n",
       "<tr>\n",
       "  <td></td> <td></td> <td></td> <td></td>\n",
       "</tr>\n",
       "</table>\n",
       "<table class=\"simpletable\">\n",
       "<tr>\n",
       "  <td></td> <th>default_payment_next_month</th>  <th>Value</th> <th>Num DF</th>   <th>Den DF</th>   <th>F Value</th> <th>Pr > F</th>\n",
       "</tr>\n",
       "<tr>\n",
       "  <th></th>        <td>Wilks' lambda</td>       <td>0.9921</td> <td>8.0000</td> <td>29991.0000</td> <td>29.7609</td> <td>0.0000</td>\n",
       "</tr>\n",
       "<tr>\n",
       "  <th></th>       <td>Pillai's trace</td>       <td>0.0079</td> <td>8.0000</td> <td>29991.0000</td> <td>29.7609</td> <td>0.0000</td>\n",
       "</tr>\n",
       "<tr>\n",
       "  <th></th>   <td>Hotelling-Lawley trace</td>   <td>0.0079</td> <td>8.0000</td> <td>29991.0000</td> <td>29.7609</td> <td>0.0000</td>\n",
       "</tr>\n",
       "<tr>\n",
       "  <th></th>     <td>Roy's greatest root</td>    <td>0.0079</td> <td>8.0000</td> <td>29991.0000</td> <td>29.7609</td> <td>0.0000</td>\n",
       "</tr>\n",
       "</table>"
      ],
      "text/plain": [
       "<class 'statsmodels.iolib.summary2.Summary'>\n",
       "\"\"\"\n",
       "                                  Multivariate linear model\n",
       "=============================================================================================\n",
       "                                                                                             \n",
       "---------------------------------------------------------------------------------------------\n",
       "       Intercept               Value         Num DF   Den DF           F Value         Pr > F\n",
       "---------------------------------------------------------------------------------------------\n",
       "          Wilks' lambda               0.0000 9.0000 29990.0000 968193210213911936.0000 0.0000\n",
       "         Pillai's trace               1.0000 9.0000 29990.0000 968193210213911936.0000 0.0000\n",
       " Hotelling-Lawley trace 290554814669063.2500 9.0000 29990.0000 968193210213911936.0000 0.0000\n",
       "    Roy's greatest root 290554814669063.2500 9.0000 29990.0000 968193210213911808.0000 0.0000\n",
       "---------------------------------------------------------------------------------------------\n",
       "                                                                                             \n",
       "--------------------------------------------------------------------------------------------------\n",
       "       default_payment_next_month      Value       Num DF        Den DF        F Value      Pr > F\n",
       "--------------------------------------------------------------------------------------------------\n",
       "                    Wilks' lambda      0.9921      8.0000      29991.0000      29.7609      0.0000\n",
       "                   Pillai's trace      0.0079      8.0000      29991.0000      29.7609      0.0000\n",
       "           Hotelling-Lawley trace      0.0079      8.0000      29991.0000      29.7609      0.0000\n",
       "              Roy's greatest root      0.0079      8.0000      29991.0000      29.7609      0.0000\n",
       "=============================================================================================\n",
       "\n",
       "\"\"\""
      ]
     },
     "execution_count": 86,
     "metadata": {},
     "output_type": "execute_result"
    }
   ],
   "source": [
    "personalityTest.summary()"
   ]
  },
  {
   "cell_type": "markdown",
   "metadata": {
    "slideshow": {
     "slide_type": "fragment"
    }
   },
   "source": [
    "#### Conclusion:\n",
    "\n",
    "Pillai's trace for target variable being 0.0079, personality traits are insignificant in predicting 'default_payment'."
   ]
  },
  {
   "cell_type": "markdown",
   "metadata": {
    "slideshow": {
     "slide_type": "subslide"
    }
   },
   "source": [
    "#### b. For Financial habits"
   ]
  },
  {
   "cell_type": "code",
   "execution_count": 87,
   "metadata": {
    "slideshow": {
     "slide_type": "fragment"
    }
   },
   "outputs": [],
   "source": [
    "financialHabits = MANOVA.from_formula(formula = 'LIMIT_BAL + PAY_MODE_SEVEREST + BILL_AMT_MEAN + PAY_AMT_MEAN ~ default_payment_next_month', data = ccd)"
   ]
  },
  {
   "cell_type": "code",
   "execution_count": 88,
   "metadata": {
    "slideshow": {
     "slide_type": "fragment"
    }
   },
   "outputs": [],
   "source": [
    "financialHabitsTest = financialHabits.mv_test()"
   ]
  },
  {
   "cell_type": "code",
   "execution_count": 89,
   "metadata": {
    "slideshow": {
     "slide_type": "subslide"
    }
   },
   "outputs": [
    {
     "data": {
      "text/html": [
       "<table class=\"simpletable\">\n",
       "<tr>\n",
       "  <td></td> <td></td> <td></td> <td></td>\n",
       "</tr>\n",
       "</table>\n",
       "<table class=\"simpletable\">\n",
       "<tr>\n",
       "  <td></td>        <th>Intercept</th>               <th>Value</th>        <th>Num DF</th>    <th>Den DF</th>            <th>F Value</th>         <th>Pr > F</th>\n",
       "</tr>\n",
       "<tr>\n",
       "  <th></th>      <td>Wilks' lambda</td>            <td>0.0000</td>        <td>14.0000</td> <td>29985.0000</td> <td>1205718168095572224.0000</td> <td>0.0000</td>\n",
       "</tr>\n",
       "<tr>\n",
       "  <th></th>     <td>Pillai's trace</td>            <td>1.0000</td>        <td>14.0000</td> <td>29985.0000</td> <td>1205718168095572224.0000</td> <td>0.0000</td>\n",
       "</tr>\n",
       "<tr>\n",
       "  <th></th> <td>Hotelling-Lawley trace</td> <td>562949953421311.0000</td> <td>14.0000</td> <td>29985.0000</td> <td>1205718168095572224.0000</td> <td>0.0000</td>\n",
       "</tr>\n",
       "<tr>\n",
       "  <th></th>   <td>Roy's greatest root</td>  <td>562949953421311.0000</td> <td>14.0000</td> <td>29985.0000</td> <td>1205718168095572224.0000</td> <td>0.0000</td>\n",
       "</tr>\n",
       "</table>\n",
       "<table class=\"simpletable\">\n",
       "<tr>\n",
       "  <td></td> <td></td> <td></td> <td></td>\n",
       "</tr>\n",
       "</table>\n",
       "<table class=\"simpletable\">\n",
       "<tr>\n",
       "  <td></td> <th>default_payment_next_month</th>  <th>Value</th> <th>Num DF</th>    <th>Den DF</th>    <th>F Value</th> <th>Pr > F</th>\n",
       "</tr>\n",
       "<tr>\n",
       "  <th></th>        <td>Wilks' lambda</td>       <td>0.8740</td> <td>13.0000</td> <td>29986.0000</td> <td>332.6759</td> <td>0.0000</td>\n",
       "</tr>\n",
       "<tr>\n",
       "  <th></th>       <td>Pillai's trace</td>       <td>0.1261</td> <td>13.0000</td> <td>29986.0000</td> <td>332.7059</td> <td>0.0000</td>\n",
       "</tr>\n",
       "<tr>\n",
       "  <th></th>   <td>Hotelling-Lawley trace</td>   <td>0.1442</td> <td>13.0000</td> <td>29986.0000</td> <td>332.6497</td> <td>0.0000</td>\n",
       "</tr>\n",
       "<tr>\n",
       "  <th></th>     <td>Roy's greatest root</td>    <td>0.1441</td> <td>13.0000</td> <td>29986.0000</td> <td>332.4680</td> <td>0.0000</td>\n",
       "</tr>\n",
       "</table>"
      ],
      "text/plain": [
       "<class 'statsmodels.iolib.summary2.Summary'>\n",
       "\"\"\"\n",
       "                                   Multivariate linear model\n",
       "===============================================================================================\n",
       "                                                                                               \n",
       "-----------------------------------------------------------------------------------------------\n",
       "       Intercept               Value          Num DF   Den DF           F Value          Pr > F\n",
       "-----------------------------------------------------------------------------------------------\n",
       "          Wilks' lambda               0.0000 14.0000 29985.0000 1205718168095572224.0000 0.0000\n",
       "         Pillai's trace               1.0000 14.0000 29985.0000 1205718168095572224.0000 0.0000\n",
       " Hotelling-Lawley trace 562949953421311.0000 14.0000 29985.0000 1205718168095572224.0000 0.0000\n",
       "    Roy's greatest root 562949953421311.0000 14.0000 29985.0000 1205718168095572224.0000 0.0000\n",
       "-----------------------------------------------------------------------------------------------\n",
       "                                                                                               \n",
       "----------------------------------------------------------------------------------------------------\n",
       "       default_payment_next_month      Value        Num DF        Den DF        F Value       Pr > F\n",
       "----------------------------------------------------------------------------------------------------\n",
       "                    Wilks' lambda      0.8740      13.0000      29986.0000      332.6759      0.0000\n",
       "                   Pillai's trace      0.1261      13.0000      29986.0000      332.7059      0.0000\n",
       "           Hotelling-Lawley trace      0.1442      13.0000      29986.0000      332.6497      0.0000\n",
       "              Roy's greatest root      0.1441      13.0000      29986.0000      332.4680      0.0000\n",
       "===============================================================================================\n",
       "\n",
       "\"\"\""
      ]
     },
     "execution_count": 89,
     "metadata": {},
     "output_type": "execute_result"
    }
   ],
   "source": [
    "financialHabitsTest.summary()"
   ]
  },
  {
   "cell_type": "markdown",
   "metadata": {
    "slideshow": {
     "slide_type": "fragment"
    }
   },
   "source": [
    "Conclusion: \n",
    "\n",
    "Pillai's trace for target variable being 0.1261, financial habits are significant in predicting 'default_payment' to some degree, but not very significant."
   ]
  },
  {
   "cell_type": "markdown",
   "metadata": {
    "slideshow": {
     "slide_type": "subslide"
    }
   },
   "source": [
    "#### c. Using highly skewed variables"
   ]
  },
  {
   "cell_type": "code",
   "execution_count": 90,
   "metadata": {
    "slideshow": {
     "slide_type": "fragment"
    }
   },
   "outputs": [],
   "source": [
    "skewedVars = MANOVA.from_formula(formula = 'LIMIT_BAL + AGE + PAY_AMT_MEAN + BILL_AMT_MEAN + PAY_MODE_SEVEREST ~ default_payment_next_month', data = ccd)"
   ]
  },
  {
   "cell_type": "code",
   "execution_count": 91,
   "metadata": {
    "slideshow": {
     "slide_type": "fragment"
    }
   },
   "outputs": [],
   "source": [
    "skewedVarsTest = skewedVars.mv_test()"
   ]
  },
  {
   "cell_type": "code",
   "execution_count": 92,
   "metadata": {
    "slideshow": {
     "slide_type": "subslide"
    }
   },
   "outputs": [
    {
     "data": {
      "text/html": [
       "<table class=\"simpletable\">\n",
       "<tr>\n",
       "  <td></td> <td></td> <td></td> <td></td>\n",
       "</tr>\n",
       "</table>\n",
       "<table class=\"simpletable\">\n",
       "<tr>\n",
       "  <td></td>        <th>Intercept</th>               <th>Value</th>         <th>Num DF</th>    <th>Den DF</th>            <th>F Value</th>         <th>Pr > F</th>\n",
       "</tr>\n",
       "<tr>\n",
       "  <th></th>      <td>Wilks' lambda</td>            <td>0.0000</td>         <td>15.0000</td> <td>29984.0000</td> <td>2000532314475212032.0000</td> <td>0.0000</td>\n",
       "</tr>\n",
       "<tr>\n",
       "  <th></th>     <td>Pillai's trace</td>            <td>1.0000</td>         <td>15.0000</td> <td>29984.0000</td> <td>2000532314475212032.0000</td> <td>0.0000</td>\n",
       "</tr>\n",
       "<tr>\n",
       "  <th></th> <td>Hotelling-Lawley trace</td> <td>1000799917193442.5000</td> <td>15.0000</td> <td>29984.0000</td> <td>2000532314475212032.0000</td> <td>0.0000</td>\n",
       "</tr>\n",
       "<tr>\n",
       "  <th></th>   <td>Roy's greatest root</td>  <td>1000799917193442.5000</td> <td>15.0000</td> <td>29984.0000</td> <td>2000532314475212032.0000</td> <td>0.0000</td>\n",
       "</tr>\n",
       "</table>\n",
       "<table class=\"simpletable\">\n",
       "<tr>\n",
       "  <td></td> <td></td> <td></td> <td></td>\n",
       "</tr>\n",
       "</table>\n",
       "<table class=\"simpletable\">\n",
       "<tr>\n",
       "  <td></td> <th>default_payment_next_month</th>  <th>Value</th> <th>Num DF</th>    <th>Den DF</th>    <th>F Value</th> <th>Pr > F</th>\n",
       "</tr>\n",
       "<tr>\n",
       "  <th></th>        <td>Wilks' lambda</td>       <td>0.8727</td> <td>14.0000</td> <td>29985.0000</td> <td>312.4579</td> <td>0.0000</td>\n",
       "</tr>\n",
       "<tr>\n",
       "  <th></th>       <td>Pillai's trace</td>       <td>0.1274</td> <td>14.0000</td> <td>29985.0000</td> <td>312.6844</td> <td>0.0000</td>\n",
       "</tr>\n",
       "<tr>\n",
       "  <th></th>   <td>Hotelling-Lawley trace</td>   <td>0.1458</td> <td>14.0000</td> <td>29985.0000</td> <td>312.2602</td> <td>0.0000</td>\n",
       "</tr>\n",
       "<tr>\n",
       "  <th></th>     <td>Roy's greatest root</td>    <td>0.1452</td> <td>14.0000</td> <td>29985.0000</td> <td>310.8984</td> <td>0.0000</td>\n",
       "</tr>\n",
       "</table>"
      ],
      "text/plain": [
       "<class 'statsmodels.iolib.summary2.Summary'>\n",
       "\"\"\"\n",
       "                                   Multivariate linear model\n",
       "================================================================================================\n",
       "                                                                                                \n",
       "------------------------------------------------------------------------------------------------\n",
       "       Intercept                Value          Num DF   Den DF           F Value          Pr > F\n",
       "------------------------------------------------------------------------------------------------\n",
       "          Wilks' lambda                0.0000 15.0000 29984.0000 2000532314475212032.0000 0.0000\n",
       "         Pillai's trace                1.0000 15.0000 29984.0000 2000532314475212032.0000 0.0000\n",
       " Hotelling-Lawley trace 1000799917193442.5000 15.0000 29984.0000 2000532314475212032.0000 0.0000\n",
       "    Roy's greatest root 1000799917193442.5000 15.0000 29984.0000 2000532314475212032.0000 0.0000\n",
       "------------------------------------------------------------------------------------------------\n",
       "                                                                                                \n",
       "-----------------------------------------------------------------------------------------------------\n",
       "        default_payment_next_month      Value        Num DF        Den DF        F Value       Pr > F\n",
       "-----------------------------------------------------------------------------------------------------\n",
       "                     Wilks' lambda      0.8727      14.0000      29985.0000      312.4579      0.0000\n",
       "                    Pillai's trace      0.1274      14.0000      29985.0000      312.6844      0.0000\n",
       "            Hotelling-Lawley trace      0.1458      14.0000      29985.0000      312.2602      0.0000\n",
       "               Roy's greatest root      0.1452      14.0000      29985.0000      310.8984      0.0000\n",
       "================================================================================================\n",
       "\n",
       "\"\"\""
      ]
     },
     "execution_count": 92,
     "metadata": {},
     "output_type": "execute_result"
    }
   ],
   "source": [
    "skewedVarsTest.summary()"
   ]
  },
  {
   "cell_type": "markdown",
   "metadata": {
    "slideshow": {
     "slide_type": "fragment"
    }
   },
   "source": [
    "Conclusion: \n",
    "\n",
    "Pillai's trace for target variable being 0.1274, highly skewed variables are significant in predicting 'default_payment' to some degree, but not very significant."
   ]
  }
 ],
 "metadata": {
  "kernelspec": {
   "display_name": "Python 3",
   "language": "python",
   "name": "python3"
  },
  "language_info": {
   "codemirror_mode": {
    "name": "ipython",
    "version": 3
   },
   "file_extension": ".py",
   "mimetype": "text/x-python",
   "name": "python",
   "nbconvert_exporter": "python",
   "pygments_lexer": "ipython3",
   "version": "3.7.4"
  }
 },
 "nbformat": 4,
 "nbformat_minor": 4
}
