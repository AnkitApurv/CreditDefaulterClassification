{
 "cells": [
  {
   "cell_type": "markdown",
   "metadata": {
    "slideshow": {
     "slide_type": "slide"
    }
   },
   "source": [
    "# Extract, Transform, Load"
   ]
  },
  {
   "cell_type": "markdown",
   "metadata": {
    "slideshow": {
     "slide_type": "slide"
    }
   },
   "source": [
    "# 1. Libraries"
   ]
  },
  {
   "cell_type": "code",
   "execution_count": 1,
   "metadata": {
    "slideshow": {
     "slide_type": "fragment"
    }
   },
   "outputs": [],
   "source": [
    "#data organizing\n",
    "import pandas #storage\n",
    "import numpy as np #data-type conversion\n",
    "from os import getcwd\n",
    "\n",
    "#splitting the dataset - simple method\n",
    "from sklearn.model_selection import train_test_split"
   ]
  },
  {
   "cell_type": "markdown",
   "metadata": {
    "slideshow": {
     "slide_type": "slide"
    }
   },
   "source": [
    "# 2. Dataset - Importing"
   ]
  },
  {
   "cell_type": "code",
   "execution_count": 2,
   "metadata": {
    "slideshow": {
     "slide_type": "subslide"
    }
   },
   "outputs": [],
   "source": [
    "def cvSex(sex):\n",
    "    mapper = {1: 'Male', 2: 'Female'}\n",
    "    return mapper.get(sex)\n",
    "\n",
    "def cvEducation(education):\n",
    "    mapper = {1: 'Graduate', 2: 'University', 3: 'High School', 4: 'Others'}\n",
    "    return mapper.get(education, 'Others') #takes care of cases 0, 5 and 6\n",
    "\n",
    "def cvMarriage(marriage):\n",
    "    mapper = {1: 'Married', 2: 'Single', 3: 'Divorced', 4: 'Others'}\n",
    "    return mapper.get(marriage, 'Others') #takes care of 54 entries\n",
    "\n",
    "def cvPayHistory(payHistory):\n",
    "    mapper = {-2: 'No Credit Use', -1: 'Paid in Full', 0: 'Revolving Credit Used', 1: 'Delay 1 of month', 2: 'Delay 2 of months', 3: 'Delay 3 of months', 4: 'Delay 4 of months', 5: 'Delay 5 of months', 6: 'Delay 6 of months', 7: 'Delay 7 of months', 8: 'Delay 8 of months', 9: 'Delay 9 of months OR more'}\n",
    "    return mapper.get(payHistory)\n",
    "\n",
    "\n",
    "def cvDefPay(prediction):\n",
    "    mapper = {0: False, 1: True}\n",
    "    return mapper.get(prediction)"
   ]
  },
  {
   "cell_type": "code",
   "execution_count": 3,
   "metadata": {
    "slideshow": {
     "slide_type": "subslide"
    }
   },
   "outputs": [],
   "source": [
    "#BILL_AMT1 to PAY_AMT6 should NOT have 0 replaced with NAN\n",
    "#dtype changed from int64 to int32 to save space and speed up computation, no data was lost\n",
    "url = getcwd() + '\\\\default of credit card clients.xls'\n",
    "ccd = pandas.read_excel(io = url, \\\n",
    "                        sheet_name='Data', header = 1, index_col = 0, \\\n",
    "                        dtype = {'LIMIT_BAL': np.int32, 'AGE': np.int32, 'BILL_AMT1': np.int32, 'BILL_AMT2': np.int32, 'BILL_AMT3': np.int32, 'BILL_AMT4': np.int32, 'BILL_AMT5': np.int32, 'BILL_AMT6': np.int32, 'PAY_AMT1': np.int32, 'PAY_AMT2': np.int32, 'PAY_AMT3': np.int32, 'PAY_AMT4': np.int32, 'PAY_AMT5': np.int32, 'PAY_AMT6': np.int32}, \\\n",
    "                        converters = {'SEX': cvSex, 'EDUCATION': cvEducation, 'MARRIAGE': cvMarriage, 'default payment next month': cvDefPay, 'PAY_0': cvPayHistory, 'PAY_2': cvPayHistory, 'PAY_3': cvPayHistory, 'PAY_4': cvPayHistory, 'PAY_5': cvPayHistory, 'PAY_6': cvPayHistory,})"
   ]
  },
  {
   "cell_type": "code",
   "execution_count": 4,
   "metadata": {
    "slideshow": {
     "slide_type": "fragment"
    }
   },
   "outputs": [],
   "source": [
    "ccd.rename(columns = {'PAY_0': 'PAY_1'}, inplace = True)\n",
    "ccd.rename(columns = {'default payment next month': 'default_payment_next_month'}, inplace = True)"
   ]
  },
  {
   "cell_type": "markdown",
   "metadata": {
    "slideshow": {
     "slide_type": "slide"
    }
   },
   "source": [
    "# 3. Feature Engineering"
   ]
  },
  {
   "cell_type": "markdown",
   "metadata": {
    "slideshow": {
     "slide_type": "subslide"
    }
   },
   "source": [
    "## 3.1. PAY {PAY_1 to PAY_6}\n",
    "\n",
    "1. Using mode to aggregate. An entry may have mutiple mode values (same frequency), to resolve, using severest class.\n",
    "\n",
    "2. Why severest value? To ensure fiscally fit population of credit users."
   ]
  },
  {
   "cell_type": "code",
   "execution_count": 5,
   "metadata": {
    "slideshow": {
     "slide_type": "fragment"
    }
   },
   "outputs": [],
   "source": [
    "ccdr = pandas.read_excel(io = url, \n",
    "                        sheet_name='Data', header = 1, index_col = 0)\n",
    "ccdr.rename(columns = {'PAY_0': 'PAY_1'}, inplace = True)"
   ]
  },
  {
   "cell_type": "code",
   "execution_count": 6,
   "metadata": {
    "slideshow": {
     "slide_type": "fragment"
    }
   },
   "outputs": [],
   "source": [
    "ccdrHistory = ccdr[['PAY_1', 'PAY_2', 'PAY_3', 'PAY_4', 'PAY_5', 'PAY_6']]"
   ]
  },
  {
   "cell_type": "code",
   "execution_count": 7,
   "metadata": {
    "slideshow": {
     "slide_type": "fragment"
    }
   },
   "outputs": [],
   "source": [
    "ccdrHistoryMode = ccdrHistory.mode(axis = 'columns')\n",
    "ccdrHistorySeverest = ccdrHistoryMode.apply(func = max, axis = 'columns')\n",
    "ccdPayHistoryMode = map(cvPayHistory, ccdrHistorySeverest)"
   ]
  },
  {
   "cell_type": "code",
   "execution_count": 8,
   "metadata": {
    "slideshow": {
     "slide_type": "fragment"
    }
   },
   "outputs": [],
   "source": [
    "ccd['PAY_MODE_SEVEREST'] = list(ccdPayHistoryMode)"
   ]
  },
  {
   "cell_type": "markdown",
   "metadata": {
    "slideshow": {
     "slide_type": "subslide"
    }
   },
   "source": [
    "## 3.2. BILL_AMT {BILL_AMT1 to BILL_AMT6}\n",
    "\n",
    "Using mean for total credit used"
   ]
  },
  {
   "cell_type": "code",
   "execution_count": 9,
   "metadata": {
    "slideshow": {
     "slide_type": "fragment"
    }
   },
   "outputs": [],
   "source": [
    "ccdSpent = ccd[['BILL_AMT1', 'BILL_AMT2', 'BILL_AMT3', 'BILL_AMT4', 'BILL_AMT5', 'BILL_AMT6']]"
   ]
  },
  {
   "cell_type": "code",
   "execution_count": 10,
   "metadata": {
    "slideshow": {
     "slide_type": "fragment"
    }
   },
   "outputs": [],
   "source": [
    "ccd['BILL_AMT_MEAN'] = np.int32(ccdSpent.mean(axis = 'columns').round())"
   ]
  },
  {
   "cell_type": "markdown",
   "metadata": {
    "slideshow": {
     "slide_type": "subslide"
    }
   },
   "source": [
    "## 3.3. PAY_AMT {PAY_AMT1 to PAY_AMT6}\n",
    "\n",
    "Using mean for total credit settled"
   ]
  },
  {
   "cell_type": "code",
   "execution_count": 11,
   "metadata": {
    "slideshow": {
     "slide_type": "fragment"
    }
   },
   "outputs": [],
   "source": [
    "ccdSettled = ccd[['PAY_AMT1', 'PAY_AMT2', 'PAY_AMT3', 'PAY_AMT4', 'PAY_AMT5', 'PAY_AMT6']]"
   ]
  },
  {
   "cell_type": "code",
   "execution_count": 12,
   "metadata": {
    "slideshow": {
     "slide_type": "fragment"
    }
   },
   "outputs": [],
   "source": [
    "ccd['PAY_AMT_MEAN'] = np.int32(ccdSettled.mean(axis = 'columns').round())"
   ]
  },
  {
   "cell_type": "markdown",
   "metadata": {
    "slideshow": {
     "slide_type": "slide"
    }
   },
   "source": [
    "# 4. Splitting Dataset"
   ]
  },
  {
   "cell_type": "code",
   "execution_count": 13,
   "metadata": {
    "slideshow": {
     "slide_type": "fragment"
    }
   },
   "outputs": [],
   "source": [
    "ccdY = ccd['default_payment_next_month']\n",
    "ccdX = ccd.drop(['default_payment_next_month'], axis = 'columns')"
   ]
  },
  {
   "cell_type": "code",
   "execution_count": 14,
   "metadata": {
    "slideshow": {
     "slide_type": "fragment"
    }
   },
   "outputs": [],
   "source": [
    "trainX, testX, trainY, testY = train_test_split(ccdX, ccdY, test_size = 0.25, random_state = 44)"
   ]
  },
  {
   "cell_type": "code",
   "execution_count": 15,
   "metadata": {},
   "outputs": [
    {
     "data": {
      "text/html": [
       "<div>\n",
       "<style scoped>\n",
       "    .dataframe tbody tr th:only-of-type {\n",
       "        vertical-align: middle;\n",
       "    }\n",
       "\n",
       "    .dataframe tbody tr th {\n",
       "        vertical-align: top;\n",
       "    }\n",
       "\n",
       "    .dataframe thead th {\n",
       "        text-align: right;\n",
       "    }\n",
       "</style>\n",
       "<table border=\"1\" class=\"dataframe\">\n",
       "  <thead>\n",
       "    <tr style=\"text-align: right;\">\n",
       "      <th></th>\n",
       "      <th>LIMIT_BAL</th>\n",
       "      <th>SEX</th>\n",
       "      <th>EDUCATION</th>\n",
       "      <th>MARRIAGE</th>\n",
       "      <th>AGE</th>\n",
       "      <th>PAY_1</th>\n",
       "      <th>PAY_2</th>\n",
       "      <th>PAY_3</th>\n",
       "      <th>PAY_4</th>\n",
       "      <th>PAY_5</th>\n",
       "      <th>...</th>\n",
       "      <th>PAY_AMT1</th>\n",
       "      <th>PAY_AMT2</th>\n",
       "      <th>PAY_AMT3</th>\n",
       "      <th>PAY_AMT4</th>\n",
       "      <th>PAY_AMT5</th>\n",
       "      <th>PAY_AMT6</th>\n",
       "      <th>default_payment_next_month</th>\n",
       "      <th>PAY_MODE_SEVEREST</th>\n",
       "      <th>BILL_AMT_MEAN</th>\n",
       "      <th>PAY_AMT_MEAN</th>\n",
       "    </tr>\n",
       "    <tr>\n",
       "      <th>ID</th>\n",
       "      <th></th>\n",
       "      <th></th>\n",
       "      <th></th>\n",
       "      <th></th>\n",
       "      <th></th>\n",
       "      <th></th>\n",
       "      <th></th>\n",
       "      <th></th>\n",
       "      <th></th>\n",
       "      <th></th>\n",
       "      <th></th>\n",
       "      <th></th>\n",
       "      <th></th>\n",
       "      <th></th>\n",
       "      <th></th>\n",
       "      <th></th>\n",
       "      <th></th>\n",
       "      <th></th>\n",
       "      <th></th>\n",
       "      <th></th>\n",
       "      <th></th>\n",
       "    </tr>\n",
       "  </thead>\n",
       "  <tbody>\n",
       "    <tr>\n",
       "      <th>1</th>\n",
       "      <td>20000</td>\n",
       "      <td>Female</td>\n",
       "      <td>University</td>\n",
       "      <td>Married</td>\n",
       "      <td>24</td>\n",
       "      <td>Delay 2 of months</td>\n",
       "      <td>Delay 2 of months</td>\n",
       "      <td>Paid in Full</td>\n",
       "      <td>Paid in Full</td>\n",
       "      <td>No Credit Use</td>\n",
       "      <td>...</td>\n",
       "      <td>0</td>\n",
       "      <td>689</td>\n",
       "      <td>0</td>\n",
       "      <td>0</td>\n",
       "      <td>0</td>\n",
       "      <td>0</td>\n",
       "      <td>True</td>\n",
       "      <td>Delay 2 of months</td>\n",
       "      <td>1284</td>\n",
       "      <td>115</td>\n",
       "    </tr>\n",
       "    <tr>\n",
       "      <th>2</th>\n",
       "      <td>120000</td>\n",
       "      <td>Female</td>\n",
       "      <td>University</td>\n",
       "      <td>Single</td>\n",
       "      <td>26</td>\n",
       "      <td>Paid in Full</td>\n",
       "      <td>Delay 2 of months</td>\n",
       "      <td>Revolving Credit Used</td>\n",
       "      <td>Revolving Credit Used</td>\n",
       "      <td>Revolving Credit Used</td>\n",
       "      <td>...</td>\n",
       "      <td>0</td>\n",
       "      <td>1000</td>\n",
       "      <td>1000</td>\n",
       "      <td>1000</td>\n",
       "      <td>0</td>\n",
       "      <td>2000</td>\n",
       "      <td>True</td>\n",
       "      <td>Revolving Credit Used</td>\n",
       "      <td>2846</td>\n",
       "      <td>833</td>\n",
       "    </tr>\n",
       "    <tr>\n",
       "      <th>3</th>\n",
       "      <td>90000</td>\n",
       "      <td>Female</td>\n",
       "      <td>University</td>\n",
       "      <td>Single</td>\n",
       "      <td>34</td>\n",
       "      <td>Revolving Credit Used</td>\n",
       "      <td>Revolving Credit Used</td>\n",
       "      <td>Revolving Credit Used</td>\n",
       "      <td>Revolving Credit Used</td>\n",
       "      <td>Revolving Credit Used</td>\n",
       "      <td>...</td>\n",
       "      <td>1518</td>\n",
       "      <td>1500</td>\n",
       "      <td>1000</td>\n",
       "      <td>1000</td>\n",
       "      <td>1000</td>\n",
       "      <td>5000</td>\n",
       "      <td>False</td>\n",
       "      <td>Revolving Credit Used</td>\n",
       "      <td>16942</td>\n",
       "      <td>1836</td>\n",
       "    </tr>\n",
       "    <tr>\n",
       "      <th>4</th>\n",
       "      <td>50000</td>\n",
       "      <td>Female</td>\n",
       "      <td>University</td>\n",
       "      <td>Married</td>\n",
       "      <td>37</td>\n",
       "      <td>Revolving Credit Used</td>\n",
       "      <td>Revolving Credit Used</td>\n",
       "      <td>Revolving Credit Used</td>\n",
       "      <td>Revolving Credit Used</td>\n",
       "      <td>Revolving Credit Used</td>\n",
       "      <td>...</td>\n",
       "      <td>2000</td>\n",
       "      <td>2019</td>\n",
       "      <td>1200</td>\n",
       "      <td>1100</td>\n",
       "      <td>1069</td>\n",
       "      <td>1000</td>\n",
       "      <td>False</td>\n",
       "      <td>Revolving Credit Used</td>\n",
       "      <td>38556</td>\n",
       "      <td>1398</td>\n",
       "    </tr>\n",
       "    <tr>\n",
       "      <th>5</th>\n",
       "      <td>50000</td>\n",
       "      <td>Male</td>\n",
       "      <td>University</td>\n",
       "      <td>Married</td>\n",
       "      <td>57</td>\n",
       "      <td>Paid in Full</td>\n",
       "      <td>Revolving Credit Used</td>\n",
       "      <td>Paid in Full</td>\n",
       "      <td>Revolving Credit Used</td>\n",
       "      <td>Revolving Credit Used</td>\n",
       "      <td>...</td>\n",
       "      <td>2000</td>\n",
       "      <td>36681</td>\n",
       "      <td>10000</td>\n",
       "      <td>9000</td>\n",
       "      <td>689</td>\n",
       "      <td>679</td>\n",
       "      <td>False</td>\n",
       "      <td>Revolving Credit Used</td>\n",
       "      <td>18223</td>\n",
       "      <td>9842</td>\n",
       "    </tr>\n",
       "    <tr>\n",
       "      <th>...</th>\n",
       "      <td>...</td>\n",
       "      <td>...</td>\n",
       "      <td>...</td>\n",
       "      <td>...</td>\n",
       "      <td>...</td>\n",
       "      <td>...</td>\n",
       "      <td>...</td>\n",
       "      <td>...</td>\n",
       "      <td>...</td>\n",
       "      <td>...</td>\n",
       "      <td>...</td>\n",
       "      <td>...</td>\n",
       "      <td>...</td>\n",
       "      <td>...</td>\n",
       "      <td>...</td>\n",
       "      <td>...</td>\n",
       "      <td>...</td>\n",
       "      <td>...</td>\n",
       "      <td>...</td>\n",
       "      <td>...</td>\n",
       "      <td>...</td>\n",
       "    </tr>\n",
       "    <tr>\n",
       "      <th>29996</th>\n",
       "      <td>220000</td>\n",
       "      <td>Male</td>\n",
       "      <td>High School</td>\n",
       "      <td>Married</td>\n",
       "      <td>39</td>\n",
       "      <td>Revolving Credit Used</td>\n",
       "      <td>Revolving Credit Used</td>\n",
       "      <td>Revolving Credit Used</td>\n",
       "      <td>Revolving Credit Used</td>\n",
       "      <td>Revolving Credit Used</td>\n",
       "      <td>...</td>\n",
       "      <td>8500</td>\n",
       "      <td>20000</td>\n",
       "      <td>5003</td>\n",
       "      <td>3047</td>\n",
       "      <td>5000</td>\n",
       "      <td>1000</td>\n",
       "      <td>False</td>\n",
       "      <td>Revolving Credit Used</td>\n",
       "      <td>120892</td>\n",
       "      <td>7092</td>\n",
       "    </tr>\n",
       "    <tr>\n",
       "      <th>29997</th>\n",
       "      <td>150000</td>\n",
       "      <td>Male</td>\n",
       "      <td>High School</td>\n",
       "      <td>Single</td>\n",
       "      <td>43</td>\n",
       "      <td>Paid in Full</td>\n",
       "      <td>Paid in Full</td>\n",
       "      <td>Paid in Full</td>\n",
       "      <td>Paid in Full</td>\n",
       "      <td>Revolving Credit Used</td>\n",
       "      <td>...</td>\n",
       "      <td>1837</td>\n",
       "      <td>3526</td>\n",
       "      <td>8998</td>\n",
       "      <td>129</td>\n",
       "      <td>0</td>\n",
       "      <td>0</td>\n",
       "      <td>False</td>\n",
       "      <td>Paid in Full</td>\n",
       "      <td>3530</td>\n",
       "      <td>2415</td>\n",
       "    </tr>\n",
       "    <tr>\n",
       "      <th>29998</th>\n",
       "      <td>30000</td>\n",
       "      <td>Male</td>\n",
       "      <td>University</td>\n",
       "      <td>Single</td>\n",
       "      <td>37</td>\n",
       "      <td>Delay 4 of months</td>\n",
       "      <td>Delay 3 of months</td>\n",
       "      <td>Delay 2 of months</td>\n",
       "      <td>Paid in Full</td>\n",
       "      <td>Revolving Credit Used</td>\n",
       "      <td>...</td>\n",
       "      <td>0</td>\n",
       "      <td>0</td>\n",
       "      <td>22000</td>\n",
       "      <td>4200</td>\n",
       "      <td>2000</td>\n",
       "      <td>3100</td>\n",
       "      <td>True</td>\n",
       "      <td>Revolving Credit Used</td>\n",
       "      <td>11749</td>\n",
       "      <td>5217</td>\n",
       "    </tr>\n",
       "    <tr>\n",
       "      <th>29999</th>\n",
       "      <td>80000</td>\n",
       "      <td>Male</td>\n",
       "      <td>High School</td>\n",
       "      <td>Married</td>\n",
       "      <td>41</td>\n",
       "      <td>Delay 1 of month</td>\n",
       "      <td>Paid in Full</td>\n",
       "      <td>Revolving Credit Used</td>\n",
       "      <td>Revolving Credit Used</td>\n",
       "      <td>Revolving Credit Used</td>\n",
       "      <td>...</td>\n",
       "      <td>85900</td>\n",
       "      <td>3409</td>\n",
       "      <td>1178</td>\n",
       "      <td>1926</td>\n",
       "      <td>52964</td>\n",
       "      <td>1804</td>\n",
       "      <td>True</td>\n",
       "      <td>Revolving Credit Used</td>\n",
       "      <td>44435</td>\n",
       "      <td>24530</td>\n",
       "    </tr>\n",
       "    <tr>\n",
       "      <th>30000</th>\n",
       "      <td>50000</td>\n",
       "      <td>Male</td>\n",
       "      <td>University</td>\n",
       "      <td>Married</td>\n",
       "      <td>46</td>\n",
       "      <td>Revolving Credit Used</td>\n",
       "      <td>Revolving Credit Used</td>\n",
       "      <td>Revolving Credit Used</td>\n",
       "      <td>Revolving Credit Used</td>\n",
       "      <td>Revolving Credit Used</td>\n",
       "      <td>...</td>\n",
       "      <td>2078</td>\n",
       "      <td>1800</td>\n",
       "      <td>1430</td>\n",
       "      <td>1000</td>\n",
       "      <td>1000</td>\n",
       "      <td>1000</td>\n",
       "      <td>True</td>\n",
       "      <td>Revolving Credit Used</td>\n",
       "      <td>38479</td>\n",
       "      <td>1385</td>\n",
       "    </tr>\n",
       "  </tbody>\n",
       "</table>\n",
       "<p>30000 rows × 27 columns</p>\n",
       "</div>"
      ],
      "text/plain": [
       "       LIMIT_BAL     SEX    EDUCATION MARRIAGE  AGE                  PAY_1  \\\n",
       "ID                                                                           \n",
       "1          20000  Female   University  Married   24      Delay 2 of months   \n",
       "2         120000  Female   University   Single   26           Paid in Full   \n",
       "3          90000  Female   University   Single   34  Revolving Credit Used   \n",
       "4          50000  Female   University  Married   37  Revolving Credit Used   \n",
       "5          50000    Male   University  Married   57           Paid in Full   \n",
       "...          ...     ...          ...      ...  ...                    ...   \n",
       "29996     220000    Male  High School  Married   39  Revolving Credit Used   \n",
       "29997     150000    Male  High School   Single   43           Paid in Full   \n",
       "29998      30000    Male   University   Single   37      Delay 4 of months   \n",
       "29999      80000    Male  High School  Married   41       Delay 1 of month   \n",
       "30000      50000    Male   University  Married   46  Revolving Credit Used   \n",
       "\n",
       "                       PAY_2                  PAY_3                  PAY_4  \\\n",
       "ID                                                                           \n",
       "1          Delay 2 of months           Paid in Full           Paid in Full   \n",
       "2          Delay 2 of months  Revolving Credit Used  Revolving Credit Used   \n",
       "3      Revolving Credit Used  Revolving Credit Used  Revolving Credit Used   \n",
       "4      Revolving Credit Used  Revolving Credit Used  Revolving Credit Used   \n",
       "5      Revolving Credit Used           Paid in Full  Revolving Credit Used   \n",
       "...                      ...                    ...                    ...   \n",
       "29996  Revolving Credit Used  Revolving Credit Used  Revolving Credit Used   \n",
       "29997           Paid in Full           Paid in Full           Paid in Full   \n",
       "29998      Delay 3 of months      Delay 2 of months           Paid in Full   \n",
       "29999           Paid in Full  Revolving Credit Used  Revolving Credit Used   \n",
       "30000  Revolving Credit Used  Revolving Credit Used  Revolving Credit Used   \n",
       "\n",
       "                       PAY_5  ... PAY_AMT1  PAY_AMT2  PAY_AMT3  PAY_AMT4  \\\n",
       "ID                            ...                                          \n",
       "1              No Credit Use  ...        0       689         0         0   \n",
       "2      Revolving Credit Used  ...        0      1000      1000      1000   \n",
       "3      Revolving Credit Used  ...     1518      1500      1000      1000   \n",
       "4      Revolving Credit Used  ...     2000      2019      1200      1100   \n",
       "5      Revolving Credit Used  ...     2000     36681     10000      9000   \n",
       "...                      ...  ...      ...       ...       ...       ...   \n",
       "29996  Revolving Credit Used  ...     8500     20000      5003      3047   \n",
       "29997  Revolving Credit Used  ...     1837      3526      8998       129   \n",
       "29998  Revolving Credit Used  ...        0         0     22000      4200   \n",
       "29999  Revolving Credit Used  ...    85900      3409      1178      1926   \n",
       "30000  Revolving Credit Used  ...     2078      1800      1430      1000   \n",
       "\n",
       "       PAY_AMT5  PAY_AMT6  default_payment_next_month      PAY_MODE_SEVEREST  \\\n",
       "ID                                                                             \n",
       "1             0         0                        True      Delay 2 of months   \n",
       "2             0      2000                        True  Revolving Credit Used   \n",
       "3          1000      5000                       False  Revolving Credit Used   \n",
       "4          1069      1000                       False  Revolving Credit Used   \n",
       "5           689       679                       False  Revolving Credit Used   \n",
       "...         ...       ...                         ...                    ...   \n",
       "29996      5000      1000                       False  Revolving Credit Used   \n",
       "29997         0         0                       False           Paid in Full   \n",
       "29998      2000      3100                        True  Revolving Credit Used   \n",
       "29999     52964      1804                        True  Revolving Credit Used   \n",
       "30000      1000      1000                        True  Revolving Credit Used   \n",
       "\n",
       "       BILL_AMT_MEAN  PAY_AMT_MEAN  \n",
       "ID                                  \n",
       "1               1284           115  \n",
       "2               2846           833  \n",
       "3              16942          1836  \n",
       "4              38556          1398  \n",
       "5              18223          9842  \n",
       "...              ...           ...  \n",
       "29996         120892          7092  \n",
       "29997           3530          2415  \n",
       "29998          11749          5217  \n",
       "29999          44435         24530  \n",
       "30000          38479          1385  \n",
       "\n",
       "[30000 rows x 27 columns]"
      ]
     },
     "execution_count": 15,
     "metadata": {},
     "output_type": "execute_result"
    }
   ],
   "source": [
    "ccd"
   ]
  },
  {
   "cell_type": "markdown",
   "metadata": {},
   "source": []
  }
 ],
 "metadata": {
  "kernelspec": {
   "display_name": "CreditDefaulterClassification",
   "language": "python",
   "name": "creditdefaulterclassification"
  },
  "language_info": {
   "codemirror_mode": {
    "name": "ipython",
    "version": 3
   },
   "file_extension": ".py",
   "mimetype": "text/x-python",
   "name": "python",
   "nbconvert_exporter": "python",
   "pygments_lexer": "ipython3",
   "version": "3.7.7"
  }
 },
 "nbformat": 4,
 "nbformat_minor": 4
}
